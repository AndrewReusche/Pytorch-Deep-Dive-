{
 "cells": [
  {
   "cell_type": "code",
   "execution_count": 1,
   "id": "a7c66459-8106-4ff3-90e3-856259f611b2",
   "metadata": {},
   "outputs": [],
   "source": [
    "import torch\n",
    "\n",
    "x = torch.ones(5)  # input tensor\n",
    "y = torch.zeros(3)  # expected output\n",
    "w = torch.randn(5, 3, requires_grad=True)\n",
    "b = torch.randn(3, requires_grad=True)\n",
    "z = torch.matmul(x, w)+b\n",
    "loss = torch.nn.functional.binary_cross_entropy_with_logits(z, y)"
   ]
  },
  {
   "cell_type": "code",
   "execution_count": 2,
   "id": "bf0b8b7b-cf87-45ee-ad63-ce961ca81647",
   "metadata": {},
   "outputs": [
    {
     "data": {
      "text/plain": [
       "tensor([1., 1., 1., 1., 1.])"
      ]
     },
     "execution_count": 2,
     "metadata": {},
     "output_type": "execute_result"
    }
   ],
   "source": [
    "torch.ones(5) "
   ]
  },
  {
   "cell_type": "code",
   "execution_count": 3,
   "id": "73d4f7ff-4e7e-4e28-982a-e8031a469358",
   "metadata": {},
   "outputs": [
    {
     "data": {
      "text/plain": [
       "tensor([[-1.8347,  1.1429, -1.1189],\n",
       "        [-0.6423, -0.3072,  0.0492],\n",
       "        [ 0.0896,  0.1494, -0.6353],\n",
       "        [-0.7330,  0.7993, -1.0520],\n",
       "        [-0.2979, -0.2766, -0.7528]], requires_grad=True)"
      ]
     },
     "execution_count": 3,
     "metadata": {},
     "output_type": "execute_result"
    }
   ],
   "source": [
    "torch.randn(5, 3, requires_grad=True)"
   ]
  },
  {
   "cell_type": "code",
   "execution_count": 4,
   "id": "0b20efaf-0ca5-43b1-a4d8-f5f09d8b4327",
   "metadata": {},
   "outputs": [
    {
     "data": {
      "text/plain": [
       "tensor([ 1.5023, -1.7972,  0.2184], requires_grad=True)"
      ]
     },
     "execution_count": 4,
     "metadata": {},
     "output_type": "execute_result"
    }
   ],
   "source": [
    "torch.randn(3, requires_grad=True)"
   ]
  },
  {
   "cell_type": "code",
   "execution_count": 5,
   "id": "4ba69c34-b450-4633-ab49-04075dbf0af5",
   "metadata": {},
   "outputs": [
    {
     "data": {
      "text/plain": [
       "tensor([2.0899, 1.4277, 1.4672], grad_fn=<AddBackward0>)"
      ]
     },
     "execution_count": 5,
     "metadata": {},
     "output_type": "execute_result"
    }
   ],
   "source": [
    "torch.matmul(x, w)+b"
   ]
  },
  {
   "cell_type": "code",
   "execution_count": 6,
   "id": "c549a346-8ab0-4d0b-a28e-563d6f6e7bb7",
   "metadata": {},
   "outputs": [
    {
     "name": "stdout",
     "output_type": "stream",
     "text": [
      "Gradient function for z = <AddBackward0 object at 0x103ad5ca0>\n",
      "Gradient function for loss = <BinaryCrossEntropyWithLogitsBackward0 object at 0x103ad5490>\n"
     ]
    }
   ],
   "source": [
    "print(f\"Gradient function for z = {z.grad_fn}\")\n",
    "print(f\"Gradient function for loss = {loss.grad_fn}\")"
   ]
  },
  {
   "cell_type": "markdown",
   "id": "2dde7376-1fe6-4013-80a6-71bf4c687e1b",
   "metadata": {},
   "source": [
    "## computing gradients"
   ]
  },
  {
   "cell_type": "code",
   "execution_count": 7,
   "id": "5325a262-03c9-4464-b946-a3da3cf409d3",
   "metadata": {},
   "outputs": [
    {
     "name": "stdout",
     "output_type": "stream",
     "text": [
      "tensor([[0.2966, 0.2688, 0.2709],\n",
      "        [0.2966, 0.2688, 0.2709],\n",
      "        [0.2966, 0.2688, 0.2709],\n",
      "        [0.2966, 0.2688, 0.2709],\n",
      "        [0.2966, 0.2688, 0.2709]])\n",
      "tensor([0.2966, 0.2688, 0.2709])\n"
     ]
    }
   ],
   "source": [
    "loss.backward()\n",
    "print(w.grad)\n",
    "print(b.grad)"
   ]
  },
  {
   "cell_type": "markdown",
   "id": "c88bfb15-fae0-4344-a2c3-8c7ac807beb3",
   "metadata": {},
   "source": [
    "# disabling gradient tracking "
   ]
  },
  {
   "cell_type": "code",
   "execution_count": 8,
   "id": "d277b7a9-8d7c-4da3-98ae-2f400e186311",
   "metadata": {},
   "outputs": [
    {
     "name": "stdout",
     "output_type": "stream",
     "text": [
      "True\n",
      "False\n"
     ]
    }
   ],
   "source": [
    "z = torch.matmul(x, w)+b\n",
    "print(z.requires_grad)\n",
    "\n",
    "with torch.no_grad():\n",
    "    z = torch.matmul(x, w)+b\n",
    "print(z.requires_grad)"
   ]
  },
  {
   "cell_type": "code",
   "execution_count": 9,
   "id": "f6a0ccbb-912d-4ab5-9b61-0f72719295f6",
   "metadata": {},
   "outputs": [
    {
     "name": "stdout",
     "output_type": "stream",
     "text": [
      "False\n"
     ]
    }
   ],
   "source": [
    "#or \n",
    "\n",
    "z = torch.matmul(x, w)+b\n",
    "z_det = z.detach()\n",
    "print(z_det.requires_grad)"
   ]
  },
  {
   "cell_type": "code",
   "execution_count": 11,
   "id": "394a7c50-3d4b-4ed0-be86-67bcc1c0f4ab",
   "metadata": {},
   "outputs": [
    {
     "data": {
      "text/plain": [
       "'\\nreasons for this:\\n\\nmark parameters in your neiral network as frozen parameters\\n\\nspeed up computations wher you are only doing forward pass, because computations on tensors that \\ndo not track gradients would be more efficient \\n'"
      ]
     },
     "execution_count": 11,
     "metadata": {},
     "output_type": "execute_result"
    }
   ],
   "source": [
    "'''\n",
    "reasons for this:\n",
    "\n",
    "mark parameters in your neiral network as frozen parameters\n",
    "\n",
    "speed up computations wher you are only doing forward pass, because computations on tensors that \n",
    "do not track gradients would be more efficient \n",
    "'''\n",
    "\n"
   ]
  },
  {
   "cell_type": "markdown",
   "id": "113ce93a-d971-4a2a-bc6f-ccc0443c31e0",
   "metadata": {},
   "source": [
    "## more on computational graphs "
   ]
  },
  {
   "cell_type": "markdown",
   "id": "008fade3-ea80-4f66-9089-62f49fd89420",
   "metadata": {},
   "source": [
    "## optional reading: tensor gradients and jacobian products"
   ]
  },
  {
   "cell_type": "code",
   "execution_count": 12,
   "id": "b2225e17-8b06-4131-8d1c-fcd3ba718681",
   "metadata": {},
   "outputs": [
    {
     "name": "stdout",
     "output_type": "stream",
     "text": [
      "First call\n",
      "tensor([[4., 2., 2., 2., 2.],\n",
      "        [2., 4., 2., 2., 2.],\n",
      "        [2., 2., 4., 2., 2.],\n",
      "        [2., 2., 2., 4., 2.]])\n",
      "\n",
      "Second call\n",
      "tensor([[8., 4., 4., 4., 4.],\n",
      "        [4., 8., 4., 4., 4.],\n",
      "        [4., 4., 8., 4., 4.],\n",
      "        [4., 4., 4., 8., 4.]])\n",
      "\n",
      "Call after zeroing gradients\n",
      "tensor([[4., 2., 2., 2., 2.],\n",
      "        [2., 4., 2., 2., 2.],\n",
      "        [2., 2., 4., 2., 2.],\n",
      "        [2., 2., 2., 4., 2.]])\n"
     ]
    }
   ],
   "source": [
    "inp = torch.eye(4, 5, requires_grad=True)\n",
    "out = (inp+1).pow(2).t()\n",
    "out.backward(torch.ones_like(out), retain_graph=True)\n",
    "print(f\"First call\\n{inp.grad}\")\n",
    "out.backward(torch.ones_like(out), retain_graph=True)\n",
    "print(f\"\\nSecond call\\n{inp.grad}\")\n",
    "inp.grad.zero_()\n",
    "out.backward(torch.ones_like(out), retain_graph=True)\n",
    "print(f\"\\nCall after zeroing gradients\\n{inp.grad}\")"
   ]
  },
  {
   "cell_type": "code",
   "execution_count": null,
   "id": "b44541b8-c438-4e9e-a7a1-8a7c19687954",
   "metadata": {},
   "outputs": [],
   "source": []
  }
 ],
 "metadata": {
  "kernelspec": {
   "display_name": "Python 3 (ipykernel)",
   "language": "python",
   "name": "python3"
  },
  "language_info": {
   "codemirror_mode": {
    "name": "ipython",
    "version": 3
   },
   "file_extension": ".py",
   "mimetype": "text/x-python",
   "name": "python",
   "nbconvert_exporter": "python",
   "pygments_lexer": "ipython3",
   "version": "3.8.19"
  }
 },
 "nbformat": 4,
 "nbformat_minor": 5
}
