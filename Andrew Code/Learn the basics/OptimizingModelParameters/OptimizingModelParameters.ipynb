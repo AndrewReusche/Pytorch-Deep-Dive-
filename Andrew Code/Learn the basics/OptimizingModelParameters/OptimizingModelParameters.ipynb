{
 "cells": [
  {
   "cell_type": "markdown",
   "id": "8e7dc5db-eb2f-4b51-911b-b60216c4f0a8",
   "metadata": {},
   "source": [
    "# Optimizing Model Parameters"
   ]
  },
  {
   "cell_type": "markdown",
   "id": "c20d14bc-285c-4dbc-ad5f-e55edd6d8fbc",
   "metadata": {},
   "source": [
    "## prerequesite code "
   ]
  },
  {
   "cell_type": "code",
   "execution_count": 1,
   "id": "1b8660cc-72d0-4f7e-a5a2-7ed70ff397ee",
   "metadata": {},
   "outputs": [
    {
     "name": "stdout",
     "output_type": "stream",
     "text": [
      "Downloading http://fashion-mnist.s3-website.eu-central-1.amazonaws.com/train-images-idx3-ubyte.gz\n",
      "Downloading http://fashion-mnist.s3-website.eu-central-1.amazonaws.com/train-images-idx3-ubyte.gz to data/FashionMNIST/raw/train-images-idx3-ubyte.gz\n"
     ]
    },
    {
     "name": "stderr",
     "output_type": "stream",
     "text": [
      "100%|███████████████████████████████████████████████████████████████████████████| 26421880/26421880 [00:28<00:00, 922722.05it/s]\n"
     ]
    },
    {
     "name": "stdout",
     "output_type": "stream",
     "text": [
      "Extracting data/FashionMNIST/raw/train-images-idx3-ubyte.gz to data/FashionMNIST/raw\n",
      "\n",
      "Downloading http://fashion-mnist.s3-website.eu-central-1.amazonaws.com/train-labels-idx1-ubyte.gz\n",
      "Downloading http://fashion-mnist.s3-website.eu-central-1.amazonaws.com/train-labels-idx1-ubyte.gz to data/FashionMNIST/raw/train-labels-idx1-ubyte.gz\n"
     ]
    },
    {
     "name": "stderr",
     "output_type": "stream",
     "text": [
      "100%|█████████████████████████████████████████████████████████████████████████████████| 29515/29515 [00:00<00:00, 279922.49it/s]\n"
     ]
    },
    {
     "name": "stdout",
     "output_type": "stream",
     "text": [
      "Extracting data/FashionMNIST/raw/train-labels-idx1-ubyte.gz to data/FashionMNIST/raw\n",
      "\n",
      "Downloading http://fashion-mnist.s3-website.eu-central-1.amazonaws.com/t10k-images-idx3-ubyte.gz\n",
      "Downloading http://fashion-mnist.s3-website.eu-central-1.amazonaws.com/t10k-images-idx3-ubyte.gz to data/FashionMNIST/raw/t10k-images-idx3-ubyte.gz\n"
     ]
    },
    {
     "name": "stderr",
     "output_type": "stream",
     "text": [
      "100%|████████████████████████████████████████████████████████████████████████████| 4422102/4422102 [00:00<00:00, 5134309.05it/s]\n"
     ]
    },
    {
     "name": "stdout",
     "output_type": "stream",
     "text": [
      "Extracting data/FashionMNIST/raw/t10k-images-idx3-ubyte.gz to data/FashionMNIST/raw\n",
      "\n",
      "Downloading http://fashion-mnist.s3-website.eu-central-1.amazonaws.com/t10k-labels-idx1-ubyte.gz\n",
      "Downloading http://fashion-mnist.s3-website.eu-central-1.amazonaws.com/t10k-labels-idx1-ubyte.gz to data/FashionMNIST/raw/t10k-labels-idx1-ubyte.gz\n"
     ]
    },
    {
     "name": "stderr",
     "output_type": "stream",
     "text": [
      "100%|██████████████████████████████████████████████████████████████████████████████████| 5148/5148 [00:00<00:00, 3920878.34it/s]"
     ]
    },
    {
     "name": "stdout",
     "output_type": "stream",
     "text": [
      "Extracting data/FashionMNIST/raw/t10k-labels-idx1-ubyte.gz to data/FashionMNIST/raw\n",
      "\n"
     ]
    },
    {
     "name": "stderr",
     "output_type": "stream",
     "text": [
      "\n"
     ]
    }
   ],
   "source": [
    "import torch\n",
    "from torch import nn\n",
    "from torch.utils.data import DataLoader\n",
    "from torchvision import datasets\n",
    "from torchvision.transforms import ToTensor\n",
    "\n",
    "training_data = datasets.FashionMNIST(\n",
    "    root=\"data\",\n",
    "    train=True,\n",
    "    download=True,\n",
    "    transform=ToTensor()\n",
    ")\n",
    "\n",
    "test_data = datasets.FashionMNIST(\n",
    "    root=\"data\",\n",
    "    train=False,\n",
    "    download=True,\n",
    "    transform=ToTensor()\n",
    ")\n",
    "\n",
    "train_dataloader = DataLoader(training_data, batch_size=64)\n",
    "test_dataloader = DataLoader(test_data, batch_size=64)\n",
    "\n",
    "class NeuralNetwork(nn.Module):\n",
    "    def __init__(self):\n",
    "        super().__init__()\n",
    "        self.flatten = nn.Flatten()\n",
    "        self.linear_relu_stack = nn.Sequential(\n",
    "            nn.Linear(28*28, 512),\n",
    "            nn.ReLU(),\n",
    "            nn.Linear(512, 512),\n",
    "            nn.ReLU(),\n",
    "            nn.Linear(512, 10),\n",
    "        )\n",
    "\n",
    "    def forward(self, x):\n",
    "        x = self.flatten(x)\n",
    "        logits = self.linear_relu_stack(x)\n",
    "        return logits\n",
    "\n",
    "model = NeuralNetwork()"
   ]
  },
  {
   "cell_type": "markdown",
   "id": "e99ce0f8-e0b0-401f-aed2-e156f2150baa",
   "metadata": {},
   "source": [
    "## Hyper parameters"
   ]
  },
  {
   "cell_type": "code",
   "execution_count": 2,
   "id": "a98b5a72-01cc-4d1b-b14d-0f3e845f5c7b",
   "metadata": {},
   "outputs": [],
   "source": [
    "'''\n",
    "Number of Epochs - the number of times to iterate over the dataset\n",
    "\n",
    "Batch Size - the number of data samples propagated through the network before the parameters are updated\n",
    "\n",
    "Learning Rate - how much to update models parameters at each batch/epoch. Smaller values \n",
    "yield slow learning speed, while large values may result in unpredictable behavior during training.\n",
    "'''\n",
    "\n",
    "learning_rate = 1e-3\n",
    "batch_size = 64\n",
    "epochs = 5"
   ]
  },
  {
   "cell_type": "markdown",
   "id": "bd7c3193-c139-48b8-85d2-bab4f33c122a",
   "metadata": {},
   "source": [
    "## Optimization loop"
   ]
  },
  {
   "cell_type": "code",
   "execution_count": 3,
   "id": "efcd09e1-7c01-4f16-a8d3-de0ab5ca59f4",
   "metadata": {},
   "outputs": [
    {
     "data": {
      "text/plain": [
       "'\\nOnce we set our hyperparameters, we can then train and optimize our model with an optimization loop. \\nEach iteration of the optimization loop is called an epoch.\\n\\nEach epoch consists of two main parts:\\nThe Train Loop - iterate over the training dataset and try to converge to optimal parameters.\\n\\nThe Validation/Test Loop - iterate over the test dataset to check if model performance is improving.\\n'"
      ]
     },
     "execution_count": 3,
     "metadata": {},
     "output_type": "execute_result"
    }
   ],
   "source": [
    "'''\n",
    "Once we set our hyperparameters, we can then train and optimize our model with an optimization loop. \n",
    "Each iteration of the optimization loop is called an epoch.\n",
    "\n",
    "Each epoch consists of two main parts:\n",
    "The Train Loop - iterate over the training dataset and try to converge to optimal parameters.\n",
    "\n",
    "The Validation/Test Loop - iterate over the test dataset to check if model performance is improving.\n",
    "'''\n",
    "\n"
   ]
  },
  {
   "cell_type": "markdown",
   "id": "d0c300ae-a28d-432f-9307-51cf4973c337",
   "metadata": {},
   "source": [
    "## Loss Function"
   ]
  },
  {
   "cell_type": "code",
   "execution_count": 4,
   "id": "a61f4bad-7443-4b37-8330-a64cc4a2b6cc",
   "metadata": {},
   "outputs": [],
   "source": [
    "# Initialize the loss function\n",
    "loss_fn = nn.CrossEntropyLoss()"
   ]
  },
  {
   "cell_type": "markdown",
   "id": "73b6929c-afac-4f46-8401-f08ceda82fed",
   "metadata": {},
   "source": [
    "## Optimizer"
   ]
  },
  {
   "cell_type": "code",
   "execution_count": 5,
   "id": "a61b4b26-e0a5-4b46-9729-4127a69b68ba",
   "metadata": {},
   "outputs": [],
   "source": [
    "'''\n",
    "We initialize the optimizer by registering the model’s parameters that need to be trained, and passing in the \n",
    "learning rate hyperparameter.\n",
    "\n",
    "'''\n",
    "\n",
    "optimizer = torch.optim.SGD(model.parameters(), lr=learning_rate)"
   ]
  },
  {
   "cell_type": "markdown",
   "id": "8f4bfa85-471b-45c4-b8ca-780ee56a21c3",
   "metadata": {},
   "source": [
    "## Full implementation"
   ]
  },
  {
   "cell_type": "code",
   "execution_count": 7,
   "id": "17898872-0f4c-4b94-bffb-5c8b4884ab1e",
   "metadata": {},
   "outputs": [],
   "source": [
    "def train_loop(dataloader, model, loss_fn, optimizer):\n",
    "    size = len(dataloader.dataset)\n",
    "    # Set the model to training mode - important for batch normalization and dropout layers\n",
    "    # Unnecessary in this situation but added for best practices\n",
    "    model.train()\n",
    "    for batch, (X, y) in enumerate(dataloader):\n",
    "        # Compute prediction and loss\n",
    "        pred = model(X)\n",
    "        loss = loss_fn(pred, y)\n",
    "\n",
    "        # Backpropagation\n",
    "        loss.backward()\n",
    "        optimizer.step()\n",
    "        optimizer.zero_grad()\n",
    "\n",
    "        if batch % 100 == 0:\n",
    "            loss, current = loss.item(), batch * batch_size + len(X)\n",
    "            print(f\"loss: {loss:>7f}  [{current:>5d}/{size:>5d}]\")\n",
    "\n",
    "\n",
    "def test_loop(dataloader, model, loss_fn):\n",
    "    # Set the model to evaluation mode - important for batch normalization and dropout layers\n",
    "    # Unnecessary in this situation but added for best practices\n",
    "    model.eval()\n",
    "    size = len(dataloader.dataset)\n",
    "    num_batches = len(dataloader)\n",
    "    test_loss, correct = 0, 0\n",
    "\n",
    "    # Evaluating the model with torch.no_grad() ensures that no gradients are computed during test mode\n",
    "    # also serves to reduce unnecessary gradient computations and memory usage for tensors with requires_grad=True\n",
    "    with torch.no_grad():\n",
    "        for X, y in dataloader:\n",
    "            pred = model(X)\n",
    "            test_loss += loss_fn(pred, y).item()\n",
    "            correct += (pred.argmax(1) == y).type(torch.float).sum().item()\n",
    "\n",
    "    test_loss /= num_batches\n",
    "    correct /= size\n",
    "    print(f\"Test Error: \\n Accuracy: {(100*correct):>0.1f}%, Avg loss: {test_loss:>8f} \\n\")"
   ]
  },
  {
   "cell_type": "code",
   "execution_count": 8,
   "id": "aaf51ec9-22a5-4f6e-bb25-5f79a009f5d2",
   "metadata": {},
   "outputs": [
    {
     "name": "stdout",
     "output_type": "stream",
     "text": [
      "Epoch 1\n",
      "-------------------------------\n",
      "loss: 2.322438  [   64/60000]\n",
      "loss: 2.306354  [ 6464/60000]\n",
      "loss: 2.281633  [12864/60000]\n",
      "loss: 2.265416  [19264/60000]\n",
      "loss: 2.248285  [25664/60000]\n",
      "loss: 2.225813  [32064/60000]\n",
      "loss: 2.220532  [38464/60000]\n",
      "loss: 2.196877  [44864/60000]\n",
      "loss: 2.192961  [51264/60000]\n",
      "loss: 2.146403  [57664/60000]\n",
      "Test Error: \n",
      " Accuracy: 41.2%, Avg loss: 2.153532 \n",
      "\n",
      "Epoch 2\n",
      "-------------------------------\n",
      "loss: 2.173049  [   64/60000]\n",
      "loss: 2.160128  [ 6464/60000]\n",
      "loss: 2.097641  [12864/60000]\n",
      "loss: 2.107674  [19264/60000]\n",
      "loss: 2.059911  [25664/60000]\n",
      "loss: 2.001401  [32064/60000]\n",
      "loss: 2.022078  [38464/60000]\n",
      "loss: 1.947371  [44864/60000]\n",
      "loss: 1.953545  [51264/60000]\n",
      "loss: 1.871868  [57664/60000]\n",
      "Test Error: \n",
      " Accuracy: 57.7%, Avg loss: 1.877313 \n",
      "\n",
      "Epoch 3\n",
      "-------------------------------\n",
      "loss: 1.915200  [   64/60000]\n",
      "loss: 1.880644  [ 6464/60000]\n",
      "loss: 1.761675  [12864/60000]\n",
      "loss: 1.802409  [19264/60000]\n",
      "loss: 1.697270  [25664/60000]\n",
      "loss: 1.646358  [32064/60000]\n",
      "loss: 1.665446  [38464/60000]\n",
      "loss: 1.570068  [44864/60000]\n",
      "loss: 1.598276  [51264/60000]\n",
      "loss: 1.492233  [57664/60000]\n",
      "Test Error: \n",
      " Accuracy: 62.7%, Avg loss: 1.510856 \n",
      "\n",
      "Epoch 4\n",
      "-------------------------------\n",
      "loss: 1.577290  [   64/60000]\n",
      "loss: 1.541050  [ 6464/60000]\n",
      "loss: 1.393083  [12864/60000]\n",
      "loss: 1.465578  [19264/60000]\n",
      "loss: 1.352227  [25664/60000]\n",
      "loss: 1.343357  [32064/60000]\n",
      "loss: 1.352269  [38464/60000]\n",
      "loss: 1.280524  [44864/60000]\n",
      "loss: 1.318463  [51264/60000]\n",
      "loss: 1.219165  [57664/60000]\n",
      "Test Error: \n",
      " Accuracy: 64.1%, Avg loss: 1.242915 \n",
      "\n",
      "Epoch 5\n",
      "-------------------------------\n",
      "loss: 1.318455  [   64/60000]\n",
      "loss: 1.301236  [ 6464/60000]\n",
      "loss: 1.134938  [12864/60000]\n",
      "loss: 1.242783  [19264/60000]\n",
      "loss: 1.121206  [25664/60000]\n",
      "loss: 1.140519  [32064/60000]\n",
      "loss: 1.155077  [38464/60000]\n",
      "loss: 1.096584  [44864/60000]\n",
      "loss: 1.141112  [51264/60000]\n",
      "loss: 1.056814  [57664/60000]\n",
      "Test Error: \n",
      " Accuracy: 65.2%, Avg loss: 1.074438 \n",
      "\n",
      "Epoch 6\n",
      "-------------------------------\n",
      "loss: 1.143870  [   64/60000]\n",
      "loss: 1.147683  [ 6464/60000]\n",
      "loss: 0.962494  [12864/60000]\n",
      "loss: 1.103092  [19264/60000]\n",
      "loss: 0.977586  [25664/60000]\n",
      "loss: 1.004455  [32064/60000]\n",
      "loss: 1.033516  [38464/60000]\n",
      "loss: 0.981061  [44864/60000]\n",
      "loss: 1.026548  [51264/60000]\n",
      "loss: 0.955918  [57664/60000]\n",
      "Test Error: \n",
      " Accuracy: 66.3%, Avg loss: 0.966590 \n",
      "\n",
      "Epoch 7\n",
      "-------------------------------\n",
      "loss: 1.023998  [   64/60000]\n",
      "loss: 1.048176  [ 6464/60000]\n",
      "loss: 0.845342  [12864/60000]\n",
      "loss: 1.010748  [19264/60000]\n",
      "loss: 0.888175  [25664/60000]\n",
      "loss: 0.910341  [32064/60000]\n",
      "loss: 0.954945  [38464/60000]\n",
      "loss: 0.907151  [44864/60000]\n",
      "loss: 0.949233  [51264/60000]\n",
      "loss: 0.889212  [57664/60000]\n",
      "Test Error: \n",
      " Accuracy: 67.7%, Avg loss: 0.894321 \n",
      "\n",
      "Epoch 8\n",
      "-------------------------------\n",
      "loss: 0.937423  [   64/60000]\n",
      "loss: 0.979997  [ 6464/60000]\n",
      "loss: 0.762751  [12864/60000]\n",
      "loss: 0.946208  [19264/60000]\n",
      "loss: 0.829800  [25664/60000]\n",
      "loss: 0.843002  [32064/60000]\n",
      "loss: 0.900625  [38464/60000]\n",
      "loss: 0.858734  [44864/60000]\n",
      "loss: 0.894698  [51264/60000]\n",
      "loss: 0.842041  [57664/60000]\n",
      "Test Error: \n",
      " Accuracy: 68.9%, Avg loss: 0.843182 \n",
      "\n",
      "Epoch 9\n",
      "-------------------------------\n",
      "loss: 0.871951  [   64/60000]\n",
      "loss: 0.929734  [ 6464/60000]\n",
      "loss: 0.701910  [12864/60000]\n",
      "loss: 0.898860  [19264/60000]\n",
      "loss: 0.788959  [25664/60000]\n",
      "loss: 0.793410  [32064/60000]\n",
      "loss: 0.860061  [38464/60000]\n",
      "loss: 0.825241  [44864/60000]\n",
      "loss: 0.854196  [51264/60000]\n",
      "loss: 0.806324  [57664/60000]\n",
      "Test Error: \n",
      " Accuracy: 70.0%, Avg loss: 0.804780 \n",
      "\n",
      "Epoch 10\n",
      "-------------------------------\n",
      "loss: 0.819824  [   64/60000]\n",
      "loss: 0.889551  [ 6464/60000]\n",
      "loss: 0.654867  [12864/60000]\n",
      "loss: 0.862682  [19264/60000]\n",
      "loss: 0.758399  [25664/60000]\n",
      "loss: 0.755675  [32064/60000]\n",
      "loss: 0.827442  [38464/60000]\n",
      "loss: 0.800509  [44864/60000]\n",
      "loss: 0.822530  [51264/60000]\n",
      "loss: 0.777558  [57664/60000]\n",
      "Test Error: \n",
      " Accuracy: 71.5%, Avg loss: 0.774293 \n",
      "\n",
      "Done!\n"
     ]
    }
   ],
   "source": [
    "loss_fn = nn.CrossEntropyLoss()\n",
    "optimizer = torch.optim.SGD(model.parameters(), lr=learning_rate)\n",
    "\n",
    "epochs = 10\n",
    "for t in range(epochs):\n",
    "    print(f\"Epoch {t+1}\\n-------------------------------\")\n",
    "    train_loop(train_dataloader, model, loss_fn, optimizer)\n",
    "    test_loop(test_dataloader, model, loss_fn)\n",
    "print(\"Done!\")"
   ]
  },
  {
   "cell_type": "code",
   "execution_count": null,
   "id": "a6c5d2ab-bea5-4e71-a335-4e304b3cbc1e",
   "metadata": {},
   "outputs": [],
   "source": []
  }
 ],
 "metadata": {
  "kernelspec": {
   "display_name": "Python 3 (ipykernel)",
   "language": "python",
   "name": "python3"
  },
  "language_info": {
   "codemirror_mode": {
    "name": "ipython",
    "version": 3
   },
   "file_extension": ".py",
   "mimetype": "text/x-python",
   "name": "python",
   "nbconvert_exporter": "python",
   "pygments_lexer": "ipython3",
   "version": "3.8.19"
  }
 },
 "nbformat": 4,
 "nbformat_minor": 5
}
