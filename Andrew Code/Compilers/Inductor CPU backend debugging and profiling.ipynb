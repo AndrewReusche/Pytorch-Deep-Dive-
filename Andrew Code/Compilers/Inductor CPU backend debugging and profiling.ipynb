{
 "cells": [
  {
   "cell_type": "markdown",
   "id": "c190883c-111e-46ce-a281-1e03660e81bc",
   "metadata": {},
   "source": [
    "# Inductor CPU backend debugging and profiling\n",
    "\n",
    "## Overview\n",
    "PyTorch 2.0 introduced the compilation API called torch.compile. This new feature offers a significant speedup over eager mode execution through graph-level optimization powered by the default Inductor backend.\n",
    "\n",
    "This tutorial is intended to provide an in-depth introduction on the debugging and performance profiling on Inductor CPU backend by delving into the intricacies of torch.compile.\n",
    "\n",
    "Meanwhile, you may also find related tutorials about torch.compile around basic usage, comprehensive troubleshooting and GPU-specific knowledge like GPU performance profiling.\n",
    "\n",
    "We will start debugging with a motivating example that triggers compilation issues and accuracy problems by demonstrating the process of debugging to pinpoint the problems.\n",
    "\n",
    "By enabling logging and exploring the underlying generated code, you can learn how to narrow down the failure step by step and finally figure out the route cause.\n",
    "\n",
    "Following that, we will proceed to discuss how to profile the compiled code and, through a performance comparison with eager mode, elaborate on the reasons why torch.compile can provide an additional performance boost compared to its eager counterpart.\n",
    "\n",
    "## Debugging\n",
    "Here is a simple example to run the torch.compile using Inductor and compare its result with eager mode:"
   ]
  },
  {
   "cell_type": "code",
   "execution_count": 1,
   "id": "bbcc5eb8-9c5d-4a79-baa5-3bf6481a971b",
   "metadata": {},
   "outputs": [],
   "source": [
    "import torch\n",
    "\n",
    "def foo1(x1, x2):\n",
    "    a = torch.neg(x1)\n",
    "    b = torch.maximum(x2, a)\n",
    "    y = torch.cat([b], dim=0)\n",
    "    return y\n",
    "\n",
    "x1 = torch.randint(256, (1, 8), dtype=torch.uint8)\n",
    "x2 = torch.randint(256, (8390, 8), dtype=torch.uint8)\n",
    "\n",
    "compiled_foo1 = torch.compile(foo1)\n",
    "result = compiled_foo1(x1, x2)"
   ]
  },
  {
   "cell_type": "markdown",
   "id": "dfe77c21-18b1-4cf2-a278-d5ddcd418369",
   "metadata": {},
   "source": [
    "The correct implementation of neg in the cpp codegen is as follows:"
   ]
  },
  {
   "cell_type": "code",
   "execution_count": 2,
   "id": "fa66cef0-8069-488a-91ea-b0f40ee9b320",
   "metadata": {},
   "outputs": [],
   "source": [
    "def neg1(x):\n",
    "    return f\"decltype({x})(-{x})\""
   ]
  },
  {
   "cell_type": "markdown",
   "id": "dbaab705-1d56-40f5-be94-89ee5789fad7",
   "metadata": {},
   "source": [
    "\n",
    "In order to demonstrate the debugging, we will modify the function to a wrong one later.\n",
    "\n",
    "## Get more logging information\n",
    "No debugging information would be provided if you run this simple example by default. In order to get more useful debugging and logging information, we usually add a TORCH_COMPILE_DEBUG environment variable like below:"
   ]
  },
  {
   "cell_type": "code",
   "execution_count": 3,
   "id": "7f1ae1b6-fe57-4d8a-b201-44d40e031a92",
   "metadata": {},
   "outputs": [
    {
     "ename": "SyntaxError",
     "evalue": "invalid syntax (548576693.py, line 1)",
     "output_type": "error",
     "traceback": [
      "  \u001b[36mCell\u001b[39m\u001b[36m \u001b[39m\u001b[32mIn[3]\u001b[39m\u001b[32m, line 1\u001b[39m\n\u001b[31m    \u001b[39m\u001b[31mTORCH_COMPILE_DEBUG=1 python xx.py\u001b[39m\n                          ^\n\u001b[31mSyntaxError\u001b[39m\u001b[31m:\u001b[39m invalid syntax\n"
     ]
    }
   ],
   "source": [
    "TORCH_COMPILE_DEBUG=1 python xx.py"
   ]
  },
  {
   "cell_type": "markdown",
   "id": "8dff4ab7-1c51-4e84-9364-afcaec87d991",
   "metadata": {},
   "source": [
    "\n",
    "This would print more debug information in the output logs and also dump the intermediate IRs generated during the codegen process. You can find the dumped file paths in the log like below:\n",
    "\n"
   ]
  },
  {
   "cell_type": "code",
   "execution_count": 4,
   "id": "083c4dac-6826-45ae-90b2-af3fb7261cf7",
   "metadata": {},
   "outputs": [
    {
     "ename": "SyntaxError",
     "evalue": "invalid syntax (1588123138.py, line 1)",
     "output_type": "error",
     "traceback": [
      "  \u001b[36mCell\u001b[39m\u001b[36m \u001b[39m\u001b[32mIn[4]\u001b[39m\u001b[32m, line 1\u001b[39m\n\u001b[31m    \u001b[39m\u001b[31mtorch._inductor.debug: [WARNING] model___20 debug trace: /tmp/torchinductor_root/rx/crxfi2ybd7yp5sbj2pnhw33wfhtdw7wumvrobyp5sjvdui5ktjc2.debug\u001b[39m\n                                     ^\n\u001b[31mSyntaxError\u001b[39m\u001b[31m:\u001b[39m invalid syntax\n"
     ]
    }
   ],
   "source": [
    "torch._inductor.debug: [WARNING] model___20 debug trace: /tmp/torchinductor_root/rx/crxfi2ybd7yp5sbj2pnhw33wfhtdw7wumvrobyp5sjvdui5ktjc2.debug"
   ]
  },
  {
   "cell_type": "markdown",
   "id": "dc89ee2a-244d-44b6-a526-94169dd24236",
   "metadata": {},
   "source": [
    "In this directory, the following files are saved for debugging purposes:\n",
    "\n",
    "    File                      Description\n",
    "\n",
    "    fx_graph_runnable.py      Executable FX graph, after decomposition, before pattern match\n",
    "\n",
    "    fx_graph_transformed.py   Transformed FX graph, after pattern match\n",
    "\n",
    "    ir_pre_fusion.txt         Inductor IR before fusion\n",
    "\n",
    "    ir_post_fusion.txt        Inductor IR after fusion\n",
    "\n",
    "    output_code.py            Generated Python code for graph, with C++/Triton kernels\n",
    "\n",
    "\n",
    "Note that fx_graph_runnable.py and output_code.py are both runnable and editable in order to make debugging easier. Here are the main parts of code extracted from the files and we correlate the C++ generated line with the FX code line.\n",
    "\n",
    "fx_graph_runnable:"
   ]
  },
  {
   "cell_type": "code",
   "execution_count": 5,
   "id": "2dd4e38e-9240-4bd8-b6b8-01e206ed6474",
   "metadata": {},
   "outputs": [],
   "source": [
    "def forward1(self, arg0_1, arg1_1):\n",
    "    neg = torch.ops.aten.neg.default(arg0_1);  arg0_1 = None\n",
    "    maximum = torch.ops.aten.maximum.default(arg1_1, neg);  arg1_1 = neg = None\n",
    "    clone = torch.ops.aten.clone.default(maximum);  maximum = None\n",
    "    return (clone,)"
   ]
  },
  {
   "cell_type": "markdown",
   "id": "595461eb-1182-4862-ba32-850575496de9",
   "metadata": {},
   "source": [
    "C++ kernel in output_code:"
   ]
  },
  {
   "cell_type": "code",
   "execution_count": 6,
   "id": "5feab4aa-b42c-47f5-8f87-04ff161e97d7",
   "metadata": {},
   "outputs": [],
   "source": [
    "import torch\n",
    "from torch._inductor.async_compile import AsyncCompile\n",
    "async_compile = AsyncCompile()\n",
    "\n",
    "cpp_fused_cat_maximum_neg_0 = async_compile.cpp('''\n",
    "#include \"/tmp/torchinductor_root/gv/cgv6n5aotqjo5w4vknjibhengeycuattfto532hkxpozszcgxr3x.h\"\n",
    "extern \"C\" void kernel(const unsigned char* in_ptr0,\n",
    "                       const unsigned char* in_ptr1,\n",
    "                       unsigned char* out_ptr0)\n",
    "{\n",
    "    {\n",
    "        #pragma GCC ivdep\n",
    "        for(long i0=static_cast<long>(0L); i0<static_cast<long>(8390L); i0+=static_cast<long>(1L))\n",
    "        {\n",
    "            #pragma GCC ivdep\n",
    "            for(long i1=static_cast<long>(0L); i1<static_cast<long>(8L); i1+=static_cast<long>(1L))\n",
    "            {\n",
    "                auto tmp0 = in_ptr0[static_cast<long>(i1 + (8L*i0))];\n",
    "                auto tmp1 = in_ptr1[static_cast<long>(i1)];\n",
    "                // Corresponding FX code line: neg = torch.ops.aten.neg.default(arg0_1);  arg0_1 = None\n",
    "                auto tmp2 = decltype(tmp1)(-tmp1);\n",
    "                // Corresponding FX code line: maximum = torch.ops.aten.maximum.default(arg1_1, neg);  arg1_1 = neg = None\n",
    "                auto tmp3 = max_propagate_nan(tmp0, tmp2);\n",
    "                // Corresponding FX code line: clone = torch.ops.aten.clone.default(maximum);  maximum = None\n",
    "                out_ptr0[static_cast<long>(i1 + (8L*i0))] = tmp3;\n",
    "            }\n",
    "        }\n",
    "    }\n",
    "}''')"
   ]
  },
  {
   "cell_type": "markdown",
   "id": "415b218c-90e5-4dc8-af7e-a55635c5df57",
   "metadata": {},
   "source": [
    "## Determine component of error\n",
    "When encountering errors or accuracy problems, a straightforward solution to find the bug is to narrow down the problem. The first thing to do is to determine the component where the error occurs. Luckily, it can be simply achieved by changing the backend of torch.compile\n",
    "\n",
    "    Code                                    Description\n",
    "\n",
    "    torch.compile(fn, backend=\"eager\")      Enable Dynamo\n",
    "\n",
    "    torch.compile(fn, backend=\"aot_eager\")  Enable Dynamo + AOT Autograd\n",
    "\n",
    "    torch.compile(fn, backend=\"inductor\")   Enable Dynamo + AOT Autograd + Inductor\n",
    "\n",
    "if the model can successfully run when the backend is set to eager or aot_eager while it fails with inductor, we can narrow down the failure to Inductor.\n",
    "\n",
    "## Compilation error\n",
    "As we know, the evolved chain of graph-level optimization is like:"
   ]
  },
  {
   "cell_type": "code",
   "execution_count": 7,
   "id": "d56dac13-2df3-47d0-a6b7-387e520ebddc",
   "metadata": {},
   "outputs": [
    {
     "ename": "SyntaxError",
     "evalue": "invalid syntax (647826562.py, line 1)",
     "output_type": "error",
     "traceback": [
      "  \u001b[36mCell\u001b[39m\u001b[36m \u001b[39m\u001b[32mIn[7]\u001b[39m\u001b[32m, line 1\u001b[39m\n\u001b[31m    \u001b[39m\u001b[31mtorch.neg (Python) -> torch.ops.aten.neg.default (within FX graph) -> ops.neg (within IR node) -> tmp2 = -tmp1 (within C++ kernel)\u001b[39m\n                       ^\n\u001b[31mSyntaxError\u001b[39m\u001b[31m:\u001b[39m invalid syntax\n"
     ]
    }
   ],
   "source": [
    "torch.neg (Python) -> torch.ops.aten.neg.default (within FX graph) -> ops.neg (within IR node) -> tmp2 = -tmp1 (within C++ kernel)"
   ]
  },
  {
   "cell_type": "markdown",
   "id": "2fa8406b-185c-47f6-9efb-3e20154f472c",
   "metadata": {},
   "source": [
    "If you encounter a compilation error, there is something wrong when compiling C++ kernels in the output code. This type of error indicates that bugs are introduced when lowering IR nodes to output code. The root cause of compilation error is usually shown in the traceback log.\n",
    "\n",
    "For example, the neg function is modified like this:"
   ]
  },
  {
   "cell_type": "code",
   "execution_count": 8,
   "id": "a719a553-2d18-4bf0-a329-ccc112bc1262",
   "metadata": {},
   "outputs": [],
   "source": [
    "def neg2(x):\n",
    "    return f\"-{x}\""
   ]
  },
  {
   "cell_type": "markdown",
   "id": "dfb29d00-2f14-45b0-94f2-fb8d53c8ed59",
   "metadata": {},
   "source": [
    "The logging gives the following compile error with a rather clear reason.\n",
    "\n",
    " torch._dynamo.exc.BackendCompilerFailed: backend='inductor' raised:\n",
    " \n",
    " CppCompileError: C++ compile error\n",
    " \n",
    " /tmp/torchinductor_root/xg/cxga5tk3b4lkwoxyigrtocjp5s7vc5cg2ikuscf6bk6pjqip2bhx.cpp: In function ‘void kernel(const unsigned char*, const unsigned char*, unsigned char*)’:\n",
    " \n",
    " /tmp/torchinductor_root/xg/cxga5tk3b4lkwoxyigrtocjp5s7vc5cg2ikuscf6bk6pjqip2bhx.cpp:17:57: error: no matching function for call to ‘max_propagate_nan(unsigned char&, int&)’\n",
    " \n",
    "   17 |                 auto tmp3 = max_propagate_nan(tmp0, tmp2);\n",
    "   \n",
    "        |                                                         ^\n",
    " \n",
    " In file included from /tmp/torchinductor_root/xg/cxga5tk3b4lkwoxyigrtocjp5s7vc5cg2ikuscf6bk6pjqip2bhx.cpp:2:\n",
    " \n",
    " /tmp/torchinductor_root/gv/cgv6n5aotqjo5w4vknjibhengeycuattfto532hkxpozszcgxr3x.h:27:17: note: candidate: ‘template<class scalar_t> scalar_t max_propagate_nan(scalar_t, scalar_t)’\n",
    "\n",
    " 27 | inline scalar_t max_propagate_nan(scalar_t a, scalar_t b) {\n",
    " \n",
    "      |                 ^~~~~~~~~~~~~~~~~\n",
    " \n",
    " /tmp/torchinductor_root/gv/cgv6n5aotqjo5w4vknjibhengeycuattfto532hkxpozszcgxr3x.h:27:17: note:   template argument deduction/substitution failed:\n",
    "\n",
    "/tmp/torchinductor_root/xg/cxga5tk3b4lkwoxyigrtocjp5s7vc5cg2ikuscf6bk6pjqip2bhx.cpp:17:57: note:   deduced conflicting types for parameter ‘scalar_t’ (‘unsigned char’ and ‘int’)\n",
    "\n",
    " 17 |                 auto tmp3 = max_propagate_nan(tmp0, tmp2);\n",
    " \n",
    "      |                                                         ^\n",
    "\n"
   ]
  },
  {
   "cell_type": "markdown",
   "id": "a843328a-b6b8-4ef4-9a25-711fed1d23b7",
   "metadata": {},
   "source": [
    "Let us also see the corresponding C++ kernel in output code and IR node.\n",
    "\n",
    "C++ kernel:"
   ]
  },
  {
   "cell_type": "code",
   "execution_count": 9,
   "id": "f4bb3b78-cc7b-43ea-9741-75937806ca9a",
   "metadata": {},
   "outputs": [
    {
     "ename": "SyntaxError",
     "evalue": "invalid decimal literal (1464179903.py, line 8)",
     "output_type": "error",
     "traceback": [
      "  \u001b[36mCell\u001b[39m\u001b[36m \u001b[39m\u001b[32mIn[9]\u001b[39m\u001b[32m, line 8\u001b[39m\n\u001b[31m    \u001b[39m\u001b[31mfor(long i0=static_cast<long>(0L); i0<static_cast<long>(8390L); i0+=static_cast<long>(1L))\u001b[39m\n                                  ^\n\u001b[31mSyntaxError\u001b[39m\u001b[31m:\u001b[39m invalid decimal literal\n"
     ]
    }
   ],
   "source": [
    "include \"/tmp/torchinductor_root/gv/cgv6n5aotqjo5w4vknjibhengeycuattfto532hkxpozszcgxr3x.h\"\n",
    "extern \"C\" void kernel(const unsigned char* in_ptr0,\n",
    "                    const unsigned char* in_ptr1,\n",
    "                    unsigned char* out_ptr0)\n",
    "{\n",
    "    {\n",
    "        #pragma GCC ivdep\n",
    "        for(long i0=static_cast<long>(0L); i0<static_cast<long>(8390L); i0+=static_cast<long>(1L))\n",
    "        {\n",
    "            #pragma GCC ivdep\n",
    "            for(long i1=static_cast<long>(0L); i1<static_cast<long>(8L); i1+=static_cast<long>(1L))\n",
    "            {\n",
    "                auto tmp0 = in_ptr0[static_cast<long>(i1 + (8L*i0))];\n",
    "                auto tmp1 = in_ptr1[static_cast<long>(i1)];\n",
    "                auto tmp2 = -tmp1;\n",
    "                auto tmp3 = max_propagate_nan(tmp0, tmp2);\n",
    "                out_ptr0[static_cast<long>(i1 + (8L*i0))] = tmp3;\n",
    "            }\n",
    "        }\n",
    "    }\n",
    "}"
   ]
  },
  {
   "cell_type": "markdown",
   "id": "7484102f-8a46-4224-a01e-ced869883ca9",
   "metadata": {},
   "source": [
    "IR node:"
   ]
  },
  {
   "cell_type": "code",
   "execution_count": 10,
   "id": "5e8fd18f-c23c-4b45-8e20-afe2ef0c0f13",
   "metadata": {},
   "outputs": [
    {
     "ename": "SyntaxError",
     "evalue": "invalid syntax (622901697.py, line 4)",
     "output_type": "error",
     "traceback": [
      "  \u001b[36mCell\u001b[39m\u001b[36m \u001b[39m\u001b[32mIn[10]\u001b[39m\u001b[32m, line 4\u001b[39m\n\u001b[31m    \u001b[39m\u001b[31mbuf0.met_dependencies =\u001b[39m\n                           ^\n\u001b[31mSyntaxError\u001b[39m\u001b[31m:\u001b[39m invalid syntax\n"
     ]
    }
   ],
   "source": [
    "buf0: SchedulerNode(ComputedBuffer)\n",
    "buf0.writes = [MemoryDep('buf0', c0, {c0: 67120})]\n",
    "buf0.unmet_dependencies = []\n",
    "buf0.met_dependencies =\n",
    "    [   MemoryDep('arg0_1', c1, {c0: 8390, c1: 8}),\n",
    "        MemoryDep('arg1_1', c0, {c0: 67120})]\n",
    "buf0.users = [NodeUser(node=OUTPUT, can_inplace=False)]\n",
    "buf0.group.device = cpu\n",
    "buf0.group.iteration = ((8390, 8), ())\n",
    "buf0.sizes = ([8390, 8], [])\n",
    "class buf0_loop_body:\n",
    "    var_ranges = {z0: 8390, z1: 8}\n",
    "    index0 = 8*z0 + z1\n",
    "    index1 = z1\n",
    "    def body(self, ops):\n",
    "        get_index = self.get_index('index0')\n",
    "        load = ops.load('arg1_1', get_index)\n",
    "        get_index_1 = self.get_index('index1')\n",
    "        load_1 = ops.load('arg0_1', get_index_1)\n",
    "        neg = ops.neg(load_1)\n",
    "        maximum = ops.maximum(load, neg)\n",
    "        get_index_2 = self.get_index('index0')\n",
    "        store = ops.store('buf0', get_index_2, maximum, None)\n",
    "        return store"
   ]
  },
  {
   "cell_type": "markdown",
   "id": "58a35cc0-999b-4f6a-a499-497bfe0cc01e",
   "metadata": {},
   "source": [
    "According to the traceback logging, the compilation error is caused by the data type inconsistency of max_propagate_nan’s inputs. By checking the C++ kernel, we know that tmp2 is no longer long after doing - as tmp0 is long. We can easily match - and max_propagate_nan in C++ kernel with ops.neg and ops.maximum in IR node respectively.\n",
    "\n",
    "Now we successfully find that the root cause is the implementation of ops.neg in cpp codegen, which silently changes the data type when doing neg.\n",
    "\n",
    "## Accuracy debugging\n",
    "Otherwise, if the model runs with other errors or accuracy problem, you can use the PyTorch debugging tool called Minifier.\n",
    "\n",
    "The core idea of Minifier is to keep removing the nodes and inputs of graph until finding the minimal graph with problem. It helps to automatically generate a minified problematic graph through 4 strategies: truncating suffix, delta debugging, eliminating dead code and removing unused inputs.\n",
    "\n",
    "We will now show the debugging process for the accuracy problem with the help of Minifer. The accuracy problem refers to the case where the outputs of backends eager and inductor are different.\n",
    "\n",
    "For instance, we modify the example like this:"
   ]
  },
  {
   "cell_type": "code",
   "execution_count": 11,
   "id": "ef1b2ca4-99f0-498e-bef3-929d06fcc77a",
   "metadata": {},
   "outputs": [],
   "source": [
    "from torch._dynamo.utils import same\n",
    "\n",
    "def foo2(x1, x2):\n",
    "    a = torch.neg(x1)\n",
    "    b = torch.maximum(x2, a)\n",
    "    y = torch.cat([b], dim=0)\n",
    "    return y\n",
    "\n",
    "x1 = torch.randn((1, 8), dtype=torch.float32)\n",
    "x2 = torch.randn((8390, 8), dtype=torch.float32)\n",
    "\n",
    "expected_result = foo2(x1, x2)\n",
    "\n",
    "compiled_foo2 = torch.compile(foo2)\n",
    "actual_result = compiled_foo2(x1, x2)\n",
    "\n",
    "assert same(expected_result, actual_result) == True"
   ]
  },
  {
   "cell_type": "markdown",
   "id": "057cc2c6-61ed-4fcf-8483-52cec9f7a300",
   "metadata": {},
   "source": [
    "And also modify the neg function:"
   ]
  },
  {
   "cell_type": "code",
   "execution_count": 12,
   "id": "d9745fb1-e576-4626-b9ec-5772eb343658",
   "metadata": {},
   "outputs": [],
   "source": [
    "def neg3(x):\n",
    "    return f\"decltype({x})(2 * {x})\""
   ]
  },
  {
   "cell_type": "markdown",
   "id": "e472d00f-c5bf-4341-8c3b-c291fd4d3bd8",
   "metadata": {},
   "source": [
    "An accuracy problem would be raised as follows:"
   ]
  },
  {
   "cell_type": "code",
   "execution_count": 13,
   "id": "d33b9ce9-f240-4fec-b32e-490d56e34d03",
   "metadata": {},
   "outputs": [
    {
     "ename": "SyntaxError",
     "evalue": "invalid syntax (2403059582.py, line 1)",
     "output_type": "error",
     "traceback": [
      "  \u001b[36mCell\u001b[39m\u001b[36m \u001b[39m\u001b[32mIn[13]\u001b[39m\u001b[32m, line 1\u001b[39m\n\u001b[31m    \u001b[39m\u001b[31mtorch._dynamo.utils: [ERROR] Accuracy failed: allclose not within tol=0.0001\u001b[39m\n                                 ^\n\u001b[31mSyntaxError\u001b[39m\u001b[31m:\u001b[39m invalid syntax\n"
     ]
    }
   ],
   "source": [
    "torch._dynamo.utils: [ERROR] Accuracy failed: allclose not within tol=0.0001\n",
    "Traceback (most recent call last):\n",
    "  File \"test_script.py\", line 18, in <module>\n",
    "    assert same(expected_result, actual_result) == True\n",
    "AssertionError"
   ]
  },
  {
   "cell_type": "markdown",
   "id": "318f890f-202e-47d4-8dda-478a2cfcaa51",
   "metadata": {},
   "source": [
    "To debug an accuracy problem with Minifier, two environment variables are needed:"
   ]
  },
  {
   "cell_type": "code",
   "execution_count": 14,
   "id": "dca8f986-027b-46c8-b848-5bc13e60e5b9",
   "metadata": {},
   "outputs": [
    {
     "ename": "SyntaxError",
     "evalue": "invalid syntax (794338748.py, line 1)",
     "output_type": "error",
     "traceback": [
      "  \u001b[36mCell\u001b[39m\u001b[36m \u001b[39m\u001b[32mIn[14]\u001b[39m\u001b[32m, line 1\u001b[39m\n\u001b[31m    \u001b[39m\u001b[31mTORCHDYNAMO_REPRO_AFTER=\"aot\" TORCHDYNAMO_REPRO_LEVEL=4 python xx.py\u001b[39m\n                                  ^\n\u001b[31mSyntaxError\u001b[39m\u001b[31m:\u001b[39m invalid syntax\n"
     ]
    }
   ],
   "source": [
    "TORCHDYNAMO_REPRO_AFTER=\"aot\" TORCHDYNAMO_REPRO_LEVEL=4 python xx.py"
   ]
  },
  {
   "cell_type": "markdown",
   "id": "6e24954f-9242-4a37-8326-fce99497ee14",
   "metadata": {},
   "source": [
    "Which gives us logging information that demonstrates the steps of minifying:\n",
    "\n"
   ]
  },
  {
   "cell_type": "code",
   "execution_count": 15,
   "id": "db4a3124-e33d-44da-a05b-7629d974e095",
   "metadata": {},
   "outputs": [
    {
     "ename": "SyntaxError",
     "evalue": "invalid syntax (2158022771.py, line 1)",
     "output_type": "error",
     "traceback": [
      "  \u001b[36mCell\u001b[39m\u001b[36m \u001b[39m\u001b[32mIn[15]\u001b[39m\u001b[32m, line 1\u001b[39m\n\u001b[31m    \u001b[39m\u001b[31mStarted off with 6 nodes\u001b[39m\n            ^\n\u001b[31mSyntaxError\u001b[39m\u001b[31m:\u001b[39m invalid syntax\n"
     ]
    }
   ],
   "source": [
    "Started off with 6 nodes\n",
    "\n",
    "Trying granularity 2\n",
    "Strategy: Truncate suffix (G: 2) (6 nodes, 2 inputs)\n",
    "SUCCESS: Went from 6 to 4 nodes\n",
    "\n",
    "Trying granularity 4\n",
    "Strategy: Remove unused inputs (G: 4) (4 nodes, 2 inputs)\n",
    "SUCCESS: Went from 4 to 3 nodes"
   ]
  },
  {
   "cell_type": "markdown",
   "id": "05c9ad60-a0da-408c-9f47-add2a6744d78",
   "metadata": {},
   "source": [
    "After running, we get the final minified graph with the target node neg:"
   ]
  },
  {
   "cell_type": "code",
   "execution_count": 16,
   "id": "d65c018e-0f93-4276-b788-fc4ce00d2e90",
   "metadata": {},
   "outputs": [],
   "source": [
    "def forward2(self, arg0_1):\n",
    "    neg = torch.ops.aten.neg.default(arg0_1);  arg0_1 = None\n",
    "    return (neg,)"
   ]
  },
  {
   "cell_type": "markdown",
   "id": "a87df0c7-2fe2-4d86-a0c9-df40fca95d1d",
   "metadata": {},
   "source": [
    "For more usage details about Minifier, please refer to Troubleshooting.\n",
    "\n"
   ]
  },
  {
   "cell_type": "markdown",
   "id": "969396dc-be10-4725-b118-089d47ee4d02",
   "metadata": {},
   "source": [
    "## Performance profiling\n",
    "Within this section, we will demonstrate the process of conducting performance analysis for a model that has been compiled using the Inductor CPU backend. In the example below, we benchmark a Hugging Face Transformer model MobileBertForQuestionAnswering with both the eager mode and the Inductor graph mode. The execution time and the speedup ratio of Inductor are printed after the benchmark. We use Intel(R) Xeon(R) Platinum 8358 CPU @ 2.60GHz and run benchmark on the first socket to demonstrate the optimization within this section. We set following environment variable as a best practice to benchmark on Intel(R) CPU."
   ]
  },
  {
   "cell_type": "code",
   "execution_count": 17,
   "id": "7047ca0d-c498-467e-9a24-81ca6410fa3b",
   "metadata": {},
   "outputs": [
    {
     "ename": "SyntaxError",
     "evalue": "invalid syntax (1729557296.py, line 1)",
     "output_type": "error",
     "traceback": [
      "  \u001b[36mCell\u001b[39m\u001b[36m \u001b[39m\u001b[32mIn[17]\u001b[39m\u001b[32m, line 1\u001b[39m\n\u001b[31m    \u001b[39m\u001b[31mexport KMP_BLOCKTIME=1\u001b[39m\n           ^\n\u001b[31mSyntaxError\u001b[39m\u001b[31m:\u001b[39m invalid syntax\n"
     ]
    }
   ],
   "source": [
    "export KMP_BLOCKTIME=1\n",
    "export KMP_SETTINGS=1\n",
    "export KMP_AFFINITY=granularity=fine,compact,1,0\n",
    "export LD_PRELOAD=${CONDA_PREFIX:-\"$(dirname $(which conda))/../\"}/lib/libiomp5.so:${CONDA_PREFIX:-\"$(dirname $(which conda))/../\"}/lib/libjemalloc.so\n",
    "export MALLOC_CONF=\"oversize_threshold:1,background_thread:true,metadata_thp:auto,dirty_decay_ms:-1,muzzy_decay_ms:-1\"\n",
    "numactl -C 0-31 -m 0 python bench.py"
   ]
  },
  {
   "cell_type": "code",
   "execution_count": 20,
   "id": "c459cbfc-f33f-49cd-b1a4-d3f1fa361f97",
   "metadata": {},
   "outputs": [
    {
     "name": "stdout",
     "output_type": "stream",
     "text": [
      "/opt/anaconda3/envs/torch/bin/python\n"
     ]
    }
   ],
   "source": [
    "import sys\n",
    "print(sys.executable)\n"
   ]
  },
  {
   "cell_type": "code",
   "execution_count": 21,
   "id": "c90d9592-0dac-476e-aaf1-d7c427f1380e",
   "metadata": {},
   "outputs": [
    {
     "name": "stdout",
     "output_type": "stream",
     "text": [
      "Requirement already satisfied: transformers in /opt/anaconda3/envs/my_py_3_8_5_env/lib/python3.8/site-packages (4.46.3)\n",
      "Requirement already satisfied: filelock in /opt/anaconda3/envs/my_py_3_8_5_env/lib/python3.8/site-packages (from transformers) (3.16.1)\n",
      "Requirement already satisfied: huggingface-hub<1.0,>=0.23.2 in /opt/anaconda3/envs/my_py_3_8_5_env/lib/python3.8/site-packages (from transformers) (0.35.3)\n",
      "Requirement already satisfied: numpy>=1.17 in /opt/anaconda3/envs/my_py_3_8_5_env/lib/python3.8/site-packages (from transformers) (1.24.3)\n",
      "Requirement already satisfied: packaging>=20.0 in /opt/anaconda3/envs/my_py_3_8_5_env/lib/python3.8/site-packages (from transformers) (23.2)\n",
      "Requirement already satisfied: pyyaml>=5.1 in /opt/anaconda3/envs/my_py_3_8_5_env/lib/python3.8/site-packages (from transformers) (6.0.1)\n",
      "Requirement already satisfied: regex!=2019.12.17 in /opt/anaconda3/envs/my_py_3_8_5_env/lib/python3.8/site-packages (from transformers) (2024.11.6)\n",
      "Requirement already satisfied: requests in /opt/anaconda3/envs/my_py_3_8_5_env/lib/python3.8/site-packages (from transformers) (2.31.0)\n",
      "Requirement already satisfied: tokenizers<0.21,>=0.20 in /opt/anaconda3/envs/my_py_3_8_5_env/lib/python3.8/site-packages (from transformers) (0.20.3)\n",
      "Requirement already satisfied: safetensors>=0.4.1 in /opt/anaconda3/envs/my_py_3_8_5_env/lib/python3.8/site-packages (from transformers) (0.5.3)\n",
      "Requirement already satisfied: tqdm>=4.27 in /opt/anaconda3/envs/my_py_3_8_5_env/lib/python3.8/site-packages (from transformers) (4.67.1)\n",
      "Requirement already satisfied: fsspec>=2023.5.0 in /opt/anaconda3/envs/my_py_3_8_5_env/lib/python3.8/site-packages (from huggingface-hub<1.0,>=0.23.2->transformers) (2025.3.0)\n",
      "Requirement already satisfied: typing-extensions>=3.7.4.3 in /opt/anaconda3/envs/my_py_3_8_5_env/lib/python3.8/site-packages (from huggingface-hub<1.0,>=0.23.2->transformers) (4.12.2)\n",
      "Requirement already satisfied: hf-xet<2.0.0,>=1.1.3 in /opt/anaconda3/envs/my_py_3_8_5_env/lib/python3.8/site-packages (from huggingface-hub<1.0,>=0.23.2->transformers) (1.1.10)\n",
      "Requirement already satisfied: charset-normalizer<4,>=2 in /opt/anaconda3/envs/my_py_3_8_5_env/lib/python3.8/site-packages (from requests->transformers) (2.0.4)\n",
      "Requirement already satisfied: idna<4,>=2.5 in /opt/anaconda3/envs/my_py_3_8_5_env/lib/python3.8/site-packages (from requests->transformers) (3.4)\n",
      "Requirement already satisfied: urllib3<3,>=1.21.1 in /opt/anaconda3/envs/my_py_3_8_5_env/lib/python3.8/site-packages (from requests->transformers) (2.1.0)\n",
      "Requirement already satisfied: certifi>=2017.4.17 in /opt/anaconda3/envs/my_py_3_8_5_env/lib/python3.8/site-packages (from requests->transformers) (2024.8.30)\n",
      "Collecting transformers\n",
      "  Downloading transformers-4.57.0-py3-none-any.whl.metadata (41 kB)\n",
      "Requirement already satisfied: filelock in /opt/anaconda3/envs/torch/lib/python3.12/site-packages (from transformers) (3.19.1)\n",
      "Collecting huggingface-hub<1.0,>=0.34.0 (from transformers)\n",
      "  Using cached huggingface_hub-0.35.3-py3-none-any.whl.metadata (14 kB)\n",
      "Requirement already satisfied: numpy>=1.17 in /opt/anaconda3/envs/torch/lib/python3.12/site-packages (from transformers) (2.3.3)\n",
      "Requirement already satisfied: packaging>=20.0 in /opt/anaconda3/envs/torch/lib/python3.12/site-packages (from transformers) (25.0)\n",
      "Requirement already satisfied: pyyaml>=5.1 in /opt/anaconda3/envs/torch/lib/python3.12/site-packages (from transformers) (6.0.2)\n",
      "Collecting regex!=2019.12.17 (from transformers)\n",
      "  Downloading regex-2025.9.18-cp312-cp312-macosx_11_0_arm64.whl.metadata (40 kB)\n",
      "Requirement already satisfied: requests in /opt/anaconda3/envs/torch/lib/python3.12/site-packages (from transformers) (2.32.5)\n",
      "Collecting tokenizers<=0.23.0,>=0.22.0 (from transformers)\n",
      "  Downloading tokenizers-0.22.1-cp39-abi3-macosx_11_0_arm64.whl.metadata (6.8 kB)\n",
      "Collecting safetensors>=0.4.3 (from transformers)\n",
      "  Downloading safetensors-0.6.2-cp38-abi3-macosx_11_0_arm64.whl.metadata (4.1 kB)\n",
      "Collecting tqdm>=4.27 (from transformers)\n",
      "  Using cached tqdm-4.67.1-py3-none-any.whl.metadata (57 kB)\n",
      "Requirement already satisfied: fsspec>=2023.5.0 in /opt/anaconda3/envs/torch/lib/python3.12/site-packages (from huggingface-hub<1.0,>=0.34.0->transformers) (2025.9.0)\n",
      "Requirement already satisfied: typing-extensions>=3.7.4.3 in /opt/anaconda3/envs/torch/lib/python3.12/site-packages (from huggingface-hub<1.0,>=0.34.0->transformers) (4.15.0)\n",
      "Collecting hf-xet<2.0.0,>=1.1.3 (from huggingface-hub<1.0,>=0.34.0->transformers)\n",
      "  Using cached hf_xet-1.1.10-cp37-abi3-macosx_11_0_arm64.whl.metadata (4.7 kB)\n",
      "Requirement already satisfied: charset_normalizer<4,>=2 in /opt/anaconda3/envs/torch/lib/python3.12/site-packages (from requests->transformers) (3.4.3)\n",
      "Requirement already satisfied: idna<4,>=2.5 in /opt/anaconda3/envs/torch/lib/python3.12/site-packages (from requests->transformers) (3.10)\n",
      "Requirement already satisfied: urllib3<3,>=1.21.1 in /opt/anaconda3/envs/torch/lib/python3.12/site-packages (from requests->transformers) (2.5.0)\n",
      "Requirement already satisfied: certifi>=2017.4.17 in /opt/anaconda3/envs/torch/lib/python3.12/site-packages (from requests->transformers) (2025.8.3)\n",
      "Downloading transformers-4.57.0-py3-none-any.whl (12.0 MB)\n",
      "\u001b[2K   \u001b[90m━━━━━━━━━━━━━━━━━━━━━━━━━━━━━━━━━━━━━━━━\u001b[0m \u001b[32m12.0/12.0 MB\u001b[0m \u001b[31m1.4 MB/s\u001b[0m  \u001b[33m0:00:08\u001b[0mm0:00:01\u001b[0m00:01\u001b[0m\n",
      "\u001b[?25hUsing cached huggingface_hub-0.35.3-py3-none-any.whl (564 kB)\n",
      "Using cached hf_xet-1.1.10-cp37-abi3-macosx_11_0_arm64.whl (2.6 MB)\n",
      "Downloading tokenizers-0.22.1-cp39-abi3-macosx_11_0_arm64.whl (2.9 MB)\n",
      "\u001b[2K   \u001b[90m━━━━━━━━━━━━━━━━━━━━━━━━━━━━━━━━━━━━━━━━\u001b[0m \u001b[32m2.9/2.9 MB\u001b[0m \u001b[31m986.1 kB/s\u001b[0m  \u001b[33m0:00:03\u001b[0mta \u001b[36m0:00:01\u001b[0m\n",
      "\u001b[?25hDownloading regex-2025.9.18-cp312-cp312-macosx_11_0_arm64.whl (287 kB)\n",
      "Downloading safetensors-0.6.2-cp38-abi3-macosx_11_0_arm64.whl (432 kB)\n",
      "Using cached tqdm-4.67.1-py3-none-any.whl (78 kB)\n",
      "Installing collected packages: tqdm, safetensors, regex, hf-xet, huggingface-hub, tokenizers, transformers\n",
      "\u001b[2K   \u001b[90m━━━━━━━━━━━━━━━━━━━━━━━━━━━━━━━━━━━━━━━━\u001b[0m \u001b[32m7/7\u001b[0m [transformers][0m [transformers]ub]\n",
      "\u001b[1A\u001b[2KSuccessfully installed hf-xet-1.1.10 huggingface-hub-0.35.3 regex-2025.9.18 safetensors-0.6.2 tokenizers-0.22.1 tqdm-4.67.1 transformers-4.57.0\n"
     ]
    }
   ],
   "source": [
    "!pip install transformers\n",
    "! /opt/anaconda3/envs/torch/bin/python -m pip install transformers"
   ]
  },
  {
   "cell_type": "code",
   "execution_count": 22,
   "id": "c832efed-e907-4a48-880d-ab790d654518",
   "metadata": {},
   "outputs": [
    {
     "name": "stderr",
     "output_type": "stream",
     "text": [
      "/opt/anaconda3/envs/torch/lib/python3.12/site-packages/tqdm/auto.py:21: TqdmWarning: IProgress not found. Please update jupyter and ipywidgets. See https://ipywidgets.readthedocs.io/en/stable/user_install.html\n",
      "  from .autonotebook import tqdm as notebook_tqdm\n"
     ]
    },
    {
     "name": "stdout",
     "output_type": "stream",
     "text": [
      "4.57.0\n"
     ]
    }
   ],
   "source": [
    "import transformers\n",
    "print(transformers.__version__)"
   ]
  },
  {
   "cell_type": "code",
   "execution_count": 25,
   "id": "f8ce32ed-2a93-4e66-83cb-553c2400f3d9",
   "metadata": {},
   "outputs": [
    {
     "name": "stdout",
     "output_type": "stream",
     "text": [
      "eager use: 1772.3319841828197 ms/iter\n",
      "inductor use: 976.4418208412826 ms/iter\n",
      "speed up ratio: 1.815092252660598\n"
     ]
    }
   ],
   "source": [
    "# bench.py\n",
    "from transformers import MobileBertForQuestionAnswering\n",
    "# Initialize an eager model\n",
    "model = MobileBertForQuestionAnswering.from_pretrained(\"csarron/mobilebert-uncased-squad-v2\")\n",
    "seq_length = 128\n",
    "bs = 128\n",
    "vocab_size = model.config.vocab_size\n",
    "input = torch.randint(0, vocab_size, (bs, seq_length), dtype=torch.int64)\n",
    "input_dict = {\"input_ids\": input}\n",
    "\n",
    "# Initialize the inductor model\n",
    "compiled_model = torch.compile(model)\n",
    "with torch.no_grad():\n",
    "    compiled_model(**input_dict)\n",
    "\n",
    "NUM_ITERS=50\n",
    "import timeit\n",
    "with torch.no_grad():\n",
    "    # warmup\n",
    "    for _ in range(10):\n",
    "        model(**input_dict)\n",
    "    eager_t = timeit.timeit(\"model(**input_dict)\", number=NUM_ITERS, globals=globals())\n",
    "\n",
    "with torch.no_grad():\n",
    "    # warmup\n",
    "    for _ in range(10):\n",
    "        compiled_model(**input_dict)\n",
    "    inductor_t = timeit.timeit(\"compiled_model(**input_dict)\", number=NUM_ITERS, globals=globals())\n",
    "print(f\"eager use: {eager_t * 1000 / NUM_ITERS} ms/iter\")\n",
    "print(f\"inductor use: {inductor_t * 1000 / NUM_ITERS} ms/iter\")\n",
    "print(f\"speed up ratio: {eager_t / inductor_t}\")"
   ]
  },
  {
   "cell_type": "markdown",
   "id": "29d935c8-ba8c-4747-895a-c410b4b96310",
   "metadata": {},
   "source": [
    "In our own testing, we find the Inductor CPU backend speed up the model by around 2.355x.\n",
    "\n",
    "Next, let’s dive deep into the performance at the operation level to understand where the speed-up comes from. Pytorch Profiler is a good tool to help us. Inductor CPU backend has the support to report the time of the fusion kernels to the profiler with the enable_kernel_profile configuration option:"
   ]
  },
  {
   "cell_type": "code",
   "execution_count": 26,
   "id": "6a3065a3-ea97-4e49-a00f-655116d450ac",
   "metadata": {},
   "outputs": [],
   "source": [
    "from torch._inductor import config\n",
    "config.cpp.enable_kernel_profile = True"
   ]
  },
  {
   "cell_type": "markdown",
   "id": "c9bdd1fc-4c39-475c-a3c0-2f3f6647a5b3",
   "metadata": {},
   "source": [
    "Following the steps in Pytorch Profiler We are able to get the profiling table and trace files."
   ]
  },
  {
   "cell_type": "code",
   "execution_count": 30,
   "id": "e811e096-a889-45ec-8d12-d0aa8f55dc16",
   "metadata": {},
   "outputs": [],
   "source": [
    "#make the directory\n",
    "import os\n",
    "os.makedirs(RESULT_DIR, exist_ok=True)"
   ]
  },
  {
   "cell_type": "code",
   "execution_count": 31,
   "id": "8be568f8-dd8a-4c8c-9690-e4a353115c6f",
   "metadata": {},
   "outputs": [
    {
     "name": "stdout",
     "output_type": "stream",
     "text": [
      "drwxr-xr-x  2 andrewreusche  staff  64 Oct  7 21:43 \u001b[34m./prof_trace\u001b[m\u001b[m/\n"
     ]
    }
   ],
   "source": [
    "ls -ld ./prof_trace"
   ]
  },
  {
   "cell_type": "code",
   "execution_count": 32,
   "id": "4d91d6ba-a981-448c-b7f5-e1bb671d6c24",
   "metadata": {},
   "outputs": [],
   "source": [
    "# bench.py\n",
    "from torch.profiler import profile, schedule, ProfilerActivity\n",
    "RESULT_DIR = \"./prof_trace\"\n",
    "my_schedule = schedule(\n",
    "    skip_first=10,\n",
    "    wait=5,\n",
    "    warmup=5,\n",
    "    active=1,\n",
    "    repeat=5)\n",
    "\n",
    "def trace_handler(p):\n",
    "    output = p.key_averages().table(sort_by=\"self_cpu_time_total\", row_limit=20)\n",
    "    # print(output)\n",
    "    p.export_chrome_trace(f\"{RESULT_DIR}/{p.step_num}.json\")\n",
    "\n",
    "for _ in range(10):\n",
    "    model(**input_dict)  # compiled_model(**input_dict) to get inductor model profiling\n",
    "\n",
    "total = 0\n",
    "with profile(\n",
    "    activities=[ProfilerActivity.CPU],\n",
    "    schedule=my_schedule,\n",
    "    on_trace_ready=trace_handler\n",
    ") as p:\n",
    "    for _ in range(50):\n",
    "        model(**input_dict)  # compiled_model(**input_dict) to get inductor model profiling\n",
    "        p.step()"
   ]
  },
  {
   "cell_type": "markdown",
   "id": "2eab00dc-cc30-4913-a3d6-a16b86eb2725",
   "metadata": {},
   "source": [
    "We get the following performance profiling table for the eager-mode model (omitting some columns):\n",
    "\n"
   ]
  },
  {
   "cell_type": "code",
   "execution_count": 34,
   "id": "41edc30e-0862-4ba5-a5e4-27c0f2f3d5f7",
   "metadata": {},
   "outputs": [
    {
     "ename": "IndentationError",
     "evalue": "unindent does not match any outer indentation level (<string>, line 8)",
     "output_type": "error",
     "traceback": [
      "  \u001b[36mFile \u001b[39m\u001b[32m<string>:8\u001b[39m\n\u001b[31m    \u001b[39m\u001b[31maten::clamp_min         8.81%      71.444ms            96\u001b[39m\n                                                             ^\n\u001b[31mIndentationError\u001b[39m\u001b[31m:\u001b[39m unindent does not match any outer indentation level\n"
     ]
    }
   ],
   "source": [
    "-------------------------  ------------  ------------  ------------\n",
    "                     Name   CPU total %     CPU total    # of Calls\n",
    "-------------------------  ------------  ------------  ------------\n",
    "              aten::addmm        45.73%     370.814ms           362\n",
    "                aten::add        19.89%     161.276ms           363\n",
    "              aten::copy_        14.97%     121.416ms           488\n",
    "                aten::mul         9.02%      73.154ms           194\n",
    "          aten::clamp_min         8.81%      71.444ms            96\n",
    "                aten::bmm         5.46%      44.258ms            48\n",
    "            ProfilerStep*       100.00%     810.920ms             1\n",
    "                aten::div         2.89%      23.447ms            24\n",
    "           aten::_softmax         1.00%       8.087ms            24\n",
    "             aten::linear        46.48%     376.888ms           362\n",
    "              aten::clone         2.77%      22.430ms            98\n",
    "                  aten::t         0.31%       2.502ms           362\n",
    "               aten::view         0.14%       1.161ms           850\n",
    "          aten::transpose         0.17%       1.377ms           386\n",
    "       aten::index_select         0.12%     952.000us             3\n",
    "             aten::expand         0.12%     986.000us           458\n",
    "             aten::matmul         8.31%      67.420ms            48\n",
    "                aten::cat         0.09%     703.000us             1\n",
    "         aten::as_strided         0.08%     656.000us           963\n",
    "               aten::relu         8.86%      71.864ms            96\n",
    "-------------------------  ------------  ------------  ------------\n",
    "Self CPU time total: 810.920ms"
   ]
  },
  {
   "cell_type": "markdown",
   "id": "259160bd-6d0a-4910-9d0b-38aee8877047",
   "metadata": {},
   "source": [
    "Similarly, we also get the table for the compiled model with Inductor (omitting some columns):"
   ]
  },
  {
   "cell_type": "code",
   "execution_count": 36,
   "id": "d51db073-6a0c-4580-8e5b-d57a6d62ac55",
   "metadata": {},
   "outputs": [
    {
     "ename": "IndentationError",
     "evalue": "unindent does not match any outer indentation level (<string>, line 6)",
     "output_type": "error",
     "traceback": [
      "  \u001b[36mFile \u001b[39m\u001b[32m<string>:6\u001b[39m\n\u001b[31m    \u001b[39m\u001b[31mProfilerStep*       100.00%     336.642ms             1\u001b[39m\n                                                           ^\n\u001b[31mIndentationError\u001b[39m\u001b[31m:\u001b[39m unindent does not match any outer indentation level\n"
     ]
    }
   ],
   "source": [
    "-----------------------------------------------  ------------  ------------  ------------\n",
    "                                           Name   CPU total %     CPU total    # of Calls\n",
    "-----------------------------------------------  ------------  ------------  ------------\n",
    "                               mkl::_mkl_linear        68.79%     231.573ms           362\n",
    "                                      aten::bmm         8.02%      26.992ms            48\n",
    "                                  ProfilerStep*       100.00%     336.642ms             1\n",
    "  graph_0_cpp_fused_constant_pad_nd_embedding_0         0.27%     915.000us             1\n",
    "                                    aten::empty         0.27%     911.000us           362\n",
    " graph_0_cpp_fused__mkl_linear_add_mul_relu_151         0.27%     901.000us             1\n",
    " graph_0_cpp_fused__mkl_linear_add_mul_relu_226         0.27%     899.000us             1\n",
    " graph_0_cpp_fused__mkl_linear_add_mul_relu_361         0.27%     898.000us             1\n",
    " graph_0_cpp_fused__mkl_linear_add_mul_relu_121         0.27%     895.000us             1\n",
    "  graph_0_cpp_fused__mkl_linear_add_mul_relu_31         0.27%     893.000us             1\n",
    "  graph_0_cpp_fused__mkl_linear_add_mul_relu_76         0.26%     892.000us             1\n",
    " graph_0_cpp_fused__mkl_linear_add_mul_relu_256         0.26%     892.000us             1\n",
    " graph_0_cpp_fused__mkl_linear_add_mul_relu_346         0.26%     892.000us             1\n",
    " graph_0_cpp_fused__mkl_linear_add_mul_relu_241         0.26%     891.000us             1\n",
    " graph_0_cpp_fused__mkl_linear_add_mul_relu_316         0.26%     891.000us             1\n",
    "  graph_0_cpp_fused__mkl_linear_add_mul_relu_91         0.26%     890.000us             1\n",
    " graph_0_cpp_fused__mkl_linear_add_mul_relu_106         0.26%     890.000us             1\n",
    " graph_0_cpp_fused__mkl_linear_add_mul_relu_211         0.26%     890.000us             1\n",
    "  graph_0_cpp_fused__mkl_linear_add_mul_relu_61         0.26%     889.000us             1\n",
    " graph_0_cpp_fused__mkl_linear_add_mul_relu_286         0.26%     889.000us             1\n",
    "-----------------------------------------------  ------------  ------------  ------------\n",
    "Self CPU time total: 336.642ms"
   ]
  },
  {
   "cell_type": "markdown",
   "id": "a67980e2-6961-4105-a8f5-b12976e6128a",
   "metadata": {},
   "source": [
    "\n",
    "From the profiling table of the eager model, we can see the most time consumption ops are [aten::addmm, aten::add, aten::copy_, aten::mul, aten::clamp_min, aten::bmm]. Comparing with the inductor model profiling table, we notice an mkl::_mkl_linear entry and multiple fused kernels in the form graph_0_cpp_fused_*. They are the major optimizations that the inductor model is doing. Let us discuss them separately.\n",
    "\n",
    "(1) Regarding mkl::_mkl_linear: You may notice the number of calls to this kernel is 362, which is exactly the same as aten::linear in the eager model profiling table. The CPU total of aten::linear is 376.888ms, while it is 231.573ms for mkl::_mkl_linear. This suggests a ~1.63x for the “linear” part. The speedup mainly comes from packing the weight tensor to block memory format and invoking cblas_sgemm_compute within the Inductor CPU backend to have a better cache behavior during GEMM computation.\n",
    "\n",
    "(2) Regarding other memory-intensive ops: The end-to-end latency for the eager/inductor model is 802/339ms in our testing. So we can roughly infer that the speed up for the other memory-intensive ops is around 3.94x. Let’s read the generated code to understand how the inductor achieves this impressive optimization. You can find the generated code by searching cpp_fused__mkl_linear_add_mul_relu_151 in output_code.py"
   ]
  },
  {
   "cell_type": "code",
   "execution_count": 37,
   "id": "6d1e161e-7762-499a-a36f-d864d9bfeb48",
   "metadata": {},
   "outputs": [],
   "source": [
    "cpp_fused__mkl_linear_add_mul_relu_151 = async_compile.cpp('''\n",
    "#include <ATen/record_function.h>\n",
    "#include \"/tmp/torchinductor_root/lr/clrlgu27q4ggd472umdzwsu6qcpqxcuusjxqvx2hwitjbujiiz7z.h\"\n",
    "extern \"C\" void kernel(float* in_out_ptr0,\n",
    "                       const float* in_ptr0,\n",
    "                       const float* in_ptr1,\n",
    "                       const float* in_ptr2,\n",
    "                       const float* in_ptr3)\n",
    "{\n",
    "    RECORD_FUNCTION(\"graph_0_cpp_fused__mkl_linear_add_mul_relu_151\", c10::ArrayRef<c10::IValue>({}));\n",
    "    #pragma omp parallel num_threads(32)\n",
    "    {\n",
    "        {\n",
    "            #pragma omp for\n",
    "            for(long i0=static_cast<long>(0L); i0<static_cast<long>(16384L); i0+=static_cast<long>(1L))\n",
    "            {\n",
    "                for(long i1=static_cast<long>(0L); i1<static_cast<long>(512L); i1+=static_cast<long>(8L))\n",
    "                {\n",
    "                    auto tmp0 = at::vec::Vectorized<float>::loadu(in_ptr0 + static_cast<long>(i1 + (512L*i0)));\n",
    "                    auto tmp1 = at::vec::Vectorized<float>::loadu(in_ptr1 + static_cast<long>(i1));\n",
    "                    auto tmp3 = at::vec::Vectorized<float>::loadu(in_out_ptr0 + static_cast<long>(i1 + (512L*i0)));\n",
    "                    auto tmp5 = at::vec::Vectorized<float>::loadu(in_ptr2 + static_cast<long>(i1));\n",
    "                    auto tmp7 = at::vec::Vectorized<float>::loadu(in_ptr3 + static_cast<long>(i1));\n",
    "                    auto tmp2 = tmp0 + tmp1;\n",
    "                    auto tmp4 = tmp2 + tmp3;\n",
    "                    auto tmp6 = tmp4 * tmp5;\n",
    "                    auto tmp8 = tmp6 + tmp7;\n",
    "                    tmp8.store(in_out_ptr0 + static_cast<long>(i1 + (512L*i0)));\n",
    "                }\n",
    "            }\n",
    "        }\n",
    "    }\n",
    "}''')"
   ]
  },
  {
   "cell_type": "markdown",
   "id": "0f7d2c8e-5651-4868-851f-f81f7d2c342c",
   "metadata": {},
   "source": [
    "From the generated code above, we can see this kernel has done a typical Loop Fusion on [add, add, mul, add]. This is a memory-bound bottle neck preventing good performance. To get a more intuitive feeling about this optimization, we can infer the sizes and stride of the inputs and further benchmark this [add, add, mul, add] pattern."
   ]
  },
  {
   "cell_type": "code",
   "execution_count": 38,
   "id": "e2f8076f-9669-466a-ae5c-992f300c4539",
   "metadata": {},
   "outputs": [
    {
     "name": "stdout",
     "output_type": "stream",
     "text": [
      "eager use: 5.4396049957722425 ms/iter\n",
      "inductor use: 1.6410820791497827 ms/iter\n",
      "speed up ratio: 3.3146452970776523\n"
     ]
    }
   ],
   "source": [
    "# bench.py\n",
    "def func(arg_0, arg_1, arg_2, arg_3, arg_4):\n",
    "    add_0 = arg_0 + arg_1\n",
    "    add_1 = add_0 + arg_2\n",
    "    mul_1 = add_1 * arg_3\n",
    "    add_2 = mul_1 + arg_4\n",
    "    arg_2 = add_2\n",
    "    return arg_2\n",
    "\n",
    "arg_0 = torch.rand(16384, 512)\n",
    "arg_1 = torch.rand(1, 512)\n",
    "arg_2 = torch.zeros(16384, 512)\n",
    "arg_3 = torch.rand(1, 512)\n",
    "arg_4 = torch.rand(1, 512)\n",
    "\n",
    "input = (arg_0, arg_1, arg_2, arg_3, arg_4)\n",
    "inductor_func = torch.compile(func)\n",
    "with torch.no_grad():\n",
    "    inductor_func(*input)\n",
    "\n",
    "import timeit\n",
    "NUM_ITERS=100\n",
    "with torch.no_grad():\n",
    "    # warmup\n",
    "    for _ in range(10):\n",
    "        func(*input)\n",
    "    eager_t = timeit.timeit(\"func(*input)\", number=NUM_ITERS, globals=globals())\n",
    "\n",
    "with torch.no_grad():\n",
    "    # warmup\n",
    "    for _ in range(10):\n",
    "        inductor_func(*input)\n",
    "    inductor_t = timeit.timeit(\"inductor_func(*input)\", number=NUM_ITERS, globals=globals())\n",
    "print(f\"eager use: {eager_t * 1000 / NUM_ITERS} ms/iter\")\n",
    "print(f\"inductor use: {inductor_t * 1000 / NUM_ITERS} ms/iter\")\n",
    "print(f\"speed up ratio: {eager_t / inductor_t}\")"
   ]
  },
  {
   "cell_type": "markdown",
   "id": "399a765b-1340-46c8-8454-0402edffb859",
   "metadata": {},
   "source": [
    "This is just an example. The profiling table shows all element-wise op are fused within the inductor automatically in this model. You can read more kernels in output_code.py\n",
    "\n",
    "## Conclusion\n",
    "The document gives an in-depth tutorial for the Inductor CPU backend.\n",
    "\n",
    "With motivating examples, we walk through the process of debugging and profiling. The main idea is to narrow down the problem.\n",
    "\n",
    "We demonstrate step by step the way to delve deeper the issue and find the root cause of failures, with the help of debugging logging and the tool Minifier. Firstly determine which component the failure occurs in and then try to generate the smallest snippet of code that can reproduce the failure.\n",
    "\n",
    "When the performance with Inductor is better than that of eager mode, we provide a solid analytical method for performance profiling. We show how to find the time-consuming hotspot with PyTorch Profiler and figure out the operator-level or kernel-level reason to explain the phenomenon."
   ]
  },
  {
   "cell_type": "code",
   "execution_count": null,
   "id": "76ea71d9-8f10-4a76-af38-3e82fd45d468",
   "metadata": {},
   "outputs": [],
   "source": []
  }
 ],
 "metadata": {
  "kernelspec": {
   "display_name": "torch",
   "language": "python",
   "name": "torch"
  },
  "language_info": {
   "codemirror_mode": {
    "name": "ipython",
    "version": 3
   },
   "file_extension": ".py",
   "mimetype": "text/x-python",
   "name": "python",
   "nbconvert_exporter": "python",
   "pygments_lexer": "ipython3",
   "version": "3.12.11"
  }
 },
 "nbformat": 4,
 "nbformat_minor": 5
}
