{
 "cells": [
  {
   "cell_type": "markdown",
   "id": "3bb7889f-0242-4c53-b8d6-8a28c992a941",
   "metadata": {},
   "source": [
    "# Introduction to torch.compile\n",
    "\n",
    "torch.compile is the latest method to speed up your PyTorch code! torch.compile makes PyTorch code run faster by JIT-compiling PyTorch code into optimized kernels, all while requiring minimal code changes.\n",
    "\n",
    "In this tutorial, we cover basic torch.compile usage, and demonstrate the advantages of torch.compile over previous PyTorch compiler solutions, such as TorchScript and FX Tracing.\n",
    "\n",
    "Required pip Dependencies\n",
    "\n",
    "    torch >= 2.0\n",
    "\n",
    "    torchvision\n",
    "\n",
    "    numpy\n",
    "\n",
    "    scipy\n",
    "\n",
    "    tabulate\n",
    "\n",
    "System Requirements - A C++ compiler, such as g++ - Python development package (python-devel/python-dev)\n",
    "\n",
    "NOTE: a modern NVIDIA GPU (H100, A100, or V100) is recommended for this tutorial in order to reproduce the speedup numbers shown below and documented elsewhere.\n",
    "\n",
    "# Due to requirements switching over to google colab"
   ]
  },
  {
   "cell_type": "code",
   "execution_count": null,
   "id": "97025f91-5ee7-4dbe-b40e-d17a3214abd5",
   "metadata": {},
   "outputs": [],
   "source": []
  }
 ],
 "metadata": {
  "kernelspec": {
   "display_name": "torch",
   "language": "python",
   "name": "torch"
  },
  "language_info": {
   "codemirror_mode": {
    "name": "ipython",
    "version": 3
   },
   "file_extension": ".py",
   "mimetype": "text/x-python",
   "name": "python",
   "nbconvert_exporter": "python",
   "pygments_lexer": "ipython3",
   "version": "3.12.11"
  }
 },
 "nbformat": 4,
 "nbformat_minor": 5
}
