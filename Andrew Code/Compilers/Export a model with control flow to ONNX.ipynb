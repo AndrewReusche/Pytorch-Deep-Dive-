{
 "cells": [
  {
   "cell_type": "markdown",
   "id": "09901946-e938-48d1-9277-8999903ec6ec",
   "metadata": {},
   "source": [
    "# Export a model with control flow to ONNX\n",
    "\n",
    "## Overview\n",
    "This tutorial demonstrates how to handle control flow logic while exporting a PyTorch model to ONNX. It highlights the challenges of exporting conditional statements directly and provides solutions to circumvent them.\n",
    "\n",
    "Conditional logic cannot be exported into ONNX unless they refactored to use torch.cond(). Let’s start with a simple model implementing a test.\n",
    "\n",
    "What you will learn:\n",
    "\n",
    "How to refactor the model to use torch.cond() for exporting.\n",
    "\n",
    "How to export a model with control flow logic to ONNX.\n",
    "\n",
    "How to optimize the exported model using the ONNX optimizer.\n",
    "\n",
    "## Prerequisites\n",
    "torch >= 2.6\n",
    "\n"
   ]
  },
  {
   "cell_type": "code",
   "execution_count": 1,
   "id": "da574793-9d51-43b3-b2da-520aedecad8a",
   "metadata": {},
   "outputs": [],
   "source": [
    "import torch "
   ]
  },
  {
   "cell_type": "markdown",
   "id": "4c7bec5f-33a4-4495-ad17-ee1ed1fe5e8d",
   "metadata": {},
   "source": [
    "## Define the Models\n",
    "Two models are defined:\n",
    "\n",
    "ForwardWithControlFlowTest: A model with a forward method containing an if-else conditional.\n",
    "\n",
    "ModelWithControlFlowTest: A model that incorporates ForwardWithControlFlowTest as part of a simple MLP. The models are tested with a random input tensor to confirm they execute as expected."
   ]
  },
  {
   "cell_type": "code",
   "execution_count": 2,
   "id": "9823b8f9-3b53-40dc-864d-cdc751e6144b",
   "metadata": {},
   "outputs": [],
   "source": [
    "class ForwardWithControlFlowTest(torch.nn.Module):\n",
    "    def forward(self, x):\n",
    "        if x.sum():\n",
    "            return x * 2\n",
    "        return -x\n",
    "\n",
    "\n",
    "class ModelWithControlFlowTest(torch.nn.Module):\n",
    "    def __init__(self):\n",
    "        super().__init__()\n",
    "        self.mlp = torch.nn.Sequential(\n",
    "            torch.nn.Linear(3, 2),\n",
    "            torch.nn.Linear(2, 1),\n",
    "            ForwardWithControlFlowTest(),\n",
    "        )\n",
    "\n",
    "    def forward(self, x):\n",
    "        out = self.mlp(x)\n",
    "        return out\n",
    "\n",
    "\n",
    "model = ModelWithControlFlowTest()"
   ]
  },
  {
   "cell_type": "markdown",
   "id": "17125300-15cc-452e-b53e-f8e07bfcc8ac",
   "metadata": {},
   "source": [
    "## Exporting the Model: First Attempt\n",
    "Exporting this model using torch.export.export fails because the control flow logic in the forward pass creates a graph break that the exporter cannot handle. This behavior is expected, as conditional logic not written using torch.cond() is unsupported.\n",
    "\n",
    "A try-except block is used to capture the expected failure during the export process. If the export unexpectedly succeeds, an AssertionError is raised."
   ]
  },
  {
   "cell_type": "code",
   "execution_count": 3,
   "id": "7775d3a6-a53e-42ce-bb4f-2ada8e7c9aab",
   "metadata": {},
   "outputs": [
    {
     "name": "stderr",
     "output_type": "stream",
     "text": [
      "W1014 20:31:51.061000 68294 site-packages/torch/fx/experimental/symbolic_shapes.py:7934] Unable to find user code corresponding to {u0}\n"
     ]
    },
    {
     "name": "stdout",
     "output_type": "stream",
     "text": [
      "Could not guard on data-dependent expression Eq(u0, 1) (unhinted: Eq(u0, 1)).  (Size-like symbols: none)\n",
      "\n",
      "Caused by: (_export/non_strict_utils.py:1051 in __torch_function__)\n",
      "For more information, run with TORCH_LOGS=\"dynamic\"\n",
      "For extended logs when we create symbols, also add TORCHDYNAMO_EXTENDED_DEBUG_CREATE_SYMBOL=\"u0\"\n",
      "If you suspect the guard was triggered from C++, add TORCHDYNAMO_EXTENDED_DEBUG_CPP=1\n",
      "For more debugging help, see https://docs.google.com/document/d/1HSuTTVvYH1pTew89Rtpeu84Ht3nQEFTYhAX3Ypa_xJs/edit?usp=sharing\n",
      "\n",
      "For C++ stack trace, run with TORCHDYNAMO_EXTENDED_DEBUG_CPP=1\n",
      "\n",
      "The following call raised this error:\n",
      "  File \"/var/folders/p_/7g5qyc8d5zv5nfywm65yhpkc0000gn/T/ipykernel_68294/3521990874.py\", line 3, in forward\n",
      "    if x.sum():\n",
      "\n",
      "\n",
      "The error above occurred when calling torch.export.export. If you would like to view some more information about this error, and get a list of all other errors that may occur in your export call, you can replace your `export()` call with `draft_export()`.\n"
     ]
    },
    {
     "name": "stderr",
     "output_type": "stream",
     "text": [
      "\n",
      "\n",
      "\n",
      "def forward(self, arg0_1: \"f32[2, 3]\", arg1_1: \"f32[2]\", arg2_1: \"f32[1, 2]\", arg3_1: \"f32[1]\", arg4_1: \"f32[3]\"):\n",
      "     # File: /opt/anaconda3/envs/torch/lib/python3.12/site-packages/torch/nn/modules/linear.py:125 in forward, code: return F.linear(input, self.weight, self.bias)\n",
      "    linear: \"f32[2]\" = torch.ops.aten.linear.default(arg4_1, arg0_1, arg1_1);  arg4_1 = arg0_1 = arg1_1 = None\n",
      "    linear_1: \"f32[1]\" = torch.ops.aten.linear.default(linear, arg2_1, arg3_1);  linear = arg2_1 = arg3_1 = None\n",
      "    \n",
      "     # File: /var/folders/p_/7g5qyc8d5zv5nfywm65yhpkc0000gn/T/ipykernel_68294/3521990874.py:3 in forward, code: if x.sum():\n",
      "    sum_1: \"f32[]\" = torch.ops.aten.sum.default(linear_1);  linear_1 = None\n",
      "    ne: \"b8[]\" = torch.ops.aten.ne.Scalar(sum_1, 0);  sum_1 = None\n",
      "    item: \"Sym(Eq(u0, 1))\" = torch.ops.aten.item.default(ne);  ne = item = None\n",
      "    \n",
      "\n",
      "\n",
      "\n",
      "def forward(self, arg0_1: \"f32[2, 3]\", arg1_1: \"f32[2]\", arg2_1: \"f32[1, 2]\", arg3_1: \"f32[1]\", arg4_1: \"f32[3]\"):\n",
      "     # File: /opt/anaconda3/envs/torch/lib/python3.12/site-packages/torch/nn/modules/linear.py:125 in forward, code: return F.linear(input, self.weight, self.bias)\n",
      "    linear: \"f32[2]\" = torch.ops.aten.linear.default(arg4_1, arg0_1, arg1_1);  arg4_1 = arg0_1 = arg1_1 = None\n",
      "    linear_1: \"f32[1]\" = torch.ops.aten.linear.default(linear, arg2_1, arg3_1);  linear = arg2_1 = arg3_1 = None\n",
      "    \n",
      "     # File: /var/folders/p_/7g5qyc8d5zv5nfywm65yhpkc0000gn/T/ipykernel_68294/3521990874.py:3 in forward, code: if x.sum():\n",
      "    sum_1: \"f32[]\" = torch.ops.aten.sum.default(linear_1);  linear_1 = None\n",
      "    ne: \"b8[]\" = torch.ops.aten.ne.Scalar(sum_1, 0);  sum_1 = None\n",
      "    item: \"Sym(Eq(u0, 1))\" = torch.ops.aten.item.default(ne);  ne = item = None\n",
      "    \n"
     ]
    }
   ],
   "source": [
    "x = torch.randn(3)\n",
    "model(x)\n",
    "\n",
    "try:\n",
    "    torch.export.export(model, (x,), strict=False)\n",
    "    raise AssertionError(\"This export should failed unless PyTorch now supports this model.\")\n",
    "except Exception as e:\n",
    "    print(e)"
   ]
  },
  {
   "cell_type": "markdown",
   "id": "fc932b74-e426-4b28-a2d9-19aa7cda8727",
   "metadata": {},
   "source": [
    "## Suggested Patch: Refactoring with torch.cond()\n",
    "To make the control flow exportable, the tutorial demonstrates replacing the forward method in ForwardWithControlFlowTest with a refactored version that uses torch.cond`().\n",
    "\n",
    "Details of the Refactoring:\n",
    "\n",
    "Two helper functions (identity2 and neg) represent the branches of the conditional logic: * torch.cond`() is used to specify the condition and the two branches along with the input arguments. * The updated forward method is then dynamically assigned to the ForwardWithControlFlowTest instance within the model. A list of submodules is printed to confirm the replacement."
   ]
  },
  {
   "cell_type": "code",
   "execution_count": 4,
   "id": "c2179935-1912-4345-8316-f1fb6a5399e9",
   "metadata": {},
   "outputs": [
    {
     "name": "stdout",
     "output_type": "stream",
     "text": [
      "the list of submodules\n",
      " <class '__main__.ModelWithControlFlowTest'>\n",
      "mlp <class 'torch.nn.modules.container.Sequential'>\n",
      "mlp.0 <class 'torch.nn.modules.linear.Linear'>\n",
      "mlp.1 <class 'torch.nn.modules.linear.Linear'>\n",
      "mlp.2 <class '__main__.ForwardWithControlFlowTest'>\n"
     ]
    }
   ],
   "source": [
    "def new_forward(x):\n",
    "    def identity2(x):\n",
    "        return x * 2\n",
    "\n",
    "    def neg(x):\n",
    "        return -x\n",
    "\n",
    "    return torch.cond(x.sum() > 0, identity2, neg, (x,))\n",
    "\n",
    "\n",
    "print(\"the list of submodules\")\n",
    "for name, mod in model.named_modules():\n",
    "    print(name, type(mod))\n",
    "    if isinstance(mod, ForwardWithControlFlowTest):\n",
    "        mod.forward = new_forward"
   ]
  },
  {
   "cell_type": "markdown",
   "id": "06f66abf-deb8-4fb7-b471-5f56363c84da",
   "metadata": {},
   "source": [
    "Let’s see what the FX graph looks like."
   ]
  },
  {
   "cell_type": "code",
   "execution_count": 5,
   "id": "be878da4-2184-4929-aba3-e56dd161e5ba",
   "metadata": {},
   "outputs": [
    {
     "name": "stdout",
     "output_type": "stream",
     "text": [
      "ExportedProgram:\n",
      "    class GraphModule(torch.nn.Module):\n",
      "        def forward(self, p_mlp_0_weight: \"f32[2, 3]\", p_mlp_0_bias: \"f32[2]\", p_mlp_1_weight: \"f32[1, 2]\", p_mlp_1_bias: \"f32[1]\", x: \"f32[3]\"):\n",
      "             # File: /opt/anaconda3/envs/torch/lib/python3.12/site-packages/torch/nn/modules/linear.py:125 in forward, code: return F.linear(input, self.weight, self.bias)\n",
      "            linear: \"f32[2]\" = torch.ops.aten.linear.default(x, p_mlp_0_weight, p_mlp_0_bias);  x = p_mlp_0_weight = p_mlp_0_bias = None\n",
      "            linear_1: \"f32[1]\" = torch.ops.aten.linear.default(linear, p_mlp_1_weight, p_mlp_1_bias);  linear = p_mlp_1_weight = p_mlp_1_bias = None\n",
      "            \n",
      "             # File: /opt/anaconda3/envs/torch/lib/python3.12/site-packages/torch/nn/modules/container.py:244 in forward, code: input = module(input)\n",
      "            sum_1: \"f32[]\" = torch.ops.aten.sum.default(linear_1)\n",
      "            gt: \"b8[]\" = torch.ops.aten.gt.Scalar(sum_1, 0);  sum_1 = None\n",
      "            \n",
      "             # File: <eval_with_key>.3:9 in forward, code: cond = torch.ops.higher_order.cond(l_args_0_, cond_true_0, cond_false_0, (l_args_3_0_,));  l_args_0_ = cond_true_0 = cond_false_0 = l_args_3_0_ = None\n",
      "            true_graph_0 = self.true_graph_0\n",
      "            false_graph_0 = self.false_graph_0\n",
      "            cond = torch.ops.higher_order.cond(gt, true_graph_0, false_graph_0, (linear_1,));  gt = true_graph_0 = false_graph_0 = linear_1 = None\n",
      "            getitem: \"f32[1]\" = cond[0];  cond = None\n",
      "            return (getitem,)\n",
      "            \n",
      "        class true_graph_0(torch.nn.Module):\n",
      "            def forward(self, linear_1: \"f32[1]\"):\n",
      "                 # File: <eval_with_key>.0:6 in forward, code: mul = l_args_3_0__1.mul(2);  l_args_3_0__1 = None\n",
      "                mul: \"f32[1]\" = torch.ops.aten.mul.Tensor(linear_1, 2);  linear_1 = None\n",
      "                return (mul,)\n",
      "                \n",
      "        class false_graph_0(torch.nn.Module):\n",
      "            def forward(self, linear_1: \"f32[1]\"):\n",
      "                 # File: <eval_with_key>.1:6 in forward, code: neg = l_args_3_0__1.neg();  l_args_3_0__1 = None\n",
      "                neg: \"f32[1]\" = torch.ops.aten.neg.default(linear_1);  linear_1 = None\n",
      "                return (neg,)\n",
      "                \n",
      "Graph signature: \n",
      "    # inputs\n",
      "    p_mlp_0_weight: PARAMETER target='mlp.0.weight'\n",
      "    p_mlp_0_bias: PARAMETER target='mlp.0.bias'\n",
      "    p_mlp_1_weight: PARAMETER target='mlp.1.weight'\n",
      "    p_mlp_1_bias: PARAMETER target='mlp.1.bias'\n",
      "    x: USER_INPUT\n",
      "    \n",
      "    # outputs\n",
      "    getitem: USER_OUTPUT\n",
      "    \n",
      "Range constraints: {}\n",
      "\n"
     ]
    }
   ],
   "source": [
    "print(torch.export.export(model, (x,), strict=False))"
   ]
  },
  {
   "cell_type": "markdown",
   "id": "cf5dcf69-362c-4ca1-90af-38c2d7da0318",
   "metadata": {},
   "source": [
    "Let’s export again."
   ]
  },
  {
   "cell_type": "code",
   "execution_count": 6,
   "id": "cc951bcc-949c-47b6-844a-32a8534a420e",
   "metadata": {},
   "outputs": [
    {
     "name": "stdout",
     "output_type": "stream",
     "text": [
      "[torch.onnx] Obtain model graph for `ModelWithControlFlowTest([...]` with `torch.export.export(..., strict=False)`...\n",
      "[torch.onnx] Obtain model graph for `ModelWithControlFlowTest([...]` with `torch.export.export(..., strict=False)`... ✅\n",
      "[torch.onnx] Run decomposition...\n",
      "[torch.onnx] Run decomposition... ✅\n",
      "[torch.onnx] Translate the graph into ONNX...\n",
      "[torch.onnx] Translate the graph into ONNX... ✅\n",
      "<\n",
      "    ir_version=10,\n",
      "    opset_imports={'': 18},\n",
      "    producer_name='pytorch',\n",
      "    producer_version='2.8.0',\n",
      "    domain=None,\n",
      "    model_version=None,\n",
      ">\n",
      "graph(\n",
      "    name=main_graph,\n",
      "    inputs=(\n",
      "        %\"x\"<FLOAT,[3]>\n",
      "    ),\n",
      "    outputs=(\n",
      "        %\"getitem\"<FLOAT,[1]>\n",
      "    ),\n",
      "    initializers=(\n",
      "        %\"mlp.0.bias\"<FLOAT,[2]>{TorchTensor<FLOAT,[2]>(Parameter containing: tensor([ 0.4647, -0.0532], requires_grad=True), name='mlp.0.bias')},\n",
      "        %\"mlp.1.bias\"<FLOAT,[1]>{TorchTensor<FLOAT,[1]>(Parameter containing: tensor([-0.0816], requires_grad=True), name='mlp.1.bias')},\n",
      "        %\"val_0\"<FLOAT,[3,2]>{Tensor<FLOAT,[3,2]>(array([[-0.54519   , -0.38536644], [ 0.4633441 , -0.31098711], [-0.5663341 ,  0.1554555 ]], dtype=float32), name='val_0')},\n",
      "        %\"val_2\"<FLOAT,[2,1]>{Tensor<FLOAT,[2,1]>(array([[ 0.4765927 ], [-0.01628318]], dtype=float32), name='val_2')},\n",
      "        %\"scalar_tensor_default\"<FLOAT,[]>{Tensor<FLOAT,[]>(array(0., dtype=float32), name='scalar_tensor_default')},\n",
      "        %\"scalar_tensor_default_2\"<FLOAT,[]>{Tensor<FLOAT,[]>(array(2., dtype=float32), name='scalar_tensor_default_2')}\n",
      "    ),\n",
      ") {\n",
      "    0 |  # node_MatMul_1\n",
      "         %\"val_1\"<FLOAT,[2]> ⬅️ ::MatMul(%\"x\", %\"val_0\"{[[-0.5451899766921997, -0.38536643981933594], [0.46334409713745117, -0.31098711490631104], [-0.5663341283798218, 0.15545549988746643]]})\n",
      "    1 |  # node_linear\n",
      "         %\"linear\"<FLOAT,[2]> ⬅️ ::Add(%\"val_1\", %\"mlp.0.bias\"{[0.46465790271759033, -0.053189732134342194]})\n",
      "    2 |  # node_MatMul_3\n",
      "         %\"val_3\"<FLOAT,[1]> ⬅️ ::MatMul(%\"linear\", %\"val_2\"{[[0.47659268975257874], [-0.016283182427287102]]})\n",
      "    3 |  # node_linear_1\n",
      "         %\"linear_1\"<FLOAT,[1]> ⬅️ ::Add(%\"val_3\", %\"mlp.1.bias\"{[-0.08156106621026993]})\n",
      "    4 |  # node_sum_1\n",
      "         %\"sum_1\"<FLOAT,[]> ⬅️ ::ReduceSum(%\"linear_1\") {noop_with_empty_axes=0, keepdims=0}\n",
      "    5 |  # node_gt\n",
      "         %\"gt\"<BOOL,[]> ⬅️ ::Greater(%\"sum_1\", %\"scalar_tensor_default\"{0.0})\n",
      "    6 |  # node_cond__0\n",
      "         %\"getitem\"<FLOAT,[1]> ⬅️ ::If(%\"gt\") {then_branch=\n",
      "             graph(\n",
      "                 name=true_graph_0,\n",
      "                 inputs=(\n",
      "\n",
      "                 ),\n",
      "                 outputs=(\n",
      "                     %\"mul_true_graph_0\"<FLOAT,[1]>\n",
      "                 ),\n",
      "             ) {\n",
      "                 0 |  # node_mul\n",
      "                      %\"mul_true_graph_0\"<FLOAT,[1]> ⬅️ ::Mul(%\"linear_1\", %\"scalar_tensor_default_2\"{2.0})\n",
      "                 return %\"mul_true_graph_0\"<FLOAT,[1]>\n",
      "             }, else_branch=\n",
      "             graph(\n",
      "                 name=false_graph_0,\n",
      "                 inputs=(\n",
      "\n",
      "                 ),\n",
      "                 outputs=(\n",
      "                     %\"neg_false_graph_0\"<FLOAT,[1]>\n",
      "                 ),\n",
      "             ) {\n",
      "                 0 |  # node_neg\n",
      "                      %\"neg_false_graph_0\"<FLOAT,[1]> ⬅️ ::Neg(%\"linear_1\")\n",
      "                 return %\"neg_false_graph_0\"<FLOAT,[1]>\n",
      "             }}\n",
      "    return %\"getitem\"<FLOAT,[1]>\n",
      "}\n",
      "\n",
      "\n"
     ]
    }
   ],
   "source": [
    "onnx_program = torch.onnx.export(model, (x,), dynamo=True)\n",
    "print(onnx_program.model)"
   ]
  },
  {
   "cell_type": "markdown",
   "id": "6b788141-5b69-4e41-98c1-e3cd187a98cb",
   "metadata": {},
   "source": [
    "We can optimize the model and get rid of the model local functions created to capture the control flow branches."
   ]
  },
  {
   "cell_type": "code",
   "execution_count": 7,
   "id": "90b97964-c189-42b8-8807-8075256e71ab",
   "metadata": {},
   "outputs": [
    {
     "name": "stdout",
     "output_type": "stream",
     "text": [
      "<\n",
      "    ir_version=10,\n",
      "    opset_imports={'': 18},\n",
      "    producer_name='pytorch',\n",
      "    producer_version='2.8.0',\n",
      "    domain=None,\n",
      "    model_version=None,\n",
      ">\n",
      "graph(\n",
      "    name=main_graph,\n",
      "    inputs=(\n",
      "        %\"x\"<FLOAT,[3]>\n",
      "    ),\n",
      "    outputs=(\n",
      "        %\"getitem\"<FLOAT,[1]>\n",
      "    ),\n",
      "    initializers=(\n",
      "        %\"mlp.0.bias\"<FLOAT,[2]>{TorchTensor<FLOAT,[2]>(Parameter containing: tensor([ 0.4647, -0.0532], requires_grad=True), name='mlp.0.bias')},\n",
      "        %\"mlp.1.bias\"<FLOAT,[1]>{TorchTensor<FLOAT,[1]>(Parameter containing: tensor([-0.0816], requires_grad=True), name='mlp.1.bias')},\n",
      "        %\"val_0\"<FLOAT,[3,2]>{Tensor<FLOAT,[3,2]>(array([[-0.54519   , -0.38536644], [ 0.4633441 , -0.31098711], [-0.5663341 ,  0.1554555 ]], dtype=float32), name='val_0')},\n",
      "        %\"val_2\"<FLOAT,[2,1]>{Tensor<FLOAT,[2,1]>(array([[ 0.4765927 ], [-0.01628318]], dtype=float32), name='val_2')},\n",
      "        %\"scalar_tensor_default\"<FLOAT,[]>{Tensor<FLOAT,[]>(array(0., dtype=float32), name='scalar_tensor_default')},\n",
      "        %\"scalar_tensor_default_2\"<FLOAT,[]>{Tensor<FLOAT,[]>(array(2., dtype=float32), name='scalar_tensor_default_2')}\n",
      "    ),\n",
      ") {\n",
      "    0 |  # node_MatMul_1\n",
      "         %\"val_1\"<FLOAT,[2]> ⬅️ ::MatMul(%\"x\", %\"val_0\"{[[-0.5451899766921997, -0.38536643981933594], [0.46334409713745117, -0.31098711490631104], [-0.5663341283798218, 0.15545549988746643]]})\n",
      "    1 |  # node_linear\n",
      "         %\"linear\"<FLOAT,[2]> ⬅️ ::Add(%\"val_1\", %\"mlp.0.bias\"{[0.46465790271759033, -0.053189732134342194]})\n",
      "    2 |  # node_MatMul_3\n",
      "         %\"val_3\"<FLOAT,[1]> ⬅️ ::MatMul(%\"linear\", %\"val_2\"{[[0.47659268975257874], [-0.016283182427287102]]})\n",
      "    3 |  # node_linear_1\n",
      "         %\"linear_1\"<FLOAT,[1]> ⬅️ ::Add(%\"val_3\", %\"mlp.1.bias\"{[-0.08156106621026993]})\n",
      "    4 |  # node_sum_1\n",
      "         %\"sum_1\"<FLOAT,[]> ⬅️ ::ReduceSum(%\"linear_1\") {noop_with_empty_axes=0, keepdims=0}\n",
      "    5 |  # node_gt\n",
      "         %\"gt\"<BOOL,[]> ⬅️ ::Greater(%\"sum_1\", %\"scalar_tensor_default\"{0.0})\n",
      "    6 |  # node_cond__0\n",
      "         %\"getitem\"<FLOAT,[1]> ⬅️ ::If(%\"gt\") {then_branch=\n",
      "             graph(\n",
      "                 name=true_graph_0,\n",
      "                 inputs=(\n",
      "\n",
      "                 ),\n",
      "                 outputs=(\n",
      "                     %\"mul_true_graph_0\"<FLOAT,[1]>\n",
      "                 ),\n",
      "             ) {\n",
      "                 0 |  # node_mul\n",
      "                      %\"mul_true_graph_0\"<FLOAT,[1]> ⬅️ ::Mul(%\"linear_1\", %\"scalar_tensor_default_2\"{2.0})\n",
      "                 return %\"mul_true_graph_0\"<FLOAT,[1]>\n",
      "             }, else_branch=\n",
      "             graph(\n",
      "                 name=false_graph_0,\n",
      "                 inputs=(\n",
      "\n",
      "                 ),\n",
      "                 outputs=(\n",
      "                     %\"neg_false_graph_0\"<FLOAT,[1]>\n",
      "                 ),\n",
      "             ) {\n",
      "                 0 |  # node_neg\n",
      "                      %\"neg_false_graph_0\"<FLOAT,[1]> ⬅️ ::Neg(%\"linear_1\")\n",
      "                 return %\"neg_false_graph_0\"<FLOAT,[1]>\n",
      "             }}\n",
      "    return %\"getitem\"<FLOAT,[1]>\n",
      "}\n",
      "\n",
      "\n"
     ]
    }
   ],
   "source": [
    "onnx_program.optimize()\n",
    "print(onnx_program.model)"
   ]
  },
  {
   "cell_type": "markdown",
   "id": "86750888-38cc-4a2b-b1c6-968640b2abec",
   "metadata": {},
   "source": [
    "## Conclusion\n",
    "This tutorial demonstrates the challenges of exporting models with conditional logic to ONNX and presents a practical solution using torch.cond(). While the default exporters may fail or produce imperfect graphs, refactoring the model’s logic ensures compatibility and generates a faithful ONNX representation.\n",
    "\n",
    "By understanding these techniques, we can overcome common pitfalls when working with control flow in PyTorch models and ensure smooth integration with ONNX workflows.\n",
    "\n",
    "## Further reading\n",
    "The list below refers to tutorials that ranges from basic examples to advanced scenarios, not necessarily in the order they are listed. Feel free to jump directly to specific topics of your interest or sit tight and have fun going through all of them to learn all there is about the ONNX exporter.\n",
    "\n",
    "1. Exporting a PyTorch model to ONNX\n",
    "2. Extending the ONNX exporter operator support\n",
    "3. Export a model with control flow to ONNX"
   ]
  },
  {
   "cell_type": "code",
   "execution_count": null,
   "id": "facccf99-122c-4ae7-9665-0e39f3c8867f",
   "metadata": {},
   "outputs": [],
   "source": []
  }
 ],
 "metadata": {
  "kernelspec": {
   "display_name": "torch",
   "language": "python",
   "name": "torch"
  },
  "language_info": {
   "codemirror_mode": {
    "name": "ipython",
    "version": 3
   },
   "file_extension": ".py",
   "mimetype": "text/x-python",
   "name": "python",
   "nbconvert_exporter": "python",
   "pygments_lexer": "ipython3",
   "version": "3.12.11"
  }
 },
 "nbformat": 4,
 "nbformat_minor": 5
}
