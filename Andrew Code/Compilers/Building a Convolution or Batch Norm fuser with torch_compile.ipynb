{
 "cells": [
  {
   "cell_type": "markdown",
   "id": "158a9631-8657-4362-8f69-d7852d34df39",
   "metadata": {},
   "source": [
    "This version of the notebook was run on my m2 macbook pro so will be using mps instead of cuda"
   ]
  },
  {
   "cell_type": "markdown",
   "id": "fc0bd99a-51fa-4bf8-8ff2-5d3cde857aa1",
   "metadata": {},
   "source": [
    "# Building a Convolution/Batch Norm fuser with torch.compile\n",
    "\n",
    "## What you will learn\n",
    "How to register custom fusion patterns with torch.compile’s pattern matcher\n",
    "\n",
    "## Prerequisites\n",
    "PyTorch v2.7.0\n",
    "\n",
    "Note\n",
    "\n",
    "This optimization only works for models in inference mode (i.e. model.eval()). However, torch.compile’s pattern matching system works for both training and inference.\n",
    "\n",
    "First, let’s get some imports out of the way (we will be using all of these later in the code)."
   ]
  },
  {
   "cell_type": "code",
   "execution_count": 2,
   "id": "fa0bec3f-a9b7-40c2-9f64-80d157f5d294",
   "metadata": {},
   "outputs": [],
   "source": [
    "from typing import Type, Dict, Any, Tuple, Iterable\n",
    "import copy\n",
    "import torch\n",
    "import torch.nn as nn\n",
    "\n",
    "#device = torch.device(\"cuda\" if torch.cuda.is_available() else \"cpu\")\n",
    "device = torch.device(\"mps\" if torch.backends.mps.is_available() else \"cpu\") #cause mac"
   ]
  },
  {
   "cell_type": "markdown",
   "id": "6cb3ce38-f9e8-4a71-8eab-a25825942836",
   "metadata": {},
   "source": [
    "For this tutorial, we are going to create a model consisting of convolutions and batch norms. Note that this model has some tricky components - some of the conv/batch norm patterns are hidden within Sequentials and one of the BatchNorms is wrapped in another Module."
   ]
  },
  {
   "cell_type": "code",
   "execution_count": 3,
   "id": "3f6cf991-afa0-4856-92ae-c1c0ca99fe24",
   "metadata": {},
   "outputs": [
    {
     "data": {
      "text/plain": [
       "M(\n",
       "  (conv1): Conv2d(1, 1, kernel_size=(1, 1), stride=(1, 1))\n",
       "  (bn1): BatchNorm2d(1, eps=1e-05, momentum=0.1, affine=True, track_running_stats=True)\n",
       "  (conv2): Conv2d(1, 1, kernel_size=(1, 1), stride=(1, 1))\n",
       "  (nested): Sequential(\n",
       "    (0): BatchNorm2d(1, eps=1e-05, momentum=0.1, affine=True, track_running_stats=True)\n",
       "    (1): Conv2d(1, 1, kernel_size=(1, 1), stride=(1, 1))\n",
       "  )\n",
       "  (wrapped): WrappedBatchNorm(\n",
       "    (mod): BatchNorm2d(1, eps=1e-05, momentum=0.1, affine=True, track_running_stats=True)\n",
       "  )\n",
       ")"
      ]
     },
     "execution_count": 3,
     "metadata": {},
     "output_type": "execute_result"
    }
   ],
   "source": [
    "class WrappedBatchNorm(nn.Module):\n",
    "    def __init__(self):\n",
    "        super().__init__()\n",
    "        self.mod = nn.BatchNorm2d(1)\n",
    "    def forward(self, x):\n",
    "        return self.mod(x)\n",
    "\n",
    "class M(nn.Module):\n",
    "    def __init__(self):\n",
    "        super().__init__()\n",
    "        self.conv1 = nn.Conv2d(1, 1, 1)\n",
    "        self.bn1 = nn.BatchNorm2d(1)\n",
    "        self.conv2 = nn.Conv2d(1, 1, 1)\n",
    "        self.nested = nn.Sequential(\n",
    "            nn.BatchNorm2d(1),\n",
    "            nn.Conv2d(1, 1, 1),\n",
    "        )\n",
    "        self.wrapped = WrappedBatchNorm()\n",
    "\n",
    "    def forward(self, x):\n",
    "        x = self.conv1(x)\n",
    "        x = self.bn1(x)\n",
    "        x = self.conv2(x)\n",
    "        x = self.nested(x)\n",
    "        x = self.wrapped(x)\n",
    "        return x\n",
    "\n",
    "model = M().to(device)\n",
    "model.eval()"
   ]
  },
  {
   "cell_type": "markdown",
   "id": "103adb56-d654-4e26-aaa3-78a5ddac8e53",
   "metadata": {},
   "source": [
    "Fusing Convolution with Batch Norm\n",
    "One of the primary challenges with trying to automatically fuse convolution and batch norm in PyTorch is that PyTorch does not provide an easy way of accessing the computational graph. torch.compile resolves this problem by capturing the computational graph during compilation, allowing us to apply pattern-based optimizations across the entire model, including operations nested within Sequential modules or wrapped in custom modules."
   ]
  },
  {
   "cell_type": "code",
   "execution_count": 4,
   "id": "bafc2942-3318-47a0-9927-e848b1113a27",
   "metadata": {},
   "outputs": [],
   "source": [
    "import torch._inductor.pattern_matcher as pm\n",
    "from torch._inductor.pattern_matcher import register_replacement"
   ]
  },
  {
   "cell_type": "markdown",
   "id": "2b7f22a1-b991-432d-ab58-e388a1065f60",
   "metadata": {},
   "source": [
    "torch.compile will capture a graph representation of our model. During compilation, modules hidden within Sequential containers and wrapped modules are all inlined into the graph, making them available for pattern matching and optimization.\n",
    "\n",
    "## Fusing Convolution with Batch Norm\n",
    "Unlike some other fusions, fusion of convolution with batch norm does not require any new operators. Instead, as batch norm during inference consists of a pointwise add and multiply, these operations can be “baked” into the preceding convolution’s weights. This allows us to remove the batch norm entirely from our model! Read https://nenadmarkus.com/p/fusing-batchnorm-and-conv/ for further details. The code here is copied from pytorch/pytorch clarity purposes."
   ]
  },
  {
   "cell_type": "code",
   "execution_count": 5,
   "id": "32d57f88-5ca1-4709-b692-b583bde6e3a2",
   "metadata": {},
   "outputs": [],
   "source": [
    "def fuse_conv_bn_eval(conv, bn):\n",
    "    \"\"\"\n",
    "    Given a conv Module `A` and an batch_norm module `B`, returns a conv\n",
    "    module `C` such that C(x) == B(A(x)) in inference mode.\n",
    "    \"\"\"\n",
    "    assert(not (conv.training or bn.training)), \"Fusion only for eval!\"\n",
    "    fused_conv = copy.deepcopy(conv)\n",
    "\n",
    "    fused_conv.weight, fused_conv.bias = \\\n",
    "        fuse_conv_bn_weights(fused_conv.weight, fused_conv.bias,\n",
    "                             bn.running_mean, bn.running_var, bn.eps, bn.weight, bn.bias)\n",
    "\n",
    "    return fused_conv\n",
    "\n",
    "def fuse_conv_bn_weights(conv_w, conv_b, bn_rm, bn_rv, bn_eps, bn_w, bn_b):\n",
    "    if conv_b is None:\n",
    "        conv_b = torch.zeros_like(bn_rm)\n",
    "    if bn_w is None:\n",
    "        bn_w = torch.ones_like(bn_rm)\n",
    "    if bn_b is None:\n",
    "        bn_b = torch.zeros_like(bn_rm)\n",
    "    bn_var_rsqrt = torch.rsqrt(bn_rv + bn_eps)\n",
    "\n",
    "    conv_w = conv_w * (bn_w * bn_var_rsqrt).reshape([-1] + [1] * (len(conv_w.shape) - 1))\n",
    "    conv_b = (conv_b - bn_rm) * bn_var_rsqrt * bn_w + bn_b\n",
    "\n",
    "    return torch.nn.Parameter(conv_w), torch.nn.Parameter(conv_b)"
   ]
  },
  {
   "cell_type": "markdown",
   "id": "2e11296f-161d-4a7d-87a4-be27fae2ab6b",
   "metadata": {},
   "source": [
    "## Pattern Matching with torch.compile\n",
    "Now that we have our fusion logic, we need to register a pattern that torch.compile’s pattern matcher will recognize and replace during compilation."
   ]
  },
  {
   "cell_type": "code",
   "execution_count": 6,
   "id": "f9ce987a-ed30-416a-aa39-ba109fe28294",
   "metadata": {},
   "outputs": [],
   "source": [
    "# Define the pattern we want to match: conv2d followed by batch_norm\n",
    "def conv_bn_pattern(x, conv_weight, conv_bias, bn_mean, bn_var, bn_weight, bn_bias):\n",
    "    conv_out = torch.nn.functional.conv2d(x, conv_weight, conv_bias)\n",
    "    bn_out = torch.nn.functional.batch_norm(\n",
    "        conv_out, bn_mean, bn_var, bn_weight, bn_bias,\n",
    "        training=False, eps=1e-5\n",
    "    )\n",
    "    return bn_out\n",
    "\n",
    "def conv_bn_replacement(x, conv_weight, conv_bias, bn_mean, bn_var, bn_weight, bn_bias):\n",
    "    fused_weight, fused_bias = fuse_conv_bn_weights(\n",
    "        conv_weight, conv_bias, bn_mean, bn_var, 1e-5, bn_weight, bn_bias\n",
    "    )\n",
    "    return torch.nn.functional.conv2d(x, fused_weight, fused_bias)\n",
    "\n",
    "# Example inputs are needed to trace the pattern functions.\n",
    "# The inputs should match the function signatures of conv_bn_pattern and conv_bn_replacement.\n",
    "# These are used to trace the pattern functions to create the match template.\n",
    "# IMPORTANT: The pattern matcher is shape-agnostic! The specific shapes you use here\n",
    "# don't limit what shapes will be matched - any valid conv2d->batch_norm sequence\n",
    "# will be matched regardless of channels, kernel size, or spatial dimensions.\n",
    "# - x: input tensor (batch_size, channels, height, width)\n",
    "# - conv_weight: (out_channels, in_channels, kernel_h, kernel_w)\n",
    "# - conv_bias: (out_channels,)\n",
    "# - bn_mean, bn_var, bn_weight, bn_bias: all have shape (num_features,) matching out_channels\n",
    "example_inputs = [\n",
    "    torch.randn(1, 1, 4, 4).to(device),  # x: input tensor\n",
    "    torch.randn(1, 1, 1, 1).to(device),  # conv_weight: 1 output channel, 1 input channel, 1x1 kernel\n",
    "    torch.randn(1).to(device),           # conv_bias: 1 output channel\n",
    "    torch.randn(1).to(device),           # bn_mean: batch norm running mean\n",
    "    torch.randn(1).to(device),           # bn_var: batch norm running variance\n",
    "    torch.randn(1).to(device),           # bn_weight: batch norm weight (gamma)\n",
    "    torch.randn(1).to(device),           # bn_bias: batch norm bias (beta)\n",
    "]\n",
    "\n",
    "from torch._inductor.pattern_matcher import PatternMatcherPass\n",
    "from torch._inductor import config\n",
    "\n",
    "# Create a pattern matcher pass and register our pattern\n",
    "patterns = PatternMatcherPass()\n",
    "\n",
    "register_replacement(\n",
    "    conv_bn_pattern,\n",
    "    conv_bn_replacement,\n",
    "    example_inputs,\n",
    "    pm.fwd_only,\n",
    "    patterns,\n",
    ")\n",
    "\n",
    "# Create a custom pass function that applies our patterns\n",
    "def conv_bn_fusion_pass(graph):\n",
    "    return patterns.apply(graph)\n",
    "\n",
    "# Set our custom pass in the config\n",
    "config.post_grad_custom_post_pass = conv_bn_fusion_pass"
   ]
  },
  {
   "cell_type": "markdown",
   "id": "3703498c-9351-4aae-99ab-e95481e26603",
   "metadata": {},
   "source": [
    "We make some simplifications here for demonstration purposes, such as only matching 2D convolutions. The pattern matcher in torch.compile can handle more complex patterns."
   ]
  },
  {
   "cell_type": "markdown",
   "id": "0fff3a0c-dc24-44d2-b0a1-e3af0391fe1b",
   "metadata": {},
   "source": [
    "## Testing out our Fusion Pass\n",
    "We can now run this fusion pass on our initial toy model and verify that our results are identical. In addition, we can print out the code for our fused model and verify that there are no more batch norms."
   ]
  },
  {
   "cell_type": "code",
   "execution_count": 7,
   "id": "b35d1489-066f-4f5a-9339-e6bdd4191fc2",
   "metadata": {},
   "outputs": [
    {
     "name": "stderr",
     "output_type": "stream",
     "text": [
      "W1014 21:50:02.157000 68683 site-packages/torch/_inductor/utils.py:1436] [0/0] Not enough SMs to use max_autotune_gemm mode\n"
     ]
    }
   ],
   "source": [
    "from torch._dynamo.utils import counters\n",
    "\n",
    "# Clear the counters before compilation\n",
    "counters.clear()\n",
    "\n",
    "# Ensure pattern matcher is enabled\n",
    "config.pattern_matcher = True\n",
    "\n",
    "fused_model = torch.compile(model, backend=\"inductor\")\n",
    "inp = torch.randn(5, 1, 1, 1).to(device)\n",
    "\n",
    "# Run the model to trigger compilation and pattern matching\n",
    "with torch.no_grad():\n",
    "    output = fused_model(inp)\n",
    "    expected = model(inp)\n",
    "    torch.testing.assert_close(output, expected)\n",
    "\n",
    "# Check how many patterns were matched\n",
    "assert counters['inductor']['pattern_matcher_count'] == 3, \"Expected 3 conv-bn patterns to be matched\"\n",
    "\n",
    "# Create a model with different shapes than our example_inputs\n",
    "test_model_diff_shape = nn.Sequential(\n",
    "    nn.Conv2d(3, 16, 5),\n",
    "    nn.BatchNorm2d(16),\n",
    "    nn.ReLU(),\n",
    "    nn.Conv2d(16, 32, 7),\n",
    "    nn.BatchNorm2d(32),\n",
    ").to(device).eval()\n",
    "\n",
    "counters.clear()\n",
    "compiled_diff_shape = torch.compile(test_model_diff_shape, backend=\"inductor\")\n",
    "test_input_diff_shape = torch.randn(1, 3, 28, 28).to(device)\n",
    "with torch.no_grad():\n",
    "    compiled_diff_shape(test_input_diff_shape)\n",
    "\n",
    "# Check how many patterns were matched\n",
    "assert counters['inductor']['pattern_matcher_count'] == 2, \"Expected 2 conv-bn patterns to be matched\""
   ]
  },
  {
   "cell_type": "markdown",
   "id": "aa25a277-1cc0-4275-b662-1d24a1c40e4e",
   "metadata": {},
   "source": [
    "## Benchmarking our Fusion on ResNet18\n",
    "We can test our fusion pass on a larger model like ResNet18 and see how much this pass improves inference performance.\n",
    "\n"
   ]
  },
  {
   "cell_type": "code",
   "execution_count": 8,
   "id": "cb96bbba-4e37-4ad1-b275-d38be6ba9474",
   "metadata": {},
   "outputs": [
    {
     "name": "stdout",
     "output_type": "stream",
     "text": [
      "Original model time:  0.23904681205749512\n",
      "\n",
      "torch.compile (with conv-bn pattern matching and other fusions):  0.1351161003112793\n"
     ]
    }
   ],
   "source": [
    "import torchvision.models as models\n",
    "import time\n",
    "\n",
    "rn18 = models.resnet18().to(device)\n",
    "rn18.eval()\n",
    "\n",
    "inp = torch.randn(10, 3, 224, 224).to(device)\n",
    "output = rn18(inp)\n",
    "\n",
    "def benchmark(model, iters=20):\n",
    "    with torch.no_grad():\n",
    "        for _ in range(10):\n",
    "            model(inp)\n",
    "        begin = time.time()\n",
    "        for _ in range(iters):\n",
    "            model(inp)\n",
    "        return str(time.time()-begin)\n",
    "\n",
    "# Benchmark original model\n",
    "print(\"Original model time: \", benchmark(rn18))\n",
    "\n",
    "# Compile with our custom pattern\n",
    "compiled_with_pattern_matching = torch.compile(rn18, backend=\"inductor\")\n",
    "\n",
    "# Benchmark compiled model\n",
    "print(\"\\ntorch.compile (with conv-bn pattern matching and other fusions): \", benchmark(compiled_with_pattern_matching))\n",
    "\n",
    "\n",
    "############\n",
    "# Conclusion\n",
    "# ----------\n",
    "# As we can see, torch.compile provides a powerful way to implement\n",
    "# graph transformations and optimizations through pattern matching.\n",
    "# By registering custom patterns, we can extend torch.compile's\n",
    "# optimization capabilities to handle domain-specific transformations.\n",
    "#\n",
    "# The conv-bn fusion demonstrated here is just one example of what's\n",
    "# possible with torch.compile's pattern matching system."
   ]
  },
  {
   "cell_type": "markdown",
   "id": "b95144b9-171b-449b-bd08-d60462257327",
   "metadata": {},
   "source": [
    "mps performed much better than colabs t4"
   ]
  },
  {
   "cell_type": "code",
   "execution_count": null,
   "id": "8e59afc7-18af-498c-8fa7-a417435dea9b",
   "metadata": {},
   "outputs": [],
   "source": []
  }
 ],
 "metadata": {
  "kernelspec": {
   "display_name": "torch",
   "language": "python",
   "name": "torch"
  },
  "language_info": {
   "codemirror_mode": {
    "name": "ipython",
    "version": 3
   },
   "file_extension": ".py",
   "mimetype": "text/x-python",
   "name": "python",
   "nbconvert_exporter": "python",
   "pygments_lexer": "ipython3",
   "version": "3.12.11"
  }
 },
 "nbformat": 4,
 "nbformat_minor": 5
}
