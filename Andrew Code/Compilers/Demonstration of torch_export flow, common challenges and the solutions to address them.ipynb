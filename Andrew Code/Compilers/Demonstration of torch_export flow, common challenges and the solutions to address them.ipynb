{
 "cells": [
  {
   "cell_type": "markdown",
   "id": "b335f15d-b0c3-486b-80cc-80b4a52c0f14",
   "metadata": {},
   "source": [
    "# Demonstration of torch.export flow, common challenges and the solutions to address them\n",
    "\n",
    "n the Introduction to torch.export Tutorial , we learned how to use torch.export. This tutorial expands on the previous one and explores the process of exporting popular models with code, as well as addresses common challenges that may arise with torch.export.\n",
    "\n",
    "In this tutorial, you will learn how to export models for these use cases:\n",
    "\n",
    "Video classifier (MViT)\n",
    "\n",
    "Automatic Speech Recognition (OpenAI Whisper-Tiny)\n",
    "\n",
    "Image Captioning (BLIP)\n",
    "\n",
    "Promptable Image Segmentation (SAM2)\n",
    "\n",
    "Each of the four models were chosen to demonstrate unique features of torch.export, as well as some practical considerations and issues faced in the implementation.\n",
    "\n"
   ]
  }
 ],
 "metadata": {
  "kernelspec": {
   "display_name": "torch",
   "language": "python",
   "name": "torch"
  },
  "language_info": {
   "codemirror_mode": {
    "name": "ipython",
    "version": 3
   },
   "file_extension": ".py",
   "mimetype": "text/x-python",
   "name": "python",
   "nbconvert_exporter": "python",
   "pygments_lexer": "ipython3",
   "version": "3.12.11"
  }
 },
 "nbformat": 4,
 "nbformat_minor": 5
}
