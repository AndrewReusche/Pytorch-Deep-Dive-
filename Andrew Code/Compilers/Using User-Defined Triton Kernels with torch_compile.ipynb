{
 "cells": [
  {
   "cell_type": "markdown",
   "id": "74d6dedb-c930-486f-a78b-53eafa87f5a4",
   "metadata": {},
   "source": [
    "# Using User-Defined Triton Kernels with torch.compile\n",
    "\n",
    "User-defined Triton kernels can be used to optimize specific parts of your model’s computation. These kernels are written in Triton’s language, which is designed to make it easier to achieve peak hardware performance. By using user-defined Triton kernels with torch.compile, you can integrate these optimized computations into your PyTorch model, potentially achieving significant performance improvements.\n",
    "\n",
    "This recipes demonstrates how you can use user-defined Triton kernels with torch.compile.\n",
    "\n",
    "### Prerequisites\n",
    "Before starting this recipe, make sure that you have the following:\n",
    "\n",
    "Basic understanding of torch.compile and Triton. See:\n",
    "\n",
    "torch.compiler API documentation\n",
    "\n",
    "Introduction to torch.compile\n",
    "\n",
    "Triton language documentation\n",
    "\n",
    "PyTorch 2.3 or later\n",
    "\n",
    "A GPU that supports Triton"
   ]
  },
  {
   "cell_type": "code",
   "execution_count": 1,
   "id": "dadc0e33-b2e5-496f-ad99-d393dd511dac",
   "metadata": {},
   "outputs": [],
   "source": [
    "#triton cannot be run on mps so i must transfer to google colabs to finish this notebook\n"
   ]
  },
  {
   "cell_type": "code",
   "execution_count": null,
   "id": "8830ceaf-beac-41c7-9275-3a55fdb6342b",
   "metadata": {},
   "outputs": [],
   "source": []
  }
 ],
 "metadata": {
  "kernelspec": {
   "display_name": "torch",
   "language": "python",
   "name": "torch"
  },
  "language_info": {
   "codemirror_mode": {
    "name": "ipython",
    "version": 3
   },
   "file_extension": ".py",
   "mimetype": "text/x-python",
   "name": "python",
   "nbconvert_exporter": "python",
   "pygments_lexer": "ipython3",
   "version": "3.12.11"
  }
 },
 "nbformat": 4,
 "nbformat_minor": 5
}
