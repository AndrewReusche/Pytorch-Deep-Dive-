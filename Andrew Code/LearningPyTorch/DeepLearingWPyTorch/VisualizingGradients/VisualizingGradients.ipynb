{
 "cells": [
  {
   "cell_type": "markdown",
   "id": "a98a7d86-f396-4004-b9c7-aedc85e84cff",
   "metadata": {},
   "source": [
    "# Visualizing Gradients\n",
    "\n",
    "This tutorial explains how to extract and visualize gradients at any layer in a neural network. By inspecting how information flows from the end of the network to the parameters we want to optimize, we can debug issues such as vanishing or exploding gradients that occur during training.\n",
    "\n",
    "Before starting, make sure you understand tensors and how to manipulate them. A basic knowledge of how autograd works would also be useful.\n",
    "\n",
    "## setup \n",
    "\n",
    "First, make sure PyTorch is installed and then import the necessary libraries."
   ]
  },
  {
   "cell_type": "code",
   "execution_count": 1,
   "id": "12a90595-6152-4bd4-9166-05b048744235",
   "metadata": {},
   "outputs": [],
   "source": [
    "import torch\n",
    "import torch.nn as nn\n",
    "import torch.optim as optim\n",
    "import torch.nn.functional as F\n",
    "import matplotlib.pyplot as plt"
   ]
  },
  {
   "cell_type": "markdown",
   "id": "f3faf026-b79f-4a05-8f27-de269fcc5d75",
   "metadata": {},
   "source": [
    "Next, we’ll be creating a network intended for the MNIST dataset, similar to the architecture described by the batch normalization paper.\n",
    "\n",
    "To illustrate the importance of gradient visualization, we will instantiate one version of the network with batch normalization (BatchNorm), and one without it. Batch normalization is an extremely effective technique to resolve vanishing/exploding gradients, and we will be verifying that experimentally.\n",
    "\n",
    "The model we use has a configurable number of repeating fully-connected layers which alternate between nn.Linear, norm_layer, and nn.Sigmoid. If batch normalization is enabled, then norm_layer will use BatchNorm1d, otherwise it will use the Identity transformation."
   ]
  },
  {
   "cell_type": "code",
   "execution_count": 2,
   "id": "86ae41ac-48b0-4ec5-8fba-aa23a2a7c153",
   "metadata": {},
   "outputs": [],
   "source": [
    "def fc_layer(in_size, out_size, norm_layer):\n",
    "    \"\"\"Return a stack of linear->norm->sigmoid layers\"\"\"\n",
    "    return nn.Sequential(nn.Linear(in_size, out_size), norm_layer(out_size), nn.Sigmoid())\n",
    "\n",
    "class Net(nn.Module):\n",
    "    \"\"\"Define a network that has num_layers of linear->norm->sigmoid transformations\"\"\"\n",
    "    def __init__(self, in_size=28*28, hidden_size=128,\n",
    "                 out_size=10, num_layers=3, batchnorm=False):\n",
    "        super().__init__()\n",
    "        if batchnorm is False:\n",
    "            norm_layer = nn.Identity\n",
    "        else:\n",
    "            norm_layer = nn.BatchNorm1d\n",
    "\n",
    "        layers = []\n",
    "        layers.append(fc_layer(in_size, hidden_size, norm_layer))\n",
    "\n",
    "        for i in range(num_layers-1):\n",
    "            layers.append(fc_layer(hidden_size, hidden_size, norm_layer))\n",
    "\n",
    "        layers.append(nn.Linear(hidden_size, out_size))\n",
    "\n",
    "        self.layers = nn.Sequential(*layers)\n",
    "\n",
    "    def forward(self, x):\n",
    "        x = torch.flatten(x, 1)\n",
    "        return self.layers(x)"
   ]
  },
  {
   "cell_type": "markdown",
   "id": "b96877b2-844b-48fb-9e94-4ce47fc32cc4",
   "metadata": {},
   "source": [
    "Next we set up some dummy data, instantiate two versions of the model, and initialize the optimizers."
   ]
  },
  {
   "cell_type": "code",
   "execution_count": 3,
   "id": "f504d1fd-4e74-4194-91bf-c2961be4ac73",
   "metadata": {},
   "outputs": [],
   "source": [
    "# set up dummy data\n",
    "x = torch.randn(10, 28, 28)\n",
    "y = torch.randint(10, (10, ))\n",
    "\n",
    "# init model\n",
    "model_bn = Net(batchnorm=True, num_layers=3)\n",
    "model_nobn = Net(batchnorm=False, num_layers=3)\n",
    "\n",
    "model_bn.train()\n",
    "model_nobn.train()\n",
    "\n",
    "optimizer_bn = optim.SGD(model_bn.parameters(), lr=0.01, momentum=0.9)\n",
    "optimizer_nobn = optim.SGD(model_nobn.parameters(), lr=0.01, momentum=0.9)"
   ]
  },
  {
   "cell_type": "markdown",
   "id": "87f5a0e2-33e8-4ad8-828b-e2911a914930",
   "metadata": {},
   "source": [
    "We can verify that batch normalization is only being applied to one of the models by probing one of the internal layers:"
   ]
  },
  {
   "cell_type": "code",
   "execution_count": 4,
   "id": "c001deb4-5618-4f61-915c-36bd38abe939",
   "metadata": {},
   "outputs": [
    {
     "name": "stdout",
     "output_type": "stream",
     "text": [
      "Sequential(\n",
      "  (0): Linear(in_features=784, out_features=128, bias=True)\n",
      "  (1): BatchNorm1d(128, eps=1e-05, momentum=0.1, affine=True, track_running_stats=True)\n",
      "  (2): Sigmoid()\n",
      ")\n",
      "Sequential(\n",
      "  (0): Linear(in_features=784, out_features=128, bias=True)\n",
      "  (1): Identity()\n",
      "  (2): Sigmoid()\n",
      ")\n"
     ]
    }
   ],
   "source": [
    "print(model_bn.layers[0])\n",
    "print(model_nobn.layers[0])"
   ]
  },
  {
   "cell_type": "markdown",
   "id": "d08856c2-6b5c-42a3-98c5-43950ede0904",
   "metadata": {},
   "source": [
    "## Registering hooks\n",
    "\n",
    "Because we wrapped up the logic and state of our model in a nn.Module, we need another method to access the intermediate gradients if we want to avoid modifying the module code directly. This is done by registering a hook.\n",
    "\n",
    "Warning\n",
    "\n",
    "Using backward pass hooks attached to output tensors is preferred over using retain_grad() on the tensors themselves. An alternative method is to directly attach module hooks (e.g. register_full_backward_hook()) so long as the nn.Module instance does not do perform any in-place operations. For more information, please refer to this issue. https://github.com/pytorch/pytorch/issues/61519\n",
    "\n",
    "The following code defines our hooks and gathers descriptive names for the network’s layers.\n"
   ]
  },
  {
   "cell_type": "code",
   "execution_count": 5,
   "id": "c8e454ac-75d6-4b24-90a5-752265b4ed8d",
   "metadata": {},
   "outputs": [],
   "source": [
    "# note that wrapper functions are used for Python closure\n",
    "# so that we can pass arguments.\n",
    "\n",
    "def hook_forward(module_name, grads, hook_backward):\n",
    "    def hook(module, args, output):\n",
    "        \"\"\"Forward pass hook which attaches backward pass hooks to intermediate tensors\"\"\"\n",
    "        output.register_hook(hook_backward(module_name, grads))\n",
    "    return hook\n",
    "\n",
    "def hook_backward(module_name, grads):\n",
    "    def hook(grad):\n",
    "        \"\"\"Backward pass hook which appends gradients\"\"\"\n",
    "        grads.append((module_name, grad))\n",
    "    return hook\n",
    "\n",
    "def get_all_layers(model, hook_forward, hook_backward):\n",
    "    \"\"\"Register forward pass hook (which registers a backward hook) to model outputs\n",
    "\n",
    "    Returns:\n",
    "        - layers: a dict with keys as layer/module and values as layer/module names\n",
    "                  e.g. layers[nn.Conv2d] = layer1.0.conv1\n",
    "        - grads: a list of tuples with module name and tensor output gradient\n",
    "                 e.g. grads[0] == (layer1.0.conv1, tensor.Torch(...))\n",
    "    \"\"\"\n",
    "    layers = dict()\n",
    "    grads = []\n",
    "    for name, layer in model.named_modules():\n",
    "        # skip Sequential and/or wrapper modules\n",
    "        if any(layer.children()) is False:\n",
    "            layers[layer] = name\n",
    "            layer.register_forward_hook(hook_forward(name, grads, hook_backward))\n",
    "    return layers, grads\n",
    "\n",
    "# register hooks\n",
    "layers_bn, grads_bn = get_all_layers(model_bn, hook_forward, hook_backward)\n",
    "layers_nobn, grads_nobn = get_all_layers(model_nobn, hook_forward, hook_backward)"
   ]
  },
  {
   "cell_type": "markdown",
   "id": "e77a538a-97fb-41f4-a81b-91c120d40c7f",
   "metadata": {},
   "source": [
    "## Training and visualization\n",
    "\n",
    "Let’s now train the models for a few epochs:"
   ]
  },
  {
   "cell_type": "code",
   "execution_count": 6,
   "id": "e38774cf-dc44-4462-bf15-231f1b561ad6",
   "metadata": {},
   "outputs": [],
   "source": [
    "epochs = 10\n",
    "\n",
    "for epoch in range(epochs):\n",
    "\n",
    "    # important to clear, because we append to\n",
    "    # outputs everytime we do a forward pass\n",
    "    grads_bn.clear()\n",
    "    grads_nobn.clear()\n",
    "\n",
    "    optimizer_bn.zero_grad()\n",
    "    optimizer_nobn.zero_grad()\n",
    "\n",
    "    y_pred_bn = model_bn(x)\n",
    "    y_pred_nobn = model_nobn(x)\n",
    "\n",
    "    loss_bn = F.cross_entropy(y_pred_bn, y)\n",
    "    loss_nobn = F.cross_entropy(y_pred_nobn, y)\n",
    "\n",
    "    loss_bn.backward()\n",
    "    loss_nobn.backward()\n",
    "\n",
    "    optimizer_bn.step()\n",
    "    optimizer_nobn.step()"
   ]
  },
  {
   "cell_type": "markdown",
   "id": "166be715-3470-44d6-9a97-9b1448cea9ad",
   "metadata": {},
   "source": [
    "After running the forward and backward pass, the gradients for all the intermediate tensors should be present in grads_bn and grads_nobn. We compute the mean absolute value of each gradient matrix so that we can compare the two models."
   ]
  },
  {
   "cell_type": "code",
   "execution_count": 7,
   "id": "ec2ecdee-42db-4b9e-badb-f8bfeb57c9af",
   "metadata": {},
   "outputs": [],
   "source": [
    "def get_grads(grads):\n",
    "    layer_idx = []\n",
    "    avg_grads = []\n",
    "    for idx, (name, grad) in enumerate(grads):\n",
    "        if grad is not None:\n",
    "            avg_grad = grad.abs().mean()\n",
    "            avg_grads.append(avg_grad)\n",
    "            # idx is backwards since we appended in backward pass\n",
    "            layer_idx.append(len(grads) - 1 - idx)\n",
    "    return layer_idx, avg_grads\n",
    "\n",
    "layer_idx_bn, avg_grads_bn = get_grads(grads_bn)\n",
    "layer_idx_nobn, avg_grads_nobn = get_grads(grads_nobn)"
   ]
  },
  {
   "cell_type": "markdown",
   "id": "8a9bb98c-99cc-4cb3-9ee4-5c7dad207d9a",
   "metadata": {},
   "source": [
    "\n",
    "With the average gradients computed, we can now plot them and see how the values change as a function of the network depth. Notice that when we don’t apply batch normalization, the gradient values in the intermediate layers fall to zero very quickly. The batch normalization model, however, maintains non-zero gradients in its intermediate layers.\n",
    "\n"
   ]
  },
  {
   "cell_type": "code",
   "execution_count": 8,
   "id": "b3e1685c-4c0a-43cf-aba0-36284530afbd",
   "metadata": {},
   "outputs": [
    {
     "data": {
      "image/png": "[encoded data removed]",
      "text/plain": [
       "<Figure size 640x480 with 1 Axes>"
      ]
     },
     "metadata": {},
     "output_type": "display_data"
    }
   ],
   "source": [
    "fig, ax = plt.subplots()\n",
    "ax.plot(layer_idx_bn, avg_grads_bn, label=\"With BatchNorm\", marker=\"o\")\n",
    "ax.plot(layer_idx_nobn, avg_grads_nobn, label=\"Without BatchNorm\", marker=\"x\")\n",
    "ax.set_xlabel(\"Layer depth\")\n",
    "ax.set_ylabel(\"Average gradient\")\n",
    "ax.set_title(\"Gradient flow\")\n",
    "ax.grid(True)\n",
    "ax.legend()\n",
    "plt.show()"
   ]
  },
  {
   "cell_type": "markdown",
   "id": "d62757ce-c6ac-4854-be73-64682ccab408",
   "metadata": {},
   "source": [
    "## Conclusion \n",
    "\n",
    "Conclusion\n",
    "In this tutorial, we demonstrated how to visualize the gradient flow through a neural network wrapped in a nn.Module class. We qualitatively showed how batch normalization helps to alleviate the vanishing gradient issue which occurs with deep neural networks.\n",
    "\n",
    "If you would like to learn more about how PyTorch’s autograd system works, please visit the references below. If you have any feedback for this tutorial (improvements, typo fixes, etc.) then please use the PyTorch Forums and/or the issue tracker to reach out."
   ]
  },
  {
   "cell_type": "code",
   "execution_count": null,
   "id": "dc7ab31f-dd48-480b-933d-61e17beb5453",
   "metadata": {},
   "outputs": [],
   "source": []
  }
 ],
 "metadata": {
  "kernelspec": {
   "display_name": "torch",
   "language": "python",
   "name": "torch"
  },
  "language_info": {
   "codemirror_mode": {
    "name": "ipython",
    "version": 3
   },
   "file_extension": ".py",
   "mimetype": "text/x-python",
   "name": "python",
   "nbconvert_exporter": "python",
   "pygments_lexer": "ipython3",
   "version": "3.12.11"
  }
 },
 "nbformat": 4,
 "nbformat_minor": 5
}
