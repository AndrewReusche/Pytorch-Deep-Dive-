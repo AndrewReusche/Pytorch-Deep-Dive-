{
 "cells": [
  {
   "cell_type": "markdown",
   "id": "d7233c70-4ca8-433b-8ca6-46d4a4f48e39",
   "metadata": {},
   "source": [
    "# A Gentle Introduction to torch.autograd\n"
   ]
  },
  {
   "cell_type": "markdown",
   "id": "366013ca-3cd9-424a-838e-20bcc444a40d",
   "metadata": {},
   "source": [
    "## usage in pytorch"
   ]
  },
  {
   "cell_type": "code",
   "execution_count": 2,
   "id": "272e5407-c868-4a62-8fc8-5a9be5b92bf0",
   "metadata": {},
   "outputs": [
    {
     "name": "stderr",
     "output_type": "stream",
     "text": [
      "Downloading: \"https://download.pytorch.org/models/resnet18-f37072fd.pth\" to /Users/andrewreusche/.cache/torch/hub/checkpoints/resnet18-f37072fd.pth\n",
      "100%|███████████████████████████████████████████████████████████████████████████████████████████████████████████████████████████| 44.7M/44.7M [00:01<00:00, 44.8MB/s]\n"
     ]
    }
   ],
   "source": [
    "import torch\n",
    "from torchvision.models import resnet18, ResNet18_Weights\n",
    "model = resnet18(weights=ResNet18_Weights.DEFAULT)\n",
    "data = torch.rand(1, 3, 64, 64)\n",
    "labels = torch.rand(1, 1000)"
   ]
  },
  {
   "cell_type": "code",
   "execution_count": 5,
   "id": "5c3ef824-895f-4f56-b61f-cfd4e0f561fe",
   "metadata": {},
   "outputs": [],
   "source": [
    "prediction = model(data) # forward pass"
   ]
  },
  {
   "cell_type": "code",
   "execution_count": 6,
   "id": "f58220c8-f6de-4669-a0f0-a2a1c9be5019",
   "metadata": {},
   "outputs": [],
   "source": [
    "loss = (prediction - labels).sum()\n",
    "loss.backward() # backward pass"
   ]
  },
  {
   "cell_type": "code",
   "execution_count": 7,
   "id": "6bea5e1f-dfc6-4286-ad3e-5ff4afcec6c3",
   "metadata": {},
   "outputs": [],
   "source": [
    "optim = torch.optim.SGD(model.parameters(), lr=1e-2, momentum=0.9)"
   ]
  },
  {
   "cell_type": "code",
   "execution_count": 8,
   "id": "105576bb-d9cf-4ba2-86ee-962207cb8d0d",
   "metadata": {},
   "outputs": [],
   "source": [
    "optim.step() #gradient descent"
   ]
  },
  {
   "cell_type": "markdown",
   "id": "464fac06-4abc-4ffa-a904-782b2864a684",
   "metadata": {},
   "source": [
    "## differentiation in Autograd"
   ]
  },
  {
   "cell_type": "code",
   "execution_count": 9,
   "id": "32f3c105-be79-4db7-b0e5-d11cff84ea4b",
   "metadata": {},
   "outputs": [
    {
     "data": {
      "text/plain": [
       "'\\nLet’s take a look at how autograd collects gradients. We create two tensors a and b with requires_grad=True.\\nThis signals to autograd that every operation on them should be tracked.\\n'"
      ]
     },
     "execution_count": 9,
     "metadata": {},
     "output_type": "execute_result"
    }
   ],
   "source": [
    "\"\"\"\n",
    "Let’s take a look at how autograd collects gradients. We create two tensors a and b with requires_grad=True.\n",
    "This signals to autograd that every operation on them should be tracked.\n",
    "\"\"\""
   ]
  },
  {
   "cell_type": "code",
   "execution_count": 10,
   "id": "5205dbb0-0bef-454f-b76a-575a1738faaa",
   "metadata": {},
   "outputs": [],
   "source": [
    "import torch\n",
    "\n",
    "a = torch.tensor([2., 3.], requires_grad=True)\n",
    "b = torch.tensor([6., 4.], requires_grad=True)"
   ]
  },
  {
   "cell_type": "code",
   "execution_count": 13,
   "id": "ce6aac0c-e20e-4c40-aeaf-7345b803ad50",
   "metadata": {},
   "outputs": [],
   "source": [
    "#create anpther tensor\n",
    "Q = 3*a**3 - b**2"
   ]
  },
  {
   "cell_type": "code",
   "execution_count": 15,
   "id": "e6629891-c5bd-427b-bdfd-936d59a0fd83",
   "metadata": {},
   "outputs": [],
   "source": [
    "#When we call .backward() on Q, autograd calculates these gradients and stores them in the respective tensors’ .grad attribute."
   ]
  },
  {
   "cell_type": "code",
   "execution_count": 16,
   "id": "12a977ca-beac-42aa-960d-467fe0ec4ecb",
   "metadata": {},
   "outputs": [],
   "source": [
    "# Equivalently, we can also aggregate Q into a scalar and call backward implicitly, like Q.sum().backward()."
   ]
  },
  {
   "cell_type": "code",
   "execution_count": 17,
   "id": "39174654-28de-4540-8c45-16be96da49ad",
   "metadata": {},
   "outputs": [],
   "source": [
    "external_grad = torch.tensor([1., 1.])\n",
    "Q.backward(gradient=external_grad)"
   ]
  },
  {
   "cell_type": "code",
   "execution_count": 18,
   "id": "f468ac47-22d7-48a0-b3ea-8c60ff5b1d49",
   "metadata": {},
   "outputs": [],
   "source": [
    "# Gradients are now deposited in a.grad and b.grad"
   ]
  },
  {
   "cell_type": "code",
   "execution_count": 19,
   "id": "74817785-fa52-474a-9c60-f4f4c80d997b",
   "metadata": {},
   "outputs": [
    {
     "name": "stdout",
     "output_type": "stream",
     "text": [
      "tensor([True, True])\n",
      "tensor([True, True])\n"
     ]
    }
   ],
   "source": [
    "# check if collected gradients are correct\n",
    "print(9*a**2 == a.grad)\n",
    "print(-2*b == b.grad)"
   ]
  },
  {
   "cell_type": "markdown",
   "id": "5510f757-199b-4dac-8f41-0c5aefce6caa",
   "metadata": {},
   "source": [
    "## exclusion from the DAG\n"
   ]
  },
  {
   "cell_type": "code",
   "execution_count": 22,
   "id": "5a5a73ac-96d0-4783-b41b-04cae0491f1f",
   "metadata": {},
   "outputs": [
    {
     "name": "stdout",
     "output_type": "stream",
     "text": [
      "Does `a` require gradients?: False\n",
      "Does `b` require gradients?: True\n"
     ]
    }
   ],
   "source": [
    "x = torch.rand(5, 5)\n",
    "y = torch.rand(5, 5)\n",
    "z = torch.rand((5, 5), requires_grad=True)\n",
    "\n",
    "a = x + y\n",
    "print(f\"Does `a` require gradients?: {a.requires_grad}\")\n",
    "b = x + z\n",
    "print(f\"Does `b` require gradients?: {b.requires_grad}\")"
   ]
  },
  {
   "cell_type": "code",
   "execution_count": 24,
   "id": "7de5830d-0bd8-41cd-988e-e79fe376d9e1",
   "metadata": {},
   "outputs": [],
   "source": [
    "#In a NN, parameters that don’t compute gradients are usually called frozen parameters."
   ]
  },
  {
   "cell_type": "code",
   "execution_count": 25,
   "id": "283dc84f-eca0-4ede-a47c-c0b46cb5fc43",
   "metadata": {},
   "outputs": [],
   "source": [
    "from torch import nn, optim\n",
    "\n",
    "model = resnet18(weights=ResNet18_Weights.DEFAULT)\n",
    "\n",
    "# Freeze all the parameters in the network\n",
    "for param in model.parameters():\n",
    "    param.requires_grad = False"
   ]
  },
  {
   "cell_type": "code",
   "execution_count": 26,
   "id": "5580b815-10bd-44e6-985a-4fcb739cf193",
   "metadata": {},
   "outputs": [],
   "source": [
    "model.fc = nn.Linear(512, 10)"
   ]
  },
  {
   "cell_type": "code",
   "execution_count": 27,
   "id": "9448a114-917e-45ff-a80d-cfe78f6ace0f",
   "metadata": {},
   "outputs": [],
   "source": [
    "# Optimize only the classifier\n",
    "optimizer = optim.SGD(model.parameters(), lr=1e-2, momentum=0.9)"
   ]
  },
  {
   "cell_type": "code",
   "execution_count": null,
   "id": "5b7c274f-7a5b-4a34-ab98-2538f58a7a68",
   "metadata": {},
   "outputs": [],
   "source": []
  }
 ],
 "metadata": {
  "kernelspec": {
   "display_name": "Python 3 (ipykernel)",
   "language": "python",
   "name": "python3"
  },
  "language_info": {
   "codemirror_mode": {
    "name": "ipython",
    "version": 3
   },
   "file_extension": ".py",
   "mimetype": "text/x-python",
   "name": "python",
   "nbconvert_exporter": "python",
   "pygments_lexer": "ipython3",
   "version": "3.8.19"
  }
 },
 "nbformat": 4,
 "nbformat_minor": 5
}
