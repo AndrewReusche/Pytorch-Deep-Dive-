{
 "cells": [
  {
   "cell_type": "markdown",
   "id": "617e6a65-ab08-458d-9a6a-31880e780f30",
   "metadata": {},
   "source": [
    "# Training a Classifier"
   ]
  },
  {
   "cell_type": "markdown",
   "id": "252c02ee-6db8-4757-9097-d11e880d3e58",
   "metadata": {},
   "source": [
    "Generally, when you have to deal with image, text, audio or video data, you can use standard python packages that load data into a numpy array. Then you can convert this array into a torch.*Tensor.\n",
    "\n",
    "For images, packages such as Pillow, OpenCV are useful\n",
    "\n",
    "For audio, packages such as scipy and librosa\n",
    "\n",
    "For text, either raw Python or Cython based loading, or NLTK and SpaCy are useful"
   ]
  },
  {
   "cell_type": "markdown",
   "id": "6847aa07-9582-460d-b8e2-5c3aaed672ea",
   "metadata": {},
   "source": [
    "## training an image classifier"
   ]
  },
  {
   "cell_type": "markdown",
   "id": "afd1012e-dc36-41a4-8845-cba2c5395417",
   "metadata": {},
   "source": [
    "We will do the following steps in order:\n",
    "\n",
    "Load and normalize the CIFAR10 training and test datasets using torchvision\n",
    "\n",
    "Define a Convolutional Neural Network\n",
    "\n",
    "Define a loss function\n",
    "\n",
    "Train the network on the training data\n",
    "\n",
    "Test the network on the test data"
   ]
  },
  {
   "cell_type": "markdown",
   "id": "5d8bd8cd-97e0-41c3-96bd-79370998dbe9",
   "metadata": {},
   "source": [
    "### 1. Load and normalize CIFAR10"
   ]
  },
  {
   "cell_type": "code",
   "execution_count": 1,
   "id": "d91ef382-e6dc-4065-88cc-e7b24d5b5b0d",
   "metadata": {},
   "outputs": [],
   "source": [
    "import torch\n",
    "import torchvision\n",
    "import torchvision.transforms as transforms"
   ]
  },
  {
   "cell_type": "code",
   "execution_count": 2,
   "id": "f91768fc-75f9-48ff-9314-fa58e0124846",
   "metadata": {},
   "outputs": [
    {
     "name": "stdout",
     "output_type": "stream",
     "text": [
      "Downloading https://www.cs.toronto.edu/~kriz/cifar-10-python.tar.gz to ./data/cifar-10-python.tar.gz\n"
     ]
    },
    {
     "name": "stderr",
     "output_type": "stream",
     "text": [
      "100%|████████████████████████████████████████████████████████████████████████████████████████████████████████████| 170498071/170498071 [00:03<00:00, 49535857.50it/s]\n"
     ]
    },
    {
     "name": "stdout",
     "output_type": "stream",
     "text": [
      "Extracting ./data/cifar-10-python.tar.gz to ./data\n",
      "Files already downloaded and verified\n"
     ]
    }
   ],
   "source": [
    "transform = transforms.Compose(\n",
    "    [transforms.ToTensor(),\n",
    "     transforms.Normalize((0.5, 0.5, 0.5), (0.5, 0.5, 0.5))])\n",
    "\n",
    "batch_size = 4\n",
    "\n",
    "trainset = torchvision.datasets.CIFAR10(root='./data', train=True,\n",
    "                                        download=True, transform=transform)\n",
    "trainloader = torch.utils.data.DataLoader(trainset, batch_size=batch_size,\n",
    "                                          shuffle=True, num_workers=2)\n",
    "\n",
    "testset = torchvision.datasets.CIFAR10(root='./data', train=False,\n",
    "                                       download=True, transform=transform)\n",
    "testloader = torch.utils.data.DataLoader(testset, batch_size=batch_size,\n",
    "                                         shuffle=False, num_workers=2)\n",
    "\n",
    "classes = ('plane', 'car', 'bird', 'cat',\n",
    "           'deer', 'dog', 'frog', 'horse', 'ship', 'truck')"
   ]
  },
  {
   "cell_type": "markdown",
   "id": "41e73cca-7660-43e6-9d12-b9a271fe4750",
   "metadata": {},
   "source": [
    "preview some of the training images"
   ]
  },
  {
   "cell_type": "code",
   "execution_count": 3,
   "id": "696868cf-3e19-45f8-8761-f99bd7365d23",
   "metadata": {},
   "outputs": [
    {
     "data": {
      "image/png": "[encoded data removed]",
      "text/plain": [
       "<Figure size 640x480 with 1 Axes>"
      ]
     },
     "metadata": {},
     "output_type": "display_data"
    },
    {
     "name": "stdout",
     "output_type": "stream",
     "text": [
      "dog   plane plane dog  \n"
     ]
    }
   ],
   "source": [
    "import matplotlib.pyplot as plt\n",
    "import numpy as np\n",
    "\n",
    "# functions to show an image\n",
    "\n",
    "\n",
    "def imshow(img):\n",
    "    img = img / 2 + 0.5     # unnormalize\n",
    "    npimg = img.numpy()\n",
    "    plt.imshow(np.transpose(npimg, (1, 2, 0)))\n",
    "    plt.show()\n",
    "\n",
    "\n",
    "# get some random training images\n",
    "dataiter = iter(trainloader)\n",
    "images, labels = next(dataiter)\n",
    "\n",
    "# show images\n",
    "imshow(torchvision.utils.make_grid(images))\n",
    "# print labels\n",
    "print(' '.join(f'{classes[labels[j]]:5s}' for j in range(batch_size)))"
   ]
  },
  {
   "cell_type": "markdown",
   "id": "1298bb56-6ff6-41a2-91b9-4b8d49866590",
   "metadata": {},
   "source": [
    "### 2. Define a Convolutional Neural Network\n",
    "\n",
    "Copy the neural network from the Neural Networks section before and modify it to take 3-channel images (instead of 1-channel images as it was defined)."
   ]
  },
  {
   "cell_type": "code",
   "execution_count": 5,
   "id": "ae0022f0-0eb6-405d-9762-b9196a0c844b",
   "metadata": {},
   "outputs": [],
   "source": [
    "import torch.nn as nn\n",
    "import torch.nn.functional as F\n",
    "\n",
    "\n",
    "class Net(nn.Module):\n",
    "    def __init__(self):\n",
    "        super().__init__()\n",
    "        self.conv1 = nn.Conv2d(3, 6, 5)\n",
    "        self.pool = nn.MaxPool2d(2, 2)\n",
    "        self.conv2 = nn.Conv2d(6, 16, 5)\n",
    "        self.fc1 = nn.Linear(16 * 5 * 5, 120)\n",
    "        self.fc2 = nn.Linear(120, 84)\n",
    "        self.fc3 = nn.Linear(84, 10)\n",
    "\n",
    "    def forward(self, x):\n",
    "        x = self.pool(F.relu(self.conv1(x)))\n",
    "        x = self.pool(F.relu(self.conv2(x)))\n",
    "        x = torch.flatten(x, 1) # flatten all dimensions except batch\n",
    "        x = F.relu(self.fc1(x))\n",
    "        x = F.relu(self.fc2(x))\n",
    "        x = self.fc3(x)\n",
    "        return x\n",
    "\n",
    "\n",
    "net = Net()"
   ]
  },
  {
   "cell_type": "markdown",
   "id": "0bcef598-6408-4092-b7cf-f755b417c886",
   "metadata": {},
   "source": [
    "### define a loss function and optimizer"
   ]
  },
  {
   "cell_type": "markdown",
   "id": "13994e54-2a95-45ed-8beb-867c9aed5e75",
   "metadata": {},
   "source": [
    "Let’s use a Classification Cross-Entropy loss and SGD with momentum."
   ]
  },
  {
   "cell_type": "code",
   "execution_count": 7,
   "id": "16dabc18-aac4-426c-9018-ad1f57d0ead5",
   "metadata": {},
   "outputs": [],
   "source": [
    "import torch.optim as optim\n",
    "\n",
    "criterion = nn.CrossEntropyLoss()\n",
    "optimizer = optim.SGD(net.parameters(), lr=0.001, momentum=0.9)"
   ]
  },
  {
   "cell_type": "markdown",
   "id": "dbff4bfa-34a2-4453-8a6d-75376c2afe98",
   "metadata": {},
   "source": [
    "### train the network\n",
    "\n",
    "have to loop over our data iterator, and feed the inputs to the network and optimize.\n",
    "\n"
   ]
  },
  {
   "cell_type": "code",
   "execution_count": 8,
   "id": "1fe6a6b4-ca50-438c-b8cc-eba7c064df4e",
   "metadata": {},
   "outputs": [
    {
     "name": "stdout",
     "output_type": "stream",
     "text": [
      "[1,  2000] loss: 2.186\n",
      "[1,  4000] loss: 1.864\n",
      "[1,  6000] loss: 1.678\n",
      "[1,  8000] loss: 1.557\n",
      "[1, 10000] loss: 1.513\n",
      "[1, 12000] loss: 1.453\n",
      "[2,  2000] loss: 1.384\n",
      "[2,  4000] loss: 1.362\n",
      "[2,  6000] loss: 1.328\n",
      "[2,  8000] loss: 1.290\n",
      "[2, 10000] loss: 1.296\n",
      "[2, 12000] loss: 1.282\n",
      "Finished Training\n"
     ]
    }
   ],
   "source": [
    "for epoch in range(2):  # loop over the dataset multiple times\n",
    "\n",
    "    running_loss = 0.0\n",
    "    for i, data in enumerate(trainloader, 0):\n",
    "        # get the inputs; data is a list of [inputs, labels]\n",
    "        inputs, labels = data\n",
    "\n",
    "        # zero the parameter gradients\n",
    "        optimizer.zero_grad()\n",
    "\n",
    "        # forward + backward + optimize\n",
    "        outputs = net(inputs)\n",
    "        loss = criterion(outputs, labels)\n",
    "        loss.backward()\n",
    "        optimizer.step()\n",
    "\n",
    "        # print statistics\n",
    "        running_loss += loss.item()\n",
    "        if i % 2000 == 1999:    # print every 2000 mini-batches\n",
    "            print(f'[{epoch + 1}, {i + 1:5d}] loss: {running_loss / 2000:.3f}')\n",
    "            running_loss = 0.0\n",
    "\n",
    "print('Finished Training')"
   ]
  },
  {
   "cell_type": "markdown",
   "id": "25aa2447-3185-4208-9876-adaf80fd4896",
   "metadata": {},
   "source": [
    "Let’s quickly save our trained model:"
   ]
  },
  {
   "cell_type": "code",
   "execution_count": 9,
   "id": "36ab5622-ce0c-40f5-a391-da3302dea636",
   "metadata": {},
   "outputs": [],
   "source": [
    "PATH = './cifar_net.pth'\n",
    "torch.save(net.state_dict(), PATH)"
   ]
  },
  {
   "cell_type": "markdown",
   "id": "b73e146e-4b8f-4514-bd3d-58cacf1ca7e0",
   "metadata": {},
   "source": [
    "### test the network on the test data\n",
    "\n",
    " first step. Let us display an image from the test set to get familiar."
   ]
  },
  {
   "cell_type": "code",
   "execution_count": 10,
   "id": "4acfbe1e-7732-44a3-a60b-454017c942a4",
   "metadata": {},
   "outputs": [
    {
     "data": {
      "image/png": "[encoded data removed]",
      "text/plain": [
       "<Figure size 640x480 with 1 Axes>"
      ]
     },
     "metadata": {},
     "output_type": "display_data"
    },
    {
     "name": "stdout",
     "output_type": "stream",
     "text": [
      "GroundTruth:  cat   ship  ship  plane\n"
     ]
    }
   ],
   "source": [
    "dataiter = iter(testloader)\n",
    "images, labels = next(dataiter)\n",
    "\n",
    "# print images\n",
    "imshow(torchvision.utils.make_grid(images))\n",
    "print('GroundTruth: ', ' '.join(f'{classes[labels[j]]:5s}' for j in range(4)))"
   ]
  },
  {
   "cell_type": "markdown",
   "id": "67a58f05-78e2-4847-bd6e-dbc8aeea0dfe",
   "metadata": {},
   "source": [
    "Next, let’s load back in our saved model (note: saving and re-loading the model wasn’t necessary here, we only did it to illustrate how to do so):"
   ]
  },
  {
   "cell_type": "code",
   "execution_count": 11,
   "id": "d0e39329-5ba1-486f-9fdd-35fe973a8727",
   "metadata": {},
   "outputs": [
    {
     "data": {
      "text/plain": [
       "<All keys matched successfully>"
      ]
     },
     "execution_count": 11,
     "metadata": {},
     "output_type": "execute_result"
    }
   ],
   "source": [
    "net = Net()\n",
    "net.load_state_dict(torch.load(PATH, weights_only=True))"
   ]
  },
  {
   "cell_type": "markdown",
   "id": "b42f4a6d-ac04-4fa7-b0fa-a9a9eb608a29",
   "metadata": {},
   "source": [
    " let us see what the neural network thinks these examples above are:"
   ]
  },
  {
   "cell_type": "code",
   "execution_count": 12,
   "id": "7506dc52-ecc4-4e55-921b-3acba990d9a5",
   "metadata": {},
   "outputs": [],
   "source": [
    "outputs = net(images)"
   ]
  },
  {
   "cell_type": "markdown",
   "id": "0c0bc7fd-ff43-45f5-bc4f-86d488c06b49",
   "metadata": {},
   "source": [
    "The outputs are energies for the 10 classes. The higher the energy for a class, the more the network thinks that the image is of the particular class. So, let’s get the index of the highest energy:"
   ]
  },
  {
   "cell_type": "code",
   "execution_count": 15,
   "id": "19513a69-d245-48c0-b135-d290ad339140",
   "metadata": {},
   "outputs": [
    {
     "name": "stdout",
     "output_type": "stream",
     "text": [
      "Predicted:  cat   car   plane ship \n"
     ]
    }
   ],
   "source": [
    "_, predicted = torch.max(outputs, 1)\n",
    "\n",
    "print('Predicted: ', ' '.join(f'{classes[predicted[j]]:5s}'\n",
    "                              for j in range(4)))"
   ]
  },
  {
   "cell_type": "markdown",
   "id": "4f568900-265c-43d8-836c-5b25816f399f",
   "metadata": {},
   "source": [
    "Let us look at how the network performs on the whole dataset."
   ]
  },
  {
   "cell_type": "code",
   "execution_count": 16,
   "id": "cef4e284-c425-405c-9d85-ddcf83d231d3",
   "metadata": {},
   "outputs": [
    {
     "name": "stdout",
     "output_type": "stream",
     "text": [
      "Accuracy of the network on the 10000 test images: 56 %\n"
     ]
    }
   ],
   "source": [
    "correct = 0\n",
    "total = 0\n",
    "# since we're not training, we don't need to calculate the gradients for our outputs\n",
    "with torch.no_grad():\n",
    "    for data in testloader:\n",
    "        images, labels = data\n",
    "        # calculate outputs by running images through the network\n",
    "        outputs = net(images)\n",
    "        # the class with the highest energy is what we choose as prediction\n",
    "        _, predicted = torch.max(outputs, 1)\n",
    "        total += labels.size(0)\n",
    "        correct += (predicted == labels).sum().item()\n",
    "\n",
    "print(f'Accuracy of the network on the 10000 test images: {100 * correct // total} %')"
   ]
  },
  {
   "cell_type": "markdown",
   "id": "b8f835b8-12cd-4c14-8c85-66f3c16b2522",
   "metadata": {},
   "source": [
    "what are the classes that performed well, and the classes that did not perform well:"
   ]
  },
  {
   "cell_type": "code",
   "execution_count": 17,
   "id": "a119feed-6677-4b08-9c25-72861ec8087a",
   "metadata": {},
   "outputs": [
    {
     "name": "stdout",
     "output_type": "stream",
     "text": [
      "Accuracy for class: plane is 57.1 %\n",
      "Accuracy for class: car   is 61.4 %\n",
      "Accuracy for class: bird  is 25.9 %\n",
      "Accuracy for class: cat   is 31.0 %\n",
      "Accuracy for class: deer  is 60.6 %\n",
      "Accuracy for class: dog   is 52.0 %\n",
      "Accuracy for class: frog  is 65.0 %\n",
      "Accuracy for class: horse is 71.6 %\n",
      "Accuracy for class: ship  is 68.6 %\n",
      "Accuracy for class: truck is 69.7 %\n"
     ]
    }
   ],
   "source": [
    "# prepare to count predictions for each class\n",
    "correct_pred = {classname: 0 for classname in classes}\n",
    "total_pred = {classname: 0 for classname in classes}\n",
    "\n",
    "# again no gradients needed\n",
    "with torch.no_grad():\n",
    "    for data in testloader:\n",
    "        images, labels = data\n",
    "        outputs = net(images)\n",
    "        _, predictions = torch.max(outputs, 1)\n",
    "        # collect the correct predictions for each class\n",
    "        for label, prediction in zip(labels, predictions):\n",
    "            if label == prediction:\n",
    "                correct_pred[classes[label]] += 1\n",
    "            total_pred[classes[label]] += 1\n",
    "\n",
    "\n",
    "# print accuracy for each class\n",
    "for classname, correct_count in correct_pred.items():\n",
    "    accuracy = 100 * float(correct_count) / total_pred[classname]\n",
    "    print(f'Accuracy for class: {classname:5s} is {accuracy:.1f} %')"
   ]
  },
  {
   "cell_type": "markdown",
   "id": "b7fb60c3-4aea-4d03-b874-9f9b12965fba",
   "metadata": {},
   "source": [
    "### training on gpu\n"
   ]
  },
  {
   "cell_type": "markdown",
   "id": "88dda6e4-cef9-46ff-8751-e504233b0e61",
   "metadata": {},
   "source": [
    "Just like how you transfer a Tensor onto the GPU, you transfer the neural net onto the GPU.\n",
    "\n",
    "Let’s first define our device as the first visible cuda device if we have CUDA available:"
   ]
  },
  {
   "cell_type": "code",
   "execution_count": 18,
   "id": "026a85af-8c1e-49b0-a759-6ed633d27b27",
   "metadata": {},
   "outputs": [
    {
     "name": "stdout",
     "output_type": "stream",
     "text": [
      "cpu\n"
     ]
    }
   ],
   "source": [
    "device = torch.device('cuda:0' if torch.cuda.is_available() else 'cpu')\n",
    "\n",
    "# Assuming that we are on a CUDA machine, this should print a CUDA device:\n",
    "\n",
    "print(device)"
   ]
  },
  {
   "cell_type": "markdown",
   "id": "abd3e903-627c-42c8-be68-6602c74df3f9",
   "metadata": {},
   "source": [
    "The rest of this section assumes that device is a CUDA device."
   ]
  },
  {
   "cell_type": "code",
   "execution_count": 19,
   "id": "aeea867c-ca4b-4f39-81ee-e4287fef9566",
   "metadata": {},
   "outputs": [
    {
     "data": {
      "text/plain": [
       "Net(\n",
       "  (conv1): Conv2d(3, 6, kernel_size=(5, 5), stride=(1, 1))\n",
       "  (pool): MaxPool2d(kernel_size=2, stride=2, padding=0, dilation=1, ceil_mode=False)\n",
       "  (conv2): Conv2d(6, 16, kernel_size=(5, 5), stride=(1, 1))\n",
       "  (fc1): Linear(in_features=400, out_features=120, bias=True)\n",
       "  (fc2): Linear(in_features=120, out_features=84, bias=True)\n",
       "  (fc3): Linear(in_features=84, out_features=10, bias=True)\n",
       ")"
      ]
     },
     "execution_count": 19,
     "metadata": {},
     "output_type": "execute_result"
    }
   ],
   "source": [
    "net.to(device)"
   ]
  },
  {
   "cell_type": "code",
   "execution_count": 20,
   "id": "cbacb6b6-ed0c-4356-894a-bd0c7c655a72",
   "metadata": {},
   "outputs": [],
   "source": [
    "inputs, labels = data[0].to(device), data[1].to(device)"
   ]
  },
  {
   "cell_type": "code",
   "execution_count": null,
   "id": "81b0d8cf-2bcd-4bb0-83dd-53e1b35e8ad1",
   "metadata": {},
   "outputs": [],
   "source": []
  }
 ],
 "metadata": {
  "kernelspec": {
   "display_name": "Python 3 (ipykernel)",
   "language": "python",
   "name": "python3"
  },
  "language_info": {
   "codemirror_mode": {
    "name": "ipython",
    "version": 3
   },
   "file_extension": ".py",
   "mimetype": "text/x-python",
   "name": "python",
   "nbconvert_exporter": "python",
   "pygments_lexer": "ipython3",
   "version": "3.8.19"
  }
 },
 "nbformat": 4,
 "nbformat_minor": 5
}
