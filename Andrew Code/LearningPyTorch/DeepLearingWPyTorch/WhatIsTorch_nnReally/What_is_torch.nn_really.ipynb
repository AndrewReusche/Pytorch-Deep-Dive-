{
 "cells": [
  {
   "cell_type": "markdown",
   "id": "1a49e5b6-a0c8-4309-a908-3c676a027a7c",
   "metadata": {},
   "source": [
    "# What is torch.nn really?\n",
    "\n",
    "## MNIST data setup\n"
   ]
  },
  {
   "cell_type": "code",
   "execution_count": 1,
   "id": "67372ae3-55b9-4481-a135-1a30e8943c2d",
   "metadata": {},
   "outputs": [],
   "source": [
    "from pathlib import Path\n",
    "import requests\n",
    "\n",
    "DATA_PATH = Path(\"data\")\n",
    "PATH = DATA_PATH / \"mnist\"\n",
    "\n",
    "PATH.mkdir(parents=True, exist_ok=True)\n",
    "\n",
    "URL = \"https://github.com/pytorch/tutorials/raw/main/_static/\"\n",
    "FILENAME = \"mnist.pkl.gz\"\n",
    "\n",
    "if not (PATH / FILENAME).exists():\n",
    "        content = requests.get(URL + FILENAME).content\n",
    "        (PATH / FILENAME).open(\"wb\").write(content)"
   ]
  },
  {
   "cell_type": "code",
   "execution_count": 2,
   "id": "d407035b-e4d3-4a9b-b05f-2e820d5bcd98",
   "metadata": {},
   "outputs": [],
   "source": [
    "import pickle\n",
    "import gzip\n",
    "\n",
    "with gzip.open((PATH / FILENAME).as_posix(), \"rb\") as f:\n",
    "        ((x_train, y_train), (x_valid, y_valid), _) = pickle.load(f, encoding=\"latin-1\")"
   ]
  },
  {
   "cell_type": "markdown",
   "id": "adbd1514-9d3c-4d4b-b14b-fcabdfd37eba",
   "metadata": {},
   "source": [
    "Each image is 28 x 28, and is being stored as a flattened row of length 784 (=28x28). Let’s take a look at one; we need to reshape it to 2d first."
   ]
  },
  {
   "cell_type": "code",
   "execution_count": 3,
   "id": "2c01b582-6832-48ff-8b93-416aae7416f1",
   "metadata": {},
   "outputs": [
    {
     "data": {
      "image/png": "[encoded data removed]",
      "text/plain": [
       "<Figure size 640x480 with 1 Axes>"
      ]
     },
     "metadata": {},
     "output_type": "display_data"
    },
    {
     "name": "stdout",
     "output_type": "stream",
     "text": [
      "(50000, 784)\n"
     ]
    }
   ],
   "source": [
    "from matplotlib import pyplot\n",
    "import numpy as np\n",
    "\n",
    "pyplot.imshow(x_train[0].reshape((28, 28)), cmap=\"gray\")\n",
    "# ``pyplot.show()`` only if not on Colab\n",
    "try:\n",
    "    import google.colab\n",
    "except ImportError:\n",
    "    pyplot.show()\n",
    "print(x_train.shape)"
   ]
  },
  {
   "cell_type": "markdown",
   "id": "60bf9d1b-34d7-4a06-a576-fe6656b1a2e1",
   "metadata": {},
   "source": [
    "PyTorch uses torch.tensor, rather than numpy arrays, so we need to convert our data."
   ]
  },
  {
   "cell_type": "code",
   "execution_count": 4,
   "id": "a6f426fc-4c60-4ee1-805e-cd74988e511a",
   "metadata": {},
   "outputs": [
    {
     "name": "stdout",
     "output_type": "stream",
     "text": [
      "tensor([[0., 0., 0.,  ..., 0., 0., 0.],\n",
      "        [0., 0., 0.,  ..., 0., 0., 0.],\n",
      "        [0., 0., 0.,  ..., 0., 0., 0.],\n",
      "        ...,\n",
      "        [0., 0., 0.,  ..., 0., 0., 0.],\n",
      "        [0., 0., 0.,  ..., 0., 0., 0.],\n",
      "        [0., 0., 0.,  ..., 0., 0., 0.]]) tensor([5, 0, 4,  ..., 8, 4, 8])\n",
      "torch.Size([50000, 784])\n",
      "tensor(0) tensor(9)\n"
     ]
    }
   ],
   "source": [
    "import torch\n",
    "\n",
    "x_train, y_train, x_valid, y_valid = map(\n",
    "    torch.tensor, (x_train, y_train, x_valid, y_valid)\n",
    ")\n",
    "n, c = x_train.shape\n",
    "print(x_train, y_train)\n",
    "print(x_train.shape)\n",
    "print(y_train.min(), y_train.max())"
   ]
  },
  {
   "cell_type": "markdown",
   "id": "e52f2afa-204e-405a-b825-d24a062a87d7",
   "metadata": {},
   "source": [
    "## Neural net from scratch (without torch.nn)\n",
    "\n"
   ]
  },
  {
   "cell_type": "code",
   "execution_count": 5,
   "id": "e2984ba3-9410-436d-ba66-6d1498f1a61c",
   "metadata": {},
   "outputs": [],
   "source": [
    "import math\n",
    "\n",
    "weights = torch.randn(784, 10) / math.sqrt(784)\n",
    "weights.requires_grad_()\n",
    "bias = torch.zeros(10, requires_grad=True)"
   ]
  },
  {
   "cell_type": "code",
   "execution_count": 6,
   "id": "529b5113-afbf-4dd1-8064-01c3f0711dfd",
   "metadata": {},
   "outputs": [],
   "source": [
    "def log_softmax(x):\n",
    "    return x - x.exp().sum(-1).log().unsqueeze(-1)\n",
    "\n",
    "def model(xb):\n",
    "    return log_softmax(xb @ weights + bias)"
   ]
  },
  {
   "cell_type": "code",
   "execution_count": 7,
   "id": "2cb445e4-5d01-4047-806c-9534c4d6ef9c",
   "metadata": {},
   "outputs": [
    {
     "name": "stdout",
     "output_type": "stream",
     "text": [
      "tensor([-2.1894, -2.2082, -2.4534, -2.4833, -2.1521, -2.6061, -2.6591, -2.7306,\n",
      "        -2.2179, -1.7454], grad_fn=<SelectBackward0>) torch.Size([64, 10])\n"
     ]
    }
   ],
   "source": [
    "bs = 64  # batch size\n",
    "\n",
    "xb = x_train[0:bs]  # a mini-batch from x\n",
    "preds = model(xb)  # predictions\n",
    "preds[0], preds.shape\n",
    "print(preds[0], preds.shape)"
   ]
  },
  {
   "cell_type": "markdown",
   "id": "6487ddae-2e2f-4118-845c-701b7e4f4155",
   "metadata": {},
   "source": [
    "Let’s implement negative log-likelihood to use as the loss function (again, we can just use standard Python):"
   ]
  },
  {
   "cell_type": "code",
   "execution_count": 8,
   "id": "8f03b5cd-7ae9-4f97-a7d7-321ac43fc330",
   "metadata": {},
   "outputs": [],
   "source": [
    "def nll(input, target):\n",
    "    return -input[range(target.shape[0]), target].mean()\n",
    "\n",
    "loss_func = nll"
   ]
  },
  {
   "cell_type": "markdown",
   "id": "fb5ee9c7-ea62-46a7-897b-cb58453c9e06",
   "metadata": {},
   "source": [
    "Let’s check our loss with our random model, so we can see if we improve after a backprop pass later."
   ]
  },
  {
   "cell_type": "code",
   "execution_count": 9,
   "id": "89740d44-0dae-4d33-beef-06a6a5d8b1ce",
   "metadata": {},
   "outputs": [
    {
     "name": "stdout",
     "output_type": "stream",
     "text": [
      "tensor(2.2745, grad_fn=<NegBackward0>)\n"
     ]
    }
   ],
   "source": [
    "yb = y_train[0:bs]\n",
    "print(loss_func(preds, yb))"
   ]
  },
  {
   "cell_type": "markdown",
   "id": "f4212864-e41d-430a-80e4-b468db3f8461",
   "metadata": {},
   "source": [
    "Let’s also implement a function to calculate the accuracy of our model. For each prediction, if the index with the largest value matches the target value, then the prediction was correct.\n",
    "\n"
   ]
  },
  {
   "cell_type": "code",
   "execution_count": 10,
   "id": "e9be56e7-3cd8-45b2-8c6e-333972b369d3",
   "metadata": {},
   "outputs": [],
   "source": [
    "def accuracy(out, yb):\n",
    "    preds = torch.argmax(out, dim=1)\n",
    "    return (preds == yb).float().mean()"
   ]
  },
  {
   "cell_type": "code",
   "execution_count": 11,
   "id": "441ff052-6d50-446f-bf6d-f037e922748f",
   "metadata": {},
   "outputs": [
    {
     "name": "stdout",
     "output_type": "stream",
     "text": [
      "tensor(0.2031)\n"
     ]
    }
   ],
   "source": [
    "print(accuracy(preds, yb))"
   ]
  },
  {
   "cell_type": "markdown",
   "id": "c7858b5b-a731-4d3f-a818-335848f8b587",
   "metadata": {},
   "source": [
    "We can now run a training loop. For each iteration, we will:\n",
    "\n",
    "select a mini-batch of data (of size bs)\n",
    "\n",
    "use the model to make predictions\n",
    "\n",
    "calculate the loss\n",
    "\n",
    "loss.backward() updates the gradients of the model, in this case, weights and bias."
   ]
  },
  {
   "cell_type": "code",
   "execution_count": 12,
   "id": "05b5cfc0-6d95-41b6-b6a6-be6e588c88e0",
   "metadata": {},
   "outputs": [],
   "source": [
    "from IPython.core.debugger import set_trace\n",
    "\n",
    "lr = 0.5  # learning rate\n",
    "epochs = 2  # how many epochs to train for\n",
    "\n",
    "for epoch in range(epochs):\n",
    "    for i in range((n - 1) // bs + 1):\n",
    "        #set_trace()\n",
    "        start_i = i * bs\n",
    "        end_i = start_i + bs\n",
    "        xb = x_train[start_i:end_i]\n",
    "        yb = y_train[start_i:end_i]\n",
    "        pred = model(xb)\n",
    "        loss = loss_func(pred, yb)\n",
    "\n",
    "        loss.backward()\n",
    "        with torch.no_grad():\n",
    "            weights -= weights.grad * lr\n",
    "            bias -= bias.grad * lr\n",
    "            weights.grad.zero_()\n",
    "            bias.grad.zero_()"
   ]
  },
  {
   "cell_type": "code",
   "execution_count": 13,
   "id": "35e700ab-fe2b-4eab-9cea-3efba3db115d",
   "metadata": {},
   "outputs": [
    {
     "name": "stdout",
     "output_type": "stream",
     "text": [
      "tensor(0.0803, grad_fn=<NegBackward0>) tensor(1.)\n"
     ]
    }
   ],
   "source": [
    "print(loss_func(model(xb), yb), accuracy(model(xb), yb))"
   ]
  },
  {
   "cell_type": "markdown",
   "id": "33bc61cd-0e11-48c9-99a6-17d8a2c3e98f",
   "metadata": {},
   "source": [
    "## Using torch.nn.functional\n",
    "If you’re using negative log likelihood loss and log softmax activation, then Pytorch provides a single function F.cross_entropy that combines the two. So we can even remove the activation function from our model.\n"
   ]
  },
  {
   "cell_type": "code",
   "execution_count": 27,
   "id": "9aaa686d-0509-4225-b9e2-eeae5c84e8d1",
   "metadata": {},
   "outputs": [],
   "source": [
    "import torch.nn.functional as F\n",
    "\n",
    "loss_func = F.cross_entropy\n",
    "\n",
    "def model(xb):\n",
    "    return xb @ weights + bias"
   ]
  },
  {
   "cell_type": "code",
   "execution_count": 28,
   "id": "5f614b05-9225-4079-8fca-98f30f933e1f",
   "metadata": {},
   "outputs": [
    {
     "name": "stdout",
     "output_type": "stream",
     "text": [
      "tensor(0.0803, grad_fn=<NllLossBackward0>) tensor(1.)\n"
     ]
    }
   ],
   "source": [
    "print(loss_func(model(xb), yb), accuracy(model(xb), yb))"
   ]
  },
  {
   "cell_type": "markdown",
   "id": "4b919084-26c1-4305-a2ad-ad4240bcf224",
   "metadata": {},
   "source": [
    "## Refactor using nn.Module"
   ]
  },
  {
   "cell_type": "code",
   "execution_count": 29,
   "id": "22cf129b-73e9-46e4-8cfb-16eddf224111",
   "metadata": {},
   "outputs": [],
   "source": [
    "from torch import nn\n",
    "\n",
    "class Mnist_Logistic(nn.Module):\n",
    "    def __init__(self):\n",
    "        super().__init__()\n",
    "        self.weights = nn.Parameter(torch.randn(784, 10) / math.sqrt(784))\n",
    "        self.bias = nn.Parameter(torch.zeros(10))\n",
    "\n",
    "    def forward(self, xb):\n",
    "        return xb @ self.weights + self.bias"
   ]
  },
  {
   "cell_type": "markdown",
   "id": "6bc94fb2-96a0-45a2-870d-aab231aa43e4",
   "metadata": {},
   "source": [
    "Since we’re now using an object instead of just using a function, we first have to instantiate our model:"
   ]
  },
  {
   "cell_type": "code",
   "execution_count": 30,
   "id": "4b91840b-25cc-475e-9dd4-71bcc2e25132",
   "metadata": {},
   "outputs": [],
   "source": [
    "model = Mnist_Logistic()"
   ]
  },
  {
   "cell_type": "code",
   "execution_count": 31,
   "id": "a294bc77-1846-45a4-a170-b76516a9247c",
   "metadata": {},
   "outputs": [
    {
     "name": "stdout",
     "output_type": "stream",
     "text": [
      "tensor(2.2901, grad_fn=<NllLossBackward0>)\n"
     ]
    }
   ],
   "source": [
    "print(loss_func(model(xb), yb))"
   ]
  },
  {
   "cell_type": "markdown",
   "id": "f1e9a0e9-abd1-4028-8418-87223e430066",
   "metadata": {},
   "source": [
    "We’ll wrap our little training loop in a fit function so we can run it again later."
   ]
  },
  {
   "cell_type": "code",
   "execution_count": 32,
   "id": "5559159e-2b7e-43d8-bd9a-459997996ba3",
   "metadata": {},
   "outputs": [],
   "source": [
    "def fit():\n",
    "    for epoch in range(epochs):\n",
    "        for i in range((n - 1) // bs + 1):\n",
    "            start_i = i * bs\n",
    "            end_i = start_i + bs\n",
    "            xb = x_train[start_i:end_i]\n",
    "            yb = y_train[start_i:end_i]\n",
    "            pred = model(xb)\n",
    "            loss = loss_func(pred, yb)\n",
    "\n",
    "            loss.backward()\n",
    "            with torch.no_grad():\n",
    "                for p in model.parameters():\n",
    "                    p -= p.grad * lr\n",
    "                model.zero_grad()\n",
    "\n",
    "fit()"
   ]
  },
  {
   "cell_type": "markdown",
   "id": "e1ced57d-f7a8-4bd9-8271-442a59585f6a",
   "metadata": {},
   "source": [
    "Let’s double-check that our loss has gone down:"
   ]
  },
  {
   "cell_type": "code",
   "execution_count": 34,
   "id": "db159e0b-f8a9-49ae-afc4-0634d20b6294",
   "metadata": {},
   "outputs": [
    {
     "name": "stdout",
     "output_type": "stream",
     "text": [
      "tensor(0.0855, grad_fn=<NllLossBackward0>)\n"
     ]
    }
   ],
   "source": [
    "print(loss_func(model(xb), yb))"
   ]
  },
  {
   "cell_type": "markdown",
   "id": "52e49a4c-5a0c-4609-a2a0-d0bb23fe4d62",
   "metadata": {},
   "source": [
    "## Refactor using nn.Linear\n",
    "\n",
    "We continue to refactor our code. Instead of manually defining and initializing self.weights and self.bias, and calculating xb  @ self.weights + self.bias, we will instead use the Pytorch class nn.Linear for a linear layer, which does all that for us. Pytorch has many types of predefined layers that can greatly simplify our code, and often makes it faster too.\n"
   ]
  },
  {
   "cell_type": "code",
   "execution_count": 35,
   "id": "bb683647-875d-4741-90d5-83b463f6c32d",
   "metadata": {},
   "outputs": [],
   "source": [
    "class Mnist_Logistic(nn.Module):\n",
    "    def __init__(self):\n",
    "        super().__init__()\n",
    "        self.lin = nn.Linear(784, 10)\n",
    "\n",
    "    def forward(self, xb):\n",
    "        return self.lin(xb)"
   ]
  },
  {
   "cell_type": "markdown",
   "id": "adf3886b-9dfd-4796-8293-e5caf3448997",
   "metadata": {},
   "source": [
    "We instantiate our model and calculate the loss in the same way as before:"
   ]
  },
  {
   "cell_type": "code",
   "execution_count": 36,
   "id": "a45f53ad-3d40-4ce1-8982-cfed5a25c22a",
   "metadata": {},
   "outputs": [
    {
     "name": "stdout",
     "output_type": "stream",
     "text": [
      "tensor(2.3527, grad_fn=<NllLossBackward0>)\n"
     ]
    }
   ],
   "source": [
    "model = Mnist_Logistic()\n",
    "print(loss_func(model(xb), yb))"
   ]
  },
  {
   "cell_type": "markdown",
   "id": "b36b1895-8584-4587-a050-b5ace167dba3",
   "metadata": {},
   "source": [
    "We are still able to use our same fit method as before."
   ]
  },
  {
   "cell_type": "code",
   "execution_count": 37,
   "id": "fbf1d668-82d0-4079-a214-8978de334641",
   "metadata": {},
   "outputs": [
    {
     "name": "stdout",
     "output_type": "stream",
     "text": [
      "tensor(0.0812, grad_fn=<NllLossBackward0>)\n"
     ]
    }
   ],
   "source": [
    "fit()\n",
    "\n",
    "print(loss_func(model(xb), yb))"
   ]
  },
  {
   "cell_type": "markdown",
   "id": "e8ac39b5-a9c1-455a-9c79-72510f679ae8",
   "metadata": {},
   "source": [
    "## Refactor using torch.optim\n",
    "\n",
    "Pytorch also has a package with various optimization algorithms, torch.optim. We can use the step method from our optimizer to take a forward step, instead of manually updating each parameter.\n",
    "\n",
    "This will let us replace our previous manually coded optimization step:"
   ]
  },
  {
   "cell_type": "code",
   "execution_count": 38,
   "id": "d5d7738b-2527-4fe3-bf0f-e2e84515fcdb",
   "metadata": {},
   "outputs": [
    {
     "name": "stdout",
     "output_type": "stream",
     "text": [
      "tensor(2.3127, grad_fn=<NllLossBackward0>)\n",
      "tensor(0.0802, grad_fn=<NllLossBackward0>)\n"
     ]
    }
   ],
   "source": [
    "\"\"\" \n",
    "instead of :\n",
    "\n",
    "with torch.no_grad():\n",
    "    for p in model.parameters(): p -= p.grad * lr\n",
    "    model.zero_grad()\n",
    "\n",
    "we just use:\n",
    "\n",
    "opt.step()\n",
    "opt.zero_grad()\n",
    "\"\"\"\n",
    "from torch import optim\n",
    "\n",
    "#create a function to create our model and optimizer for future use \n",
    "\n",
    "def get_model():\n",
    "    model = Mnist_Logistic()\n",
    "    return model, optim.SGD(model.parameters(), lr=lr)\n",
    "\n",
    "model, opt = get_model()\n",
    "print(loss_func(model(xb), yb))\n",
    "\n",
    "for epoch in range(epochs):\n",
    "    for i in range((n - 1) // bs + 1):\n",
    "        start_i = i * bs\n",
    "        end_i = start_i + bs\n",
    "        xb = x_train[start_i:end_i]\n",
    "        yb = y_train[start_i:end_i]\n",
    "        pred = model(xb)\n",
    "        loss = loss_func(pred, yb)\n",
    "\n",
    "        loss.backward()\n",
    "        opt.step()\n",
    "        opt.zero_grad()\n",
    "\n",
    "print(loss_func(model(xb), yb))"
   ]
  },
  {
   "cell_type": "markdown",
   "id": "c2bc3ff5-18f5-4163-9e62-312d643a88cb",
   "metadata": {},
   "source": [
    "## Refactor using Dataset\n",
    " This tutorial walks through a nice example of creating a custom FacialLandmarkDataset class as a subclass of Dataset.\n",
    "\n",
    "PyTorch’s TensorDataset is a Dataset wrapping tensors. By defining a length and way of indexing, this also gives us a way to iterate, index, and slice along the first dimension of a tensor. This will make it easier to access both the independent and dependent variables in the same line as we train.\n"
   ]
  },
  {
   "cell_type": "code",
   "execution_count": 24,
   "id": "0a30d52d-5b86-461c-b083-4707b33398c8",
   "metadata": {},
   "outputs": [],
   "source": [
    "from torch.utils.data import TensorDataset"
   ]
  },
  {
   "cell_type": "markdown",
   "id": "ac02ed0a-0a58-4f58-b5d9-30a10638dfb2",
   "metadata": {},
   "source": [
    "Both x_train and y_train can be combined in a single TensorDataset, which will be easier to iterate over and slice."
   ]
  },
  {
   "cell_type": "code",
   "execution_count": 39,
   "id": "c43e11a9-9462-4c75-8702-b67aad13a379",
   "metadata": {},
   "outputs": [],
   "source": [
    "train_ds = TensorDataset(x_train, y_train)"
   ]
  },
  {
   "cell_type": "code",
   "execution_count": 40,
   "id": "b5d7988c-413b-4dc0-aa8c-b32c06f84aa9",
   "metadata": {},
   "outputs": [
    {
     "name": "stdout",
     "output_type": "stream",
     "text": [
      "tensor(0.0813, grad_fn=<NllLossBackward0>)\n"
     ]
    }
   ],
   "source": [
    "'''\n",
    "Previously, we had to iterate through minibatches of x and y values separately:\n",
    "\n",
    "xb = x_train[start_i:end_i]\n",
    "yb = y_train[start_i:end_i]\n",
    "\n",
    "Now, we can do these two steps together:\n",
    "\n",
    "xb,yb = train_ds[i*bs : i*bs+bs]\n",
    "\n",
    "'''\n",
    "\n",
    "model, opt = get_model()\n",
    "\n",
    "for epoch in range(epochs):\n",
    "    for i in range((n - 1) // bs + 1):\n",
    "        xb, yb = train_ds[i * bs: i * bs + bs]\n",
    "        pred = model(xb)\n",
    "        loss = loss_func(pred, yb)\n",
    "\n",
    "        loss.backward()\n",
    "        opt.step()\n",
    "        opt.zero_grad()\n",
    "\n",
    "print(loss_func(model(xb), yb))\n",
    "\n"
   ]
  },
  {
   "cell_type": "markdown",
   "id": "45b097d2-1a47-4192-862c-79f266c5b21c",
   "metadata": {},
   "source": [
    "## refactor using DataLoader\n",
    "\n",
    "PyTorch’s DataLoader is responsible for managing batches. You can create a DataLoader from any Dataset. DataLoader makes it easier to iterate over batches. Rather than having to use train_ds[i*bs : i*bs+bs], the DataLoader gives us each minibatch automatically."
   ]
  },
  {
   "cell_type": "code",
   "execution_count": 42,
   "id": "5dc840a2-d0f9-4227-80ff-0129ab63b40d",
   "metadata": {},
   "outputs": [],
   "source": [
    "from torch.utils.data import DataLoader\n",
    "\n",
    "train_ds = TensorDataset(x_train, y_train)\n",
    "#dl= dataloader\n",
    "train_dl = DataLoader(train_ds, batch_size=bs)"
   ]
  },
  {
   "cell_type": "code",
   "execution_count": 43,
   "id": "66c7a438-92c6-4f6c-b4bc-29f274bb5542",
   "metadata": {},
   "outputs": [
    {
     "name": "stdout",
     "output_type": "stream",
     "text": [
      "tensor(0.0802, grad_fn=<NllLossBackward0>)\n"
     ]
    }
   ],
   "source": [
    "'''\n",
    "Previously, our loop iterated over batches (xb, yb) like this:\n",
    "\n",
    "for i in range((n-1)//bs + 1):\n",
    "    xb,yb = train_ds[i*bs : i*bs+bs]\n",
    "    pred = model(xb)\n",
    "\n",
    "Now, our loop is much cleaner, as (xb, yb) are loaded automatically from the data loader:\n",
    "\n",
    "for xb,yb in train_dl:\n",
    "    pred = model(xb)\n",
    "'''\n",
    "model, opt = get_model()\n",
    "\n",
    "for epoch in range(epochs):\n",
    "    for xb, yb in train_dl:\n",
    "        pred = model(xb)\n",
    "        loss = loss_func(pred, yb)\n",
    "\n",
    "        loss.backward()\n",
    "        opt.step()\n",
    "        opt.zero_grad()\n",
    "\n",
    "print(loss_func(model(xb), yb))\n",
    "\n"
   ]
  },
  {
   "cell_type": "markdown",
   "id": "725e911d-849e-44d5-90ea-400f8733d431",
   "metadata": {},
   "source": [
    "Let’s now try to add the basic features necessary to create effective models in practice."
   ]
  },
  {
   "cell_type": "markdown",
   "id": "37711404-2d38-4242-8899-df5bcc4fb7d7",
   "metadata": {},
   "source": [
    "## Add validation\n",
    "\n",
    "In section 1, we were just trying to get a reasonable training loop set up for use on our training data. In reality, you always should also have a validation set, in order to identify if you are overfitting.\n",
    "\n",
    "Shuffling the training data is important to prevent correlation between batches and overfitting. On the other hand, the validation loss will be identical whether we shuffle the validation set or not. Since shuffling takes extra time, it makes no sense to shuffle the validation data.\n",
    "\n",
    "We’ll use a batch size for the validation set that is twice as large as that for the training set. This is because the validation set does not need backpropagation and thus takes less memory (it doesn’t need to store the gradients). We take advantage of this to use a larger batch size and compute the loss more quickly."
   ]
  },
  {
   "cell_type": "code",
   "execution_count": 44,
   "id": "625f6824-631b-417c-a30f-3f5843d7a311",
   "metadata": {},
   "outputs": [],
   "source": [
    "train_ds = TensorDataset(x_train, y_train)\n",
    "train_dl = DataLoader(train_ds, batch_size=bs, shuffle=True)\n",
    "\n",
    "valid_ds = TensorDataset(x_valid, y_valid)\n",
    "valid_dl = DataLoader(valid_ds, batch_size=bs * 2)"
   ]
  },
  {
   "cell_type": "markdown",
   "id": "d0ff57ac-885f-43fb-9be0-1f28b5b39a33",
   "metadata": {},
   "source": [
    "We will calculate and print the validation loss at the end of each epoch.\n",
    "\n",
    "(Note that we always call model.train() before training, and model.eval() before inference, because these are used by layers such as nn.BatchNorm2d and nn.Dropout to ensure appropriate behavior for these different phases.)"
   ]
  },
  {
   "cell_type": "code",
   "execution_count": 45,
   "id": "a193e2bc-29a1-4f04-9b07-be95e7b120b1",
   "metadata": {},
   "outputs": [
    {
     "name": "stdout",
     "output_type": "stream",
     "text": [
      "0 tensor(0.3327)\n",
      "1 tensor(0.3128)\n"
     ]
    }
   ],
   "source": [
    "model, opt = get_model()\n",
    "\n",
    "for epoch in range(epochs):\n",
    "    model.train()\n",
    "    for xb, yb in train_dl:\n",
    "        pred = model(xb)\n",
    "        loss = loss_func(pred, yb)\n",
    "\n",
    "        loss.backward()\n",
    "        opt.step()\n",
    "        opt.zero_grad()\n",
    "\n",
    "    model.eval()\n",
    "    with torch.no_grad():\n",
    "        valid_loss = sum(loss_func(model(xb), yb) for xb, yb in valid_dl)\n",
    "\n",
    "    print(epoch, valid_loss / len(valid_dl))"
   ]
  },
  {
   "cell_type": "markdown",
   "id": "4d0bfd6a-ff51-45cf-be88-e3f73041c81a",
   "metadata": {},
   "source": [
    "## Create fit() and get_data()\n",
    "\n",
    "We’ll now do a little refactoring of our own. Since we go through a similar process twice of calculating the loss for both the training set and the validation set, let’s make that into its own function, loss_batch, which computes the loss for one batch.\n",
    "\n",
    "We pass an optimizer in for the training set, and use it to perform backprop. For the validation set, we don’t pass an optimizer, so the method doesn’t perform backprop."
   ]
  },
  {
   "cell_type": "code",
   "execution_count": 46,
   "id": "7160b307-1e99-457a-8a73-7faf5efe0739",
   "metadata": {},
   "outputs": [],
   "source": [
    "def loss_batch(model, loss_func, xb, yb, opt=None):\n",
    "    loss = loss_func(model(xb), yb)\n",
    "\n",
    "    if opt is not None:\n",
    "        loss.backward()\n",
    "        opt.step()\n",
    "        opt.zero_grad()\n",
    "\n",
    "    return loss.item(), len(xb)"
   ]
  },
  {
   "cell_type": "markdown",
   "id": "61fc2ffd-6283-4123-90ad-9145a500f772",
   "metadata": {},
   "source": [
    "fit runs the necessary operations to train our model and compute the training and validation losses for each epoch."
   ]
  },
  {
   "cell_type": "code",
   "execution_count": 47,
   "id": "8affc5c7-60b0-4368-a67d-3a9e6384824f",
   "metadata": {},
   "outputs": [],
   "source": [
    "import numpy as np\n",
    "\n",
    "def fit(epochs, model, loss_func, opt, train_dl, valid_dl):\n",
    "    for epoch in range(epochs):\n",
    "        model.train()\n",
    "        for xb, yb in train_dl:\n",
    "            loss_batch(model, loss_func, xb, yb, opt)\n",
    "\n",
    "        model.eval()\n",
    "        with torch.no_grad():\n",
    "            losses, nums = zip(\n",
    "                *[loss_batch(model, loss_func, xb, yb) for xb, yb in valid_dl]\n",
    "            )\n",
    "        val_loss = np.sum(np.multiply(losses, nums)) / np.sum(nums)\n",
    "\n",
    "        print(epoch, val_loss)"
   ]
  },
  {
   "cell_type": "markdown",
   "id": "046d048f-c7c3-46bf-b6d8-1d81d3ab64d9",
   "metadata": {},
   "source": [
    "get_data returns dataloaders for the training and validation sets."
   ]
  },
  {
   "cell_type": "code",
   "execution_count": 48,
   "id": "247f7943-0d58-4b04-85f7-29d58e7ff26e",
   "metadata": {},
   "outputs": [],
   "source": [
    "def get_data(train_ds, valid_ds, bs):\n",
    "    return (\n",
    "        DataLoader(train_ds, batch_size=bs, shuffle=True),\n",
    "        DataLoader(valid_ds, batch_size=bs * 2),\n",
    "    )"
   ]
  },
  {
   "cell_type": "markdown",
   "id": "8078bc8a-dc17-4dcb-b1af-00aa141d7b2d",
   "metadata": {},
   "source": [
    "Now, our whole process of obtaining the data loaders and fitting the model can be run in 3 lines of code:"
   ]
  },
  {
   "cell_type": "code",
   "execution_count": 49,
   "id": "81821bb5-7c7b-4d0c-8146-08a05ad3b2fe",
   "metadata": {},
   "outputs": [
    {
     "name": "stdout",
     "output_type": "stream",
     "text": [
      "0 0.29080212817788126\n",
      "1 0.3040414673924446\n"
     ]
    }
   ],
   "source": [
    "train_dl, valid_dl = get_data(train_ds, valid_ds, bs)\n",
    "model, opt = get_model()\n",
    "fit(epochs, model, loss_func, opt, train_dl, valid_dl)"
   ]
  },
  {
   "cell_type": "markdown",
   "id": "74605f04-631f-4822-a64a-73db00319fb3",
   "metadata": {},
   "source": [
    "## Switch to CNN\n",
    "\n",
    "We are now going to build our neural network with three convolutional layers. Because none of the functions in the previous section assume anything about the model form, we’ll be able to use them to train a CNN without any modification.\n",
    "\n",
    "We will use PyTorch’s predefined Conv2d class as our convolutional layer. We define a CNN with 3 convolutional layers. Each convolution is followed by a ReLU. At the end, we perform an average pooling. (Note that view is PyTorch’s version of Numpy’s reshape)"
   ]
  },
  {
   "cell_type": "code",
   "execution_count": 50,
   "id": "1418a77c-1ce4-42f2-a132-bcf81e3af854",
   "metadata": {},
   "outputs": [],
   "source": [
    "class Mnist_CNN(nn.Module):\n",
    "    def __init__(self):\n",
    "        super().__init__()\n",
    "        self.conv1 = nn.Conv2d(1, 16, kernel_size=3, stride=2, padding=1)\n",
    "        self.conv2 = nn.Conv2d(16, 16, kernel_size=3, stride=2, padding=1)\n",
    "        self.conv3 = nn.Conv2d(16, 10, kernel_size=3, stride=2, padding=1)\n",
    "\n",
    "    def forward(self, xb):\n",
    "        xb = xb.view(-1, 1, 28, 28)\n",
    "        xb = F.relu(self.conv1(xb))\n",
    "        xb = F.relu(self.conv2(xb))\n",
    "        xb = F.relu(self.conv3(xb))\n",
    "        xb = F.avg_pool2d(xb, 4)\n",
    "        return xb.view(-1, xb.size(1))\n",
    "\n",
    "lr = 0.1"
   ]
  },
  {
   "cell_type": "markdown",
   "id": "5b6ca6e2-f893-4a13-a047-c2be99f9498e",
   "metadata": {},
   "source": [
    "Momentum is a variation on stochastic gradient descent that takes previous updates into account as well and generally leads to faster training."
   ]
  },
  {
   "cell_type": "code",
   "execution_count": 51,
   "id": "9fde3f93-a0bf-462d-8e85-54221653294b",
   "metadata": {},
   "outputs": [
    {
     "name": "stdout",
     "output_type": "stream",
     "text": [
      "0 0.3787200712442398\n",
      "1 0.27394107223153114\n"
     ]
    }
   ],
   "source": [
    "model = Mnist_CNN()\n",
    "opt = optim.SGD(model.parameters(), lr=lr, momentum=0.9)\n",
    "\n",
    "fit(epochs, model, loss_func, opt, train_dl, valid_dl)"
   ]
  },
  {
   "cell_type": "markdown",
   "id": "093ec9d6-db79-4ec7-96f9-444b6090c150",
   "metadata": {},
   "source": [
    "## using nn.Sequential\n",
    "\n",
    "torch.nn has another handy class we can use to simplify our code: Sequential . A Sequential object runs each of the modules contained within it, in a sequential manner. This is a simpler way of writing our neural network.\n",
    "\n",
    "To take advantage of this, we need to be able to easily define a custom layer from a given function. For instance, PyTorch doesn’t have a view layer, and we need to create one for our network. Lambda will create a layer that we can then use when defining a network with Sequential."
   ]
  },
  {
   "cell_type": "code",
   "execution_count": 52,
   "id": "ca5f859f-d1cb-4a8a-b325-4de8dc33a02c",
   "metadata": {},
   "outputs": [],
   "source": [
    "class Lambda(nn.Module):\n",
    "    def __init__(self, func):\n",
    "        super().__init__()\n",
    "        self.func = func\n",
    "\n",
    "    def forward(self, x):\n",
    "        return self.func(x)\n",
    "\n",
    "\n",
    "def preprocess(x):\n",
    "    return x.view(-1, 1, 28, 28)"
   ]
  },
  {
   "cell_type": "markdown",
   "id": "92a973f4-b1d6-4eb7-a44e-ee67dc2fb3d5",
   "metadata": {},
   "source": [
    "The model created with Sequential is simple:"
   ]
  },
  {
   "cell_type": "code",
   "execution_count": 53,
   "id": "18de1688-d1aa-41ce-b141-008f4b712ce2",
   "metadata": {},
   "outputs": [
    {
     "name": "stdout",
     "output_type": "stream",
     "text": [
      "0 0.3584332577347755\n",
      "1 0.24180121967792512\n"
     ]
    }
   ],
   "source": [
    "model = nn.Sequential(\n",
    "    Lambda(preprocess),\n",
    "    nn.Conv2d(1, 16, kernel_size=3, stride=2, padding=1),\n",
    "    nn.ReLU(),\n",
    "    nn.Conv2d(16, 16, kernel_size=3, stride=2, padding=1),\n",
    "    nn.ReLU(),\n",
    "    nn.Conv2d(16, 10, kernel_size=3, stride=2, padding=1),\n",
    "    nn.ReLU(),\n",
    "    nn.AvgPool2d(4),\n",
    "    Lambda(lambda x: x.view(x.size(0), -1)),\n",
    ")\n",
    "\n",
    "opt = optim.SGD(model.parameters(), lr=lr, momentum=0.9)\n",
    "\n",
    "fit(epochs, model, loss_func, opt, train_dl, valid_dl)"
   ]
  },
  {
   "cell_type": "markdown",
   "id": "5a7abd74-71f9-4bf4-8194-0653275479cb",
   "metadata": {},
   "source": [
    "## wrapping DataLoader\n",
    "\n",
    "Our CNN is fairly concise, but it only works with MNIST, because:\n",
    "It assumes the input is a 28*28 long vector\n",
    "\n",
    "It assumes that the final CNN grid size is 4*4 (since that’s the average pooling kernel size we used)\n",
    "\n",
    "Let’s get rid of these two assumptions, so our model works with any 2d single channel image. First, we can remove the initial Lambda layer by moving the data preprocessing into a generator:"
   ]
  },
  {
   "cell_type": "code",
   "execution_count": 54,
   "id": "bcd14c99-cb22-4746-9183-5a952144387b",
   "metadata": {},
   "outputs": [],
   "source": [
    "def preprocess(x, y):\n",
    "    return x.view(-1, 1, 28, 28), y\n",
    "\n",
    "\n",
    "class WrappedDataLoader:\n",
    "    def __init__(self, dl, func):\n",
    "        self.dl = dl\n",
    "        self.func = func\n",
    "\n",
    "    def __len__(self):\n",
    "        return len(self.dl)\n",
    "\n",
    "    def __iter__(self):\n",
    "        for b in self.dl:\n",
    "            yield (self.func(*b))\n",
    "\n",
    "train_dl, valid_dl = get_data(train_ds, valid_ds, bs)\n",
    "train_dl = WrappedDataLoader(train_dl, preprocess)\n",
    "valid_dl = WrappedDataLoader(valid_dl, preprocess)"
   ]
  },
  {
   "cell_type": "markdown",
   "id": "e93e8c6e-2b3f-4b1d-b103-3b290107ddc0",
   "metadata": {},
   "source": [
    "\n",
    "Next, we can replace nn.AvgPool2d with nn.AdaptiveAvgPool2d, which allows us to define the size of the output tensor we want, rather than the input tensor we have. As a result, our model will work with any size input."
   ]
  },
  {
   "cell_type": "code",
   "execution_count": 55,
   "id": "23c0af55-3632-4fab-a12f-5ee462a13b20",
   "metadata": {},
   "outputs": [],
   "source": [
    "model = nn.Sequential(\n",
    "    nn.Conv2d(1, 16, kernel_size=3, stride=2, padding=1),\n",
    "    nn.ReLU(),\n",
    "    nn.Conv2d(16, 16, kernel_size=3, stride=2, padding=1),\n",
    "    nn.ReLU(),\n",
    "    nn.Conv2d(16, 10, kernel_size=3, stride=2, padding=1),\n",
    "    nn.ReLU(),\n",
    "    nn.AdaptiveAvgPool2d(1),\n",
    "    Lambda(lambda x: x.view(x.size(0), -1)),\n",
    ")\n",
    "\n",
    "opt = optim.SGD(model.parameters(), lr=lr, momentum=0.9)"
   ]
  },
  {
   "cell_type": "code",
   "execution_count": 56,
   "id": "897bc248-464b-48d7-8782-ce5993694ccf",
   "metadata": {},
   "outputs": [
    {
     "name": "stdout",
     "output_type": "stream",
     "text": [
      "0 0.3174404988288879\n",
      "1 0.2653728190362453\n"
     ]
    }
   ],
   "source": [
    "fit(epochs, model, loss_func, opt, train_dl, valid_dl)"
   ]
  },
  {
   "cell_type": "markdown",
   "id": "fea7c35f-0765-4f50-addf-c801ff698231",
   "metadata": {},
   "source": [
    "## using your accelerator\n",
    "\n",
    "If you’re lucky enough to have access to an accelerator such as CUDA (you can rent one for about $0.50/hour from most cloud providers) you can use it to speed up your code. First check that your accelerator is working in Pytorch:"
   ]
  },
  {
   "cell_type": "code",
   "execution_count": 57,
   "id": "04555e9b-4126-4ea1-af12-79c1fdb58e78",
   "metadata": {},
   "outputs": [
    {
     "name": "stdout",
     "output_type": "stream",
     "text": [
      "Using mps device\n"
     ]
    }
   ],
   "source": [
    "# If the current accelerator is available, we will use it. Otherwise, we use the CPU.\n",
    "device = torch.accelerator.current_accelerator().type if torch.accelerator.is_available() else \"cpu\"\n",
    "print(f\"Using {device} device\")"
   ]
  },
  {
   "cell_type": "markdown",
   "id": "b91eb552-0472-4d91-9de2-d2efe484780a",
   "metadata": {},
   "source": [
    "Let’s update preprocess to move batches to the accelerator:"
   ]
  },
  {
   "cell_type": "code",
   "execution_count": 58,
   "id": "028adaf1-92db-4ceb-96dd-7d6f1214d358",
   "metadata": {},
   "outputs": [],
   "source": [
    "def preprocess(x, y):\n",
    "    return x.view(-1, 1, 28, 28).to(device), y.to(device)\n",
    "\n",
    "\n",
    "train_dl, valid_dl = get_data(train_ds, valid_ds, bs)\n",
    "train_dl = WrappedDataLoader(train_dl, preprocess)\n",
    "valid_dl = WrappedDataLoader(valid_dl, preprocess)"
   ]
  },
  {
   "cell_type": "markdown",
   "id": "6a74a72c-5ac0-427a-a662-4a4d015c4c61",
   "metadata": {},
   "source": [
    "\n",
    "Finally, we can move our model to the accelerator."
   ]
  },
  {
   "cell_type": "code",
   "execution_count": 59,
   "id": "947b9ec8-2e13-4613-8fc4-3c17f70b5443",
   "metadata": {},
   "outputs": [],
   "source": [
    "model.to(device)\n",
    "opt = optim.SGD(model.parameters(), lr=lr, momentum=0.9)"
   ]
  },
  {
   "cell_type": "markdown",
   "id": "97e72aa0-8947-42ec-a0df-fb185f7cd017",
   "metadata": {},
   "source": [
    "You should find it runs faster now:"
   ]
  },
  {
   "cell_type": "code",
   "execution_count": 60,
   "id": "9928b68e-aca7-4d46-94da-7be3d6a13d04",
   "metadata": {},
   "outputs": [
    {
     "name": "stdout",
     "output_type": "stream",
     "text": [
      "0 0.20099848241209983\n",
      "1 0.16803986132442952\n"
     ]
    }
   ],
   "source": [
    "fit(epochs, model, loss_func, opt, train_dl, valid_dl)"
   ]
  },
  {
   "cell_type": "code",
   "execution_count": null,
   "id": "bd300405-9a86-419c-8141-3e37f221a0ed",
   "metadata": {},
   "outputs": [],
   "source": []
  }
 ],
 "metadata": {
  "kernelspec": {
   "display_name": "torch",
   "language": "python",
   "name": "torch"
  },
  "language_info": {
   "codemirror_mode": {
    "name": "ipython",
    "version": 3
   },
   "file_extension": ".py",
   "mimetype": "text/x-python",
   "name": "python",
   "nbconvert_exporter": "python",
   "pygments_lexer": "ipython3",
   "version": "3.12.11"
  }
 },
 "nbformat": 4,
 "nbformat_minor": 5
}
